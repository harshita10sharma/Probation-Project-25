{
  "cells": [
    {
      "cell_type": "code",
      "execution_count": 111,
      "metadata": {
        "colab": {
          "base_uri": "https://localhost:8080/"
        },
        "id": "QtEOy38F1EkE",
        "outputId": "d128602e-4789-41dc-b518-54c0edede89d"
      },
      "outputs": [
        {
          "output_type": "stream",
          "name": "stdout",
          "text": [
            "Drive already mounted at /content/drive; to attempt to forcibly remount, call drive.mount(\"/content/drive\", force_remount=True).\n"
          ]
        }
      ],
      "source": [
        "from google.colab import drive\n",
        "drive.mount('/content/drive')"
      ]
    },
    {
      "cell_type": "code",
      "execution_count": 112,
      "metadata": {
        "id": "7laAssuZ1dtI"
      },
      "outputs": [],
      "source": [
        "import pandas as pd\n",
        "import numpy as np\n",
        "import matplotlib.pyplot as plt\n",
        "import seaborn as sns\n",
        "import sklearn"
      ]
    },
    {
      "cell_type": "code",
      "source": [
        "print(\"numpy\",np.__version__)\n",
        "print(\"pandas\",pd.__version__)\n",
        "print(\"sklearn\",sklearn.__version__)\n",
        "import flask\n",
        "print(\"flask\",flask.__version__)"
      ],
      "metadata": {
        "colab": {
          "base_uri": "https://localhost:8080/"
        },
        "id": "ezVgxa2piRYh",
        "outputId": "f0a8f8c1-31b1-401d-8f2e-de10609996b0"
      },
      "execution_count": 113,
      "outputs": [
        {
          "output_type": "stream",
          "name": "stdout",
          "text": [
            "numpy 2.0.2\n",
            "pandas 2.2.2\n",
            "sklearn 1.6.1\n",
            "flask 3.1.2\n"
          ]
        },
        {
          "output_type": "stream",
          "name": "stderr",
          "text": [
            "/tmp/ipython-input-2389353287.py:5: DeprecationWarning: The '__version__' attribute is deprecated and will be removed in Flask 3.2. Use feature detection or 'importlib.metadata.version(\"flask\")' instead.\n",
            "  print(\"flask\",flask.__version__)\n"
          ]
        }
      ]
    },
    {
      "cell_type": "code",
      "execution_count": 114,
      "metadata": {
        "id": "yEZm1SGt1f6h"
      },
      "outputs": [],
      "source": [
        "data = pd.read_csv('/content/drive/MyDrive/ML learning/Fuel Cosumption - Sheet1.csv')"
      ]
    },
    {
      "cell_type": "code",
      "execution_count": 115,
      "metadata": {
        "colab": {
          "base_uri": "https://localhost:8080/",
          "height": 423
        },
        "id": "rDTfP-p111eT",
        "outputId": "4db4ff0f-3bc4-48fe-97fc-203801c9efb7"
      },
      "outputs": [
        {
          "output_type": "execute_result",
          "data": {
            "text/plain": [
              "     Year   MAKE           MODEL             VEHICLE CLASS  ENGINE SIZE  \\\n",
              "0    2000  ACURA           1.6EL                   COMPACT          1.6   \n",
              "1    2000  ACURA           1.6EL                   COMPACT          1.6   \n",
              "2    2000  ACURA           3.2TL                  MID-SIZE          3.2   \n",
              "3    2000  ACURA           3.5RL                  MID-SIZE          3.5   \n",
              "4    2000  ACURA         INTEGRA                SUBCOMPACT          1.8   \n",
              "..    ...    ...             ...                       ...          ...   \n",
              "634  2000  VOLVO   V70 AWD TURBO  STATION WAGON - MID-SIZE          2.4   \n",
              "635  2000  VOLVO   V70 GLT TURBO  STATION WAGON - MID-SIZE          2.4   \n",
              "636  2000  VOLVO    V70 T5 TURBO  STATION WAGON - MID-SIZE          2.3   \n",
              "637  2000  VOLVO    V70 T5 TURBO  STATION WAGON - MID-SIZE          2.3   \n",
              "638  2000  VOLVO  V70R AWD TURBO  STATION WAGON - MID-SIZE          2.4   \n",
              "\n",
              "     CYLINDERS TRANSMISSION FUEL  FUEL CONSUMPTION  COEMISSIONS  \n",
              "0            4           A4    X              10.5          216  \n",
              "1            4           M5    X               9.8          205  \n",
              "2            6          AS5    Z              13.7          265  \n",
              "3            6           A4    Z              15.0          301  \n",
              "4            4           A4    X              11.4          230  \n",
              "..         ...          ...  ...               ...          ...  \n",
              "634          5           A4    Z              14.4          288  \n",
              "635          5           A4    Z              13.6          274  \n",
              "636          5           A4    Z              13.9          274  \n",
              "637          5           M5    Z              13.0          260  \n",
              "638          5           A5    Z              14.7          299  \n",
              "\n",
              "[639 rows x 10 columns]"
            ],
            "text/html": [
              "\n",
              "  <div id=\"df-c01f8ef5-61bd-433b-9604-6038b2ced3f3\" class=\"colab-df-container\">\n",
              "    <div>\n",
              "<style scoped>\n",
              "    .dataframe tbody tr th:only-of-type {\n",
              "        vertical-align: middle;\n",
              "    }\n",
              "\n",
              "    .dataframe tbody tr th {\n",
              "        vertical-align: top;\n",
              "    }\n",
              "\n",
              "    .dataframe thead th {\n",
              "        text-align: right;\n",
              "    }\n",
              "</style>\n",
              "<table border=\"1\" class=\"dataframe\">\n",
              "  <thead>\n",
              "    <tr style=\"text-align: right;\">\n",
              "      <th></th>\n",
              "      <th>Year</th>\n",
              "      <th>MAKE</th>\n",
              "      <th>MODEL</th>\n",
              "      <th>VEHICLE CLASS</th>\n",
              "      <th>ENGINE SIZE</th>\n",
              "      <th>CYLINDERS</th>\n",
              "      <th>TRANSMISSION</th>\n",
              "      <th>FUEL</th>\n",
              "      <th>FUEL CONSUMPTION</th>\n",
              "      <th>COEMISSIONS</th>\n",
              "    </tr>\n",
              "  </thead>\n",
              "  <tbody>\n",
              "    <tr>\n",
              "      <th>0</th>\n",
              "      <td>2000</td>\n",
              "      <td>ACURA</td>\n",
              "      <td>1.6EL</td>\n",
              "      <td>COMPACT</td>\n",
              "      <td>1.6</td>\n",
              "      <td>4</td>\n",
              "      <td>A4</td>\n",
              "      <td>X</td>\n",
              "      <td>10.5</td>\n",
              "      <td>216</td>\n",
              "    </tr>\n",
              "    <tr>\n",
              "      <th>1</th>\n",
              "      <td>2000</td>\n",
              "      <td>ACURA</td>\n",
              "      <td>1.6EL</td>\n",
              "      <td>COMPACT</td>\n",
              "      <td>1.6</td>\n",
              "      <td>4</td>\n",
              "      <td>M5</td>\n",
              "      <td>X</td>\n",
              "      <td>9.8</td>\n",
              "      <td>205</td>\n",
              "    </tr>\n",
              "    <tr>\n",
              "      <th>2</th>\n",
              "      <td>2000</td>\n",
              "      <td>ACURA</td>\n",
              "      <td>3.2TL</td>\n",
              "      <td>MID-SIZE</td>\n",
              "      <td>3.2</td>\n",
              "      <td>6</td>\n",
              "      <td>AS5</td>\n",
              "      <td>Z</td>\n",
              "      <td>13.7</td>\n",
              "      <td>265</td>\n",
              "    </tr>\n",
              "    <tr>\n",
              "      <th>3</th>\n",
              "      <td>2000</td>\n",
              "      <td>ACURA</td>\n",
              "      <td>3.5RL</td>\n",
              "      <td>MID-SIZE</td>\n",
              "      <td>3.5</td>\n",
              "      <td>6</td>\n",
              "      <td>A4</td>\n",
              "      <td>Z</td>\n",
              "      <td>15.0</td>\n",
              "      <td>301</td>\n",
              "    </tr>\n",
              "    <tr>\n",
              "      <th>4</th>\n",
              "      <td>2000</td>\n",
              "      <td>ACURA</td>\n",
              "      <td>INTEGRA</td>\n",
              "      <td>SUBCOMPACT</td>\n",
              "      <td>1.8</td>\n",
              "      <td>4</td>\n",
              "      <td>A4</td>\n",
              "      <td>X</td>\n",
              "      <td>11.4</td>\n",
              "      <td>230</td>\n",
              "    </tr>\n",
              "    <tr>\n",
              "      <th>...</th>\n",
              "      <td>...</td>\n",
              "      <td>...</td>\n",
              "      <td>...</td>\n",
              "      <td>...</td>\n",
              "      <td>...</td>\n",
              "      <td>...</td>\n",
              "      <td>...</td>\n",
              "      <td>...</td>\n",
              "      <td>...</td>\n",
              "      <td>...</td>\n",
              "    </tr>\n",
              "    <tr>\n",
              "      <th>634</th>\n",
              "      <td>2000</td>\n",
              "      <td>VOLVO</td>\n",
              "      <td>V70 AWD TURBO</td>\n",
              "      <td>STATION WAGON - MID-SIZE</td>\n",
              "      <td>2.4</td>\n",
              "      <td>5</td>\n",
              "      <td>A4</td>\n",
              "      <td>Z</td>\n",
              "      <td>14.4</td>\n",
              "      <td>288</td>\n",
              "    </tr>\n",
              "    <tr>\n",
              "      <th>635</th>\n",
              "      <td>2000</td>\n",
              "      <td>VOLVO</td>\n",
              "      <td>V70 GLT TURBO</td>\n",
              "      <td>STATION WAGON - MID-SIZE</td>\n",
              "      <td>2.4</td>\n",
              "      <td>5</td>\n",
              "      <td>A4</td>\n",
              "      <td>Z</td>\n",
              "      <td>13.6</td>\n",
              "      <td>274</td>\n",
              "    </tr>\n",
              "    <tr>\n",
              "      <th>636</th>\n",
              "      <td>2000</td>\n",
              "      <td>VOLVO</td>\n",
              "      <td>V70 T5 TURBO</td>\n",
              "      <td>STATION WAGON - MID-SIZE</td>\n",
              "      <td>2.3</td>\n",
              "      <td>5</td>\n",
              "      <td>A4</td>\n",
              "      <td>Z</td>\n",
              "      <td>13.9</td>\n",
              "      <td>274</td>\n",
              "    </tr>\n",
              "    <tr>\n",
              "      <th>637</th>\n",
              "      <td>2000</td>\n",
              "      <td>VOLVO</td>\n",
              "      <td>V70 T5 TURBO</td>\n",
              "      <td>STATION WAGON - MID-SIZE</td>\n",
              "      <td>2.3</td>\n",
              "      <td>5</td>\n",
              "      <td>M5</td>\n",
              "      <td>Z</td>\n",
              "      <td>13.0</td>\n",
              "      <td>260</td>\n",
              "    </tr>\n",
              "    <tr>\n",
              "      <th>638</th>\n",
              "      <td>2000</td>\n",
              "      <td>VOLVO</td>\n",
              "      <td>V70R AWD TURBO</td>\n",
              "      <td>STATION WAGON - MID-SIZE</td>\n",
              "      <td>2.4</td>\n",
              "      <td>5</td>\n",
              "      <td>A5</td>\n",
              "      <td>Z</td>\n",
              "      <td>14.7</td>\n",
              "      <td>299</td>\n",
              "    </tr>\n",
              "  </tbody>\n",
              "</table>\n",
              "<p>639 rows × 10 columns</p>\n",
              "</div>\n",
              "    <div class=\"colab-df-buttons\">\n",
              "\n",
              "  <div class=\"colab-df-container\">\n",
              "    <button class=\"colab-df-convert\" onclick=\"convertToInteractive('df-c01f8ef5-61bd-433b-9604-6038b2ced3f3')\"\n",
              "            title=\"Convert this dataframe to an interactive table.\"\n",
              "            style=\"display:none;\">\n",
              "\n",
              "  <svg xmlns=\"http://www.w3.org/2000/svg\" height=\"24px\" viewBox=\"0 -960 960 960\">\n",
              "    <path d=\"M120-120v-720h720v720H120Zm60-500h600v-160H180v160Zm220 220h160v-160H400v160Zm0 220h160v-160H400v160ZM180-400h160v-160H180v160Zm440 0h160v-160H620v160ZM180-180h160v-160H180v160Zm440 0h160v-160H620v160Z\"/>\n",
              "  </svg>\n",
              "    </button>\n",
              "\n",
              "  <style>\n",
              "    .colab-df-container {\n",
              "      display:flex;\n",
              "      gap: 12px;\n",
              "    }\n",
              "\n",
              "    .colab-df-convert {\n",
              "      background-color: #E8F0FE;\n",
              "      border: none;\n",
              "      border-radius: 50%;\n",
              "      cursor: pointer;\n",
              "      display: none;\n",
              "      fill: #1967D2;\n",
              "      height: 32px;\n",
              "      padding: 0 0 0 0;\n",
              "      width: 32px;\n",
              "    }\n",
              "\n",
              "    .colab-df-convert:hover {\n",
              "      background-color: #E2EBFA;\n",
              "      box-shadow: 0px 1px 2px rgba(60, 64, 67, 0.3), 0px 1px 3px 1px rgba(60, 64, 67, 0.15);\n",
              "      fill: #174EA6;\n",
              "    }\n",
              "\n",
              "    .colab-df-buttons div {\n",
              "      margin-bottom: 4px;\n",
              "    }\n",
              "\n",
              "    [theme=dark] .colab-df-convert {\n",
              "      background-color: #3B4455;\n",
              "      fill: #D2E3FC;\n",
              "    }\n",
              "\n",
              "    [theme=dark] .colab-df-convert:hover {\n",
              "      background-color: #434B5C;\n",
              "      box-shadow: 0px 1px 3px 1px rgba(0, 0, 0, 0.15);\n",
              "      filter: drop-shadow(0px 1px 2px rgba(0, 0, 0, 0.3));\n",
              "      fill: #FFFFFF;\n",
              "    }\n",
              "  </style>\n",
              "\n",
              "    <script>\n",
              "      const buttonEl =\n",
              "        document.querySelector('#df-c01f8ef5-61bd-433b-9604-6038b2ced3f3 button.colab-df-convert');\n",
              "      buttonEl.style.display =\n",
              "        google.colab.kernel.accessAllowed ? 'block' : 'none';\n",
              "\n",
              "      async function convertToInteractive(key) {\n",
              "        const element = document.querySelector('#df-c01f8ef5-61bd-433b-9604-6038b2ced3f3');\n",
              "        const dataTable =\n",
              "          await google.colab.kernel.invokeFunction('convertToInteractive',\n",
              "                                                    [key], {});\n",
              "        if (!dataTable) return;\n",
              "\n",
              "        const docLinkHtml = 'Like what you see? Visit the ' +\n",
              "          '<a target=\"_blank\" href=https://colab.research.google.com/notebooks/data_table.ipynb>data table notebook</a>'\n",
              "          + ' to learn more about interactive tables.';\n",
              "        element.innerHTML = '';\n",
              "        dataTable['output_type'] = 'display_data';\n",
              "        await google.colab.output.renderOutput(dataTable, element);\n",
              "        const docLink = document.createElement('div');\n",
              "        docLink.innerHTML = docLinkHtml;\n",
              "        element.appendChild(docLink);\n",
              "      }\n",
              "    </script>\n",
              "  </div>\n",
              "\n",
              "\n",
              "    <div id=\"df-c28bb73f-b539-4c33-9cb9-939472f541e8\">\n",
              "      <button class=\"colab-df-quickchart\" onclick=\"quickchart('df-c28bb73f-b539-4c33-9cb9-939472f541e8')\"\n",
              "                title=\"Suggest charts\"\n",
              "                style=\"display:none;\">\n",
              "\n",
              "<svg xmlns=\"http://www.w3.org/2000/svg\" height=\"24px\"viewBox=\"0 0 24 24\"\n",
              "     width=\"24px\">\n",
              "    <g>\n",
              "        <path d=\"M19 3H5c-1.1 0-2 .9-2 2v14c0 1.1.9 2 2 2h14c1.1 0 2-.9 2-2V5c0-1.1-.9-2-2-2zM9 17H7v-7h2v7zm4 0h-2V7h2v10zm4 0h-2v-4h2v4z\"/>\n",
              "    </g>\n",
              "</svg>\n",
              "      </button>\n",
              "\n",
              "<style>\n",
              "  .colab-df-quickchart {\n",
              "      --bg-color: #E8F0FE;\n",
              "      --fill-color: #1967D2;\n",
              "      --hover-bg-color: #E2EBFA;\n",
              "      --hover-fill-color: #174EA6;\n",
              "      --disabled-fill-color: #AAA;\n",
              "      --disabled-bg-color: #DDD;\n",
              "  }\n",
              "\n",
              "  [theme=dark] .colab-df-quickchart {\n",
              "      --bg-color: #3B4455;\n",
              "      --fill-color: #D2E3FC;\n",
              "      --hover-bg-color: #434B5C;\n",
              "      --hover-fill-color: #FFFFFF;\n",
              "      --disabled-bg-color: #3B4455;\n",
              "      --disabled-fill-color: #666;\n",
              "  }\n",
              "\n",
              "  .colab-df-quickchart {\n",
              "    background-color: var(--bg-color);\n",
              "    border: none;\n",
              "    border-radius: 50%;\n",
              "    cursor: pointer;\n",
              "    display: none;\n",
              "    fill: var(--fill-color);\n",
              "    height: 32px;\n",
              "    padding: 0;\n",
              "    width: 32px;\n",
              "  }\n",
              "\n",
              "  .colab-df-quickchart:hover {\n",
              "    background-color: var(--hover-bg-color);\n",
              "    box-shadow: 0 1px 2px rgba(60, 64, 67, 0.3), 0 1px 3px 1px rgba(60, 64, 67, 0.15);\n",
              "    fill: var(--button-hover-fill-color);\n",
              "  }\n",
              "\n",
              "  .colab-df-quickchart-complete:disabled,\n",
              "  .colab-df-quickchart-complete:disabled:hover {\n",
              "    background-color: var(--disabled-bg-color);\n",
              "    fill: var(--disabled-fill-color);\n",
              "    box-shadow: none;\n",
              "  }\n",
              "\n",
              "  .colab-df-spinner {\n",
              "    border: 2px solid var(--fill-color);\n",
              "    border-color: transparent;\n",
              "    border-bottom-color: var(--fill-color);\n",
              "    animation:\n",
              "      spin 1s steps(1) infinite;\n",
              "  }\n",
              "\n",
              "  @keyframes spin {\n",
              "    0% {\n",
              "      border-color: transparent;\n",
              "      border-bottom-color: var(--fill-color);\n",
              "      border-left-color: var(--fill-color);\n",
              "    }\n",
              "    20% {\n",
              "      border-color: transparent;\n",
              "      border-left-color: var(--fill-color);\n",
              "      border-top-color: var(--fill-color);\n",
              "    }\n",
              "    30% {\n",
              "      border-color: transparent;\n",
              "      border-left-color: var(--fill-color);\n",
              "      border-top-color: var(--fill-color);\n",
              "      border-right-color: var(--fill-color);\n",
              "    }\n",
              "    40% {\n",
              "      border-color: transparent;\n",
              "      border-right-color: var(--fill-color);\n",
              "      border-top-color: var(--fill-color);\n",
              "    }\n",
              "    60% {\n",
              "      border-color: transparent;\n",
              "      border-right-color: var(--fill-color);\n",
              "    }\n",
              "    80% {\n",
              "      border-color: transparent;\n",
              "      border-right-color: var(--fill-color);\n",
              "      border-bottom-color: var(--fill-color);\n",
              "    }\n",
              "    90% {\n",
              "      border-color: transparent;\n",
              "      border-bottom-color: var(--fill-color);\n",
              "    }\n",
              "  }\n",
              "</style>\n",
              "\n",
              "      <script>\n",
              "        async function quickchart(key) {\n",
              "          const quickchartButtonEl =\n",
              "            document.querySelector('#' + key + ' button');\n",
              "          quickchartButtonEl.disabled = true;  // To prevent multiple clicks.\n",
              "          quickchartButtonEl.classList.add('colab-df-spinner');\n",
              "          try {\n",
              "            const charts = await google.colab.kernel.invokeFunction(\n",
              "                'suggestCharts', [key], {});\n",
              "          } catch (error) {\n",
              "            console.error('Error during call to suggestCharts:', error);\n",
              "          }\n",
              "          quickchartButtonEl.classList.remove('colab-df-spinner');\n",
              "          quickchartButtonEl.classList.add('colab-df-quickchart-complete');\n",
              "        }\n",
              "        (() => {\n",
              "          let quickchartButtonEl =\n",
              "            document.querySelector('#df-c28bb73f-b539-4c33-9cb9-939472f541e8 button');\n",
              "          quickchartButtonEl.style.display =\n",
              "            google.colab.kernel.accessAllowed ? 'block' : 'none';\n",
              "        })();\n",
              "      </script>\n",
              "    </div>\n",
              "\n",
              "  <div id=\"id_b45b2193-cf91-4313-b7d4-a4862f4215e2\">\n",
              "    <style>\n",
              "      .colab-df-generate {\n",
              "        background-color: #E8F0FE;\n",
              "        border: none;\n",
              "        border-radius: 50%;\n",
              "        cursor: pointer;\n",
              "        display: none;\n",
              "        fill: #1967D2;\n",
              "        height: 32px;\n",
              "        padding: 0 0 0 0;\n",
              "        width: 32px;\n",
              "      }\n",
              "\n",
              "      .colab-df-generate:hover {\n",
              "        background-color: #E2EBFA;\n",
              "        box-shadow: 0px 1px 2px rgba(60, 64, 67, 0.3), 0px 1px 3px 1px rgba(60, 64, 67, 0.15);\n",
              "        fill: #174EA6;\n",
              "      }\n",
              "\n",
              "      [theme=dark] .colab-df-generate {\n",
              "        background-color: #3B4455;\n",
              "        fill: #D2E3FC;\n",
              "      }\n",
              "\n",
              "      [theme=dark] .colab-df-generate:hover {\n",
              "        background-color: #434B5C;\n",
              "        box-shadow: 0px 1px 3px 1px rgba(0, 0, 0, 0.15);\n",
              "        filter: drop-shadow(0px 1px 2px rgba(0, 0, 0, 0.3));\n",
              "        fill: #FFFFFF;\n",
              "      }\n",
              "    </style>\n",
              "    <button class=\"colab-df-generate\" onclick=\"generateWithVariable('data')\"\n",
              "            title=\"Generate code using this dataframe.\"\n",
              "            style=\"display:none;\">\n",
              "\n",
              "  <svg xmlns=\"http://www.w3.org/2000/svg\" height=\"24px\"viewBox=\"0 0 24 24\"\n",
              "       width=\"24px\">\n",
              "    <path d=\"M7,19H8.4L18.45,9,17,7.55,7,17.6ZM5,21V16.75L18.45,3.32a2,2,0,0,1,2.83,0l1.4,1.43a1.91,1.91,0,0,1,.58,1.4,1.91,1.91,0,0,1-.58,1.4L9.25,21ZM18.45,9,17,7.55Zm-12,3A5.31,5.31,0,0,0,4.9,8.1,5.31,5.31,0,0,0,1,6.5,5.31,5.31,0,0,0,4.9,4.9,5.31,5.31,0,0,0,6.5,1,5.31,5.31,0,0,0,8.1,4.9,5.31,5.31,0,0,0,12,6.5,5.46,5.46,0,0,0,6.5,12Z\"/>\n",
              "  </svg>\n",
              "    </button>\n",
              "    <script>\n",
              "      (() => {\n",
              "      const buttonEl =\n",
              "        document.querySelector('#id_b45b2193-cf91-4313-b7d4-a4862f4215e2 button.colab-df-generate');\n",
              "      buttonEl.style.display =\n",
              "        google.colab.kernel.accessAllowed ? 'block' : 'none';\n",
              "\n",
              "      buttonEl.onclick = () => {\n",
              "        google.colab.notebook.generateWithVariable('data');\n",
              "      }\n",
              "      })();\n",
              "    </script>\n",
              "  </div>\n",
              "\n",
              "    </div>\n",
              "  </div>\n"
            ],
            "application/vnd.google.colaboratory.intrinsic+json": {
              "type": "dataframe",
              "variable_name": "data",
              "summary": "{\n  \"name\": \"data\",\n  \"rows\": 639,\n  \"fields\": [\n    {\n      \"column\": \"Year\",\n      \"properties\": {\n        \"dtype\": \"number\",\n        \"std\": 0,\n        \"min\": 2000,\n        \"max\": 2000,\n        \"num_unique_values\": 1,\n        \"samples\": [\n          2000\n        ],\n        \"semantic_type\": \"\",\n        \"description\": \"\"\n      }\n    },\n    {\n      \"column\": \"MAKE\",\n      \"properties\": {\n        \"dtype\": \"category\",\n        \"num_unique_values\": 36,\n        \"samples\": [\n          \"VOLVO\"\n        ],\n        \"semantic_type\": \"\",\n        \"description\": \"\"\n      }\n    },\n    {\n      \"column\": \"MODEL\",\n      \"properties\": {\n        \"dtype\": \"string\",\n        \"num_unique_values\": 328,\n        \"samples\": [\n          \"ML 320\"\n        ],\n        \"semantic_type\": \"\",\n        \"description\": \"\"\n      }\n    },\n    {\n      \"column\": \"VEHICLE CLASS\",\n      \"properties\": {\n        \"dtype\": \"category\",\n        \"num_unique_values\": 14,\n        \"samples\": [\n          \"VAN - CARGO\"\n        ],\n        \"semantic_type\": \"\",\n        \"description\": \"\"\n      }\n    },\n    {\n      \"column\": \"ENGINE SIZE\",\n      \"properties\": {\n        \"dtype\": \"number\",\n        \"std\": 1.231012171543639,\n        \"min\": 1.0,\n        \"max\": 8.0,\n        \"num_unique_values\": 40,\n        \"samples\": [\n          6.0\n        ],\n        \"semantic_type\": \"\",\n        \"description\": \"\"\n      }\n    },\n    {\n      \"column\": \"CYLINDERS\",\n      \"properties\": {\n        \"dtype\": \"number\",\n        \"std\": 1,\n        \"min\": 3,\n        \"max\": 12,\n        \"num_unique_values\": 7,\n        \"samples\": [\n          4\n        ],\n        \"semantic_type\": \"\",\n        \"description\": \"\"\n      }\n    },\n    {\n      \"column\": \"TRANSMISSION\",\n      \"properties\": {\n        \"dtype\": \"category\",\n        \"num_unique_values\": 8,\n        \"samples\": [\n          \"M5\"\n        ],\n        \"semantic_type\": \"\",\n        \"description\": \"\"\n      }\n    },\n    {\n      \"column\": \"FUEL\",\n      \"properties\": {\n        \"dtype\": \"category\",\n        \"num_unique_values\": 5,\n        \"samples\": [\n          \"Z\"\n        ],\n        \"semantic_type\": \"\",\n        \"description\": \"\"\n      }\n    },\n    {\n      \"column\": \"FUEL CONSUMPTION\",\n      \"properties\": {\n        \"dtype\": \"number\",\n        \"std\": 3.30704376725196,\n        \"min\": 4.9,\n        \"max\": 30.2,\n        \"num_unique_values\": 124,\n        \"samples\": [\n          13.1\n        ],\n        \"semantic_type\": \"\",\n        \"description\": \"\"\n      }\n    },\n    {\n      \"column\": \"COEMISSIONS\",\n      \"properties\": {\n        \"dtype\": \"number\",\n        \"std\": 65,\n        \"min\": 104,\n        \"max\": 582,\n        \"num_unique_values\": 116,\n        \"samples\": [\n          474\n        ],\n        \"semantic_type\": \"\",\n        \"description\": \"\"\n      }\n    }\n  ]\n}"
            }
          },
          "metadata": {},
          "execution_count": 115
        }
      ],
      "source": [
        "data"
      ]
    },
    {
      "cell_type": "code",
      "execution_count": 116,
      "metadata": {
        "colab": {
          "base_uri": "https://localhost:8080/"
        },
        "id": "W3it4Ts513KB",
        "outputId": "5524566d-a05f-4bf8-b53f-63e83ebabe0d"
      },
      "outputs": [
        {
          "output_type": "stream",
          "name": "stdout",
          "text": [
            "<class 'pandas.core.frame.DataFrame'>\n",
            "RangeIndex: 639 entries, 0 to 638\n",
            "Data columns (total 10 columns):\n",
            " #   Column            Non-Null Count  Dtype  \n",
            "---  ------            --------------  -----  \n",
            " 0   Year              639 non-null    int64  \n",
            " 1   MAKE              639 non-null    object \n",
            " 2   MODEL             639 non-null    object \n",
            " 3   VEHICLE CLASS     639 non-null    object \n",
            " 4   ENGINE SIZE       639 non-null    float64\n",
            " 5   CYLINDERS         639 non-null    int64  \n",
            " 6   TRANSMISSION      639 non-null    object \n",
            " 7   FUEL              639 non-null    object \n",
            " 8   FUEL CONSUMPTION  639 non-null    float64\n",
            " 9   COEMISSIONS       639 non-null    int64  \n",
            "dtypes: float64(2), int64(3), object(5)\n",
            "memory usage: 50.1+ KB\n",
            "None\n"
          ]
        }
      ],
      "source": [
        "print(data.info())"
      ]
    },
    {
      "cell_type": "code",
      "execution_count": 117,
      "metadata": {
        "colab": {
          "base_uri": "https://localhost:8080/"
        },
        "id": "ryTg6CM52JRV",
        "outputId": "d173ca0d-8b6e-42f3-f9a3-a021695865b3"
      },
      "outputs": [
        {
          "output_type": "stream",
          "name": "stdout",
          "text": [
            "      Year   MAKE  MODEL  VEHICLE CLASS  ENGINE SIZE  CYLINDERS  TRANSMISSION  \\\n",
            "0    False  False  False          False        False      False         False   \n",
            "1    False  False  False          False        False      False         False   \n",
            "2    False  False  False          False        False      False         False   \n",
            "3    False  False  False          False        False      False         False   \n",
            "4    False  False  False          False        False      False         False   \n",
            "..     ...    ...    ...            ...          ...        ...           ...   \n",
            "634  False  False  False          False        False      False         False   \n",
            "635  False  False  False          False        False      False         False   \n",
            "636  False  False  False          False        False      False         False   \n",
            "637  False  False  False          False        False      False         False   \n",
            "638  False  False  False          False        False      False         False   \n",
            "\n",
            "      FUEL  FUEL CONSUMPTION  COEMISSIONS  \n",
            "0    False             False        False  \n",
            "1    False             False        False  \n",
            "2    False             False        False  \n",
            "3    False             False        False  \n",
            "4    False             False        False  \n",
            "..     ...               ...          ...  \n",
            "634  False             False        False  \n",
            "635  False             False        False  \n",
            "636  False             False        False  \n",
            "637  False             False        False  \n",
            "638  False             False        False  \n",
            "\n",
            "[639 rows x 10 columns]\n"
          ]
        }
      ],
      "source": [
        "print(data.isna())"
      ]
    },
    {
      "cell_type": "code",
      "execution_count": 118,
      "metadata": {
        "colab": {
          "base_uri": "https://localhost:8080/"
        },
        "id": "kwaaupSG3-oe",
        "outputId": "17ea3ee3-5f78-4f02-b173-89cd690ef197"
      },
      "outputs": [
        {
          "output_type": "stream",
          "name": "stdout",
          "text": [
            "Year                0\n",
            "MAKE                0\n",
            "MODEL               0\n",
            "VEHICLE CLASS       0\n",
            "ENGINE SIZE         0\n",
            "CYLINDERS           0\n",
            "TRANSMISSION        0\n",
            "FUEL                0\n",
            "FUEL CONSUMPTION    0\n",
            "COEMISSIONS         0\n",
            "dtype: int64\n"
          ]
        }
      ],
      "source": [
        "print(data.isnull().sum())"
      ]
    },
    {
      "cell_type": "code",
      "execution_count": 119,
      "metadata": {
        "colab": {
          "base_uri": "https://localhost:8080/"
        },
        "id": "ILAqEsTs7n6s",
        "outputId": "a87d73f7-6a6f-400e-f5a3-0305060b2b07"
      },
      "outputs": [
        {
          "output_type": "stream",
          "name": "stdout",
          "text": [
            "Duplicate rows: 1\n"
          ]
        }
      ],
      "source": [
        "print(\"Duplicate rows:\",data.duplicated().sum())"
      ]
    },
    {
      "cell_type": "code",
      "execution_count": 120,
      "metadata": {
        "id": "6jyHtGCg7oUJ"
      },
      "outputs": [],
      "source": [
        "data = data.drop_duplicates()\n"
      ]
    },
    {
      "cell_type": "code",
      "execution_count": 121,
      "metadata": {
        "colab": {
          "base_uri": "https://localhost:8080/"
        },
        "id": "J95pKpQc_JXa",
        "outputId": "d9ab20e7-dd12-4d3b-a2db-39a50bede8f9"
      },
      "outputs": [
        {
          "output_type": "stream",
          "name": "stdout",
          "text": [
            "Duplicate rows after cleaning: 0\n"
          ]
        }
      ],
      "source": [
        "print(\"Duplicate rows after cleaning:\", data.duplicated().sum())\n"
      ]
    },
    {
      "cell_type": "code",
      "execution_count": 122,
      "metadata": {
        "colab": {
          "base_uri": "https://localhost:8080/"
        },
        "id": "3s5rOJM8_J-z",
        "outputId": "ae7f17b2-9cb5-4531-8f47-924dfaad037c"
      },
      "outputs": [
        {
          "output_type": "stream",
          "name": "stdout",
          "text": [
            "         Year  ENGINE SIZE   CYLINDERS  FUEL CONSUMPTION  COEMISSIONS\n",
            "count   638.0   638.000000  638.000000        638.000000   638.000000\n",
            "mean   2000.0     3.264577    5.802508         14.705956   296.642633\n",
            "std       0.0     1.231634    1.624535          3.303962    65.420203\n",
            "min    2000.0     1.000000    3.000000          4.900000   104.000000\n",
            "25%    2000.0     2.200000    4.000000         12.500000   253.000000\n",
            "50%    2000.0     3.000000    6.000000         14.400000   288.000000\n",
            "75%    2000.0     4.300000    6.000000         16.600000   343.000000\n",
            "max    2000.0     8.000000   12.000000         30.200000   582.000000\n"
          ]
        }
      ],
      "source": [
        "print(data.describe())"
      ]
    },
    {
      "cell_type": "code",
      "execution_count": 123,
      "metadata": {
        "colab": {
          "base_uri": "https://localhost:8080/"
        },
        "id": "ES8ZjboS_Ys2",
        "outputId": "20e1603f-01ed-4d4e-fd2c-630ea78fa352"
      },
      "outputs": [
        {
          "output_type": "stream",
          "name": "stdout",
          "text": [
            "             MAKE MODEL VEHICLE CLASS TRANSMISSION FUEL\n",
            "count         638   638           638          638  638\n",
            "unique         36   328            14            8    5\n",
            "top     CHEVROLET    LS       COMPACT           A4    X\n",
            "freq           63     6           105          323  454\n"
          ]
        }
      ],
      "source": [
        "print(data.describe(include=[object]))\n"
      ]
    },
    {
      "cell_type": "code",
      "execution_count": 124,
      "metadata": {
        "colab": {
          "base_uri": "https://localhost:8080/"
        },
        "id": "m5OhhNB0_Y7I",
        "outputId": "b2d4f53d-ccfd-480a-cb66-db134b1efcdd"
      },
      "outputs": [
        {
          "output_type": "stream",
          "name": "stdout",
          "text": [
            "Unique values in each column:\n",
            "Year : 1\n",
            "MAKE : 36\n",
            "MODEL : 328\n",
            "VEHICLE CLASS : 14\n",
            "ENGINE SIZE : 40\n",
            "CYLINDERS : 7\n",
            "TRANSMISSION : 8\n",
            "FUEL : 5\n",
            "FUEL CONSUMPTION : 124\n",
            "COEMISSIONS : 116\n"
          ]
        }
      ],
      "source": [
        "print(\"Unique values in each column:\")\n",
        "for col in data.columns:\n",
        "    print(col, \":\", data[col].nunique())"
      ]
    },
    {
      "cell_type": "code",
      "execution_count": 125,
      "metadata": {
        "colab": {
          "base_uri": "https://localhost:8080/"
        },
        "id": "n5JwxuC5_egr",
        "outputId": "1f7e0dd3-966f-4749-b8c0-e9a200380909"
      },
      "outputs": [
        {
          "output_type": "stream",
          "name": "stdout",
          "text": [
            "Value counts for \n",
            "Year\n",
            "2000    638\n",
            "Name: count, dtype: int64\n",
            "--------------------------------------------------\n",
            "Value counts for \n",
            "MAKE\n",
            "CHEVROLET        63\n",
            "FORD             62\n",
            "DODGE            46\n",
            "TOYOTA           43\n",
            "GMC              38\n",
            "VOLKSWAGEN       36\n",
            "BMW              29\n",
            "AUDI             22\n",
            "MERCEDES-BENZ    22\n",
            "PONTIAC          21\n",
            "VOLVO            21\n",
            "MAZDA            20\n",
            "CHRYSLER         19\n",
            "NISSAN           19\n",
            "HONDA            17\n",
            "SATURN           15\n",
            "SUZUKI           13\n",
            "SUBARU           12\n",
            "DAEWOO           10\n",
            "HYUNDAI          10\n",
            "JAGUAR           10\n",
            "ACURA             9\n",
            "SAAB              9\n",
            "ISUZU             8\n",
            "PORSCHE           8\n",
            "JEEP              8\n",
            "LEXUS             7\n",
            "FERRARI           7\n",
            "BUICK             6\n",
            "LINCOLN           6\n",
            "OLDSMOBILE        5\n",
            "CADILLAC          5\n",
            "INFINITI          4\n",
            "KIA               4\n",
            "LAND ROVER        3\n",
            "PLYMOUTH          1\n",
            "Name: count, dtype: int64\n",
            "--------------------------------------------------\n",
            "Value counts for \n",
            "MODEL\n",
            "LS                     6\n",
            "JETTA                  6\n",
            "K1500 SILVERADO 4X4    5\n",
            "RAM 1500               5\n",
            "DAKOTA                 5\n",
            "                      ..\n",
            "3.5RL                  1\n",
            "V70 AWD TURBO          1\n",
            "V70 GLT TURBO          1\n",
            "3.2TL                  1\n",
            "V70R AWD TURBO         1\n",
            "Name: count, Length: 328, dtype: int64\n",
            "--------------------------------------------------\n",
            "Value counts for \n",
            "VEHICLE CLASS\n",
            "COMPACT                     105\n",
            "SUBCOMPACT                  104\n",
            "SUV                          96\n",
            "PICKUP TRUCK - STANDARD      92\n",
            "MID-SIZE                     77\n",
            "FULL-SIZE                    28\n",
            "MINIVAN                      26\n",
            "STATION WAGON - MID-SIZE     25\n",
            "VAN - CARGO                  23\n",
            "VAN - PASSENGER              17\n",
            "STATION WAGON - SMALL        13\n",
            "MINICOMPACT                  11\n",
            "PICKUP TRUCK - SMALL         11\n",
            "TWO-SEATER                   10\n",
            "Name: count, dtype: int64\n",
            "--------------------------------------------------\n",
            "Value counts for \n",
            "ENGINE SIZE\n",
            "2.0    56\n",
            "4.3    45\n",
            "1.8    37\n",
            "3.0    37\n",
            "4.0    32\n",
            "2.5    31\n",
            "2.4    31\n",
            "2.8    29\n",
            "2.2    26\n",
            "3.8    26\n",
            "2.3    21\n",
            "3.4    20\n",
            "4.6    19\n",
            "3.3    18\n",
            "3.2    17\n",
            "1.9    16\n",
            "1.6    15\n",
            "2.7    14\n",
            "5.7    13\n",
            "4.8    12\n",
            "5.3    12\n",
            "3.5     9\n",
            "4.2     9\n",
            "5.4     9\n",
            "5.2     9\n",
            "5.9     9\n",
            "3.9     9\n",
            "4.7     9\n",
            "5.0     8\n",
            "5.5     6\n",
            "1.3     6\n",
            "4.4     6\n",
            "1.5     6\n",
            "1.0     3\n",
            "3.1     3\n",
            "6.0     3\n",
            "4.9     2\n",
            "8.0     2\n",
            "3.6     2\n",
            "2.9     1\n",
            "Name: count, dtype: int64\n",
            "--------------------------------------------------\n",
            "Value counts for \n",
            "CYLINDERS\n",
            "6     263\n",
            "4     209\n",
            "8     135\n",
            "5      19\n",
            "12      7\n",
            "3       3\n",
            "10      2\n",
            "Name: count, dtype: int64\n",
            "--------------------------------------------------\n",
            "Value counts for \n",
            "TRANSMISSION\n",
            "A4     323\n",
            "M5     191\n",
            "A5      73\n",
            "M6      23\n",
            "AS4     12\n",
            "A3      10\n",
            "AS5      5\n",
            "AS6      1\n",
            "Name: count, dtype: int64\n",
            "--------------------------------------------------\n",
            "Value counts for \n",
            "FUEL\n",
            "X    454\n",
            "Z    175\n",
            "D      6\n",
            "E      2\n",
            "N      1\n",
            "Name: count, dtype: int64\n",
            "--------------------------------------------------\n",
            "Value counts for \n",
            "FUEL CONSUMPTION\n",
            "15.4    16\n",
            "15.5    16\n",
            "13.9    15\n",
            "13.6    14\n",
            "13.2    14\n",
            "        ..\n",
            "9.9      1\n",
            "8.6      1\n",
            "8.7      1\n",
            "18.6     1\n",
            "8.2      1\n",
            "Name: count, Length: 124, dtype: int64\n",
            "--------------------------------------------------\n",
            "Value counts for \n",
            "COEMISSIONS\n",
            "260    19\n",
            "304    18\n",
            "288    16\n",
            "258    16\n",
            "262    13\n",
            "       ..\n",
            "200     1\n",
            "189     1\n",
            "196     1\n",
            "182     1\n",
            "173     1\n",
            "Name: count, Length: 116, dtype: int64\n",
            "--------------------------------------------------\n"
          ]
        }
      ],
      "source": [
        "for col in data.columns:\n",
        "    print(\"Value counts for \")\n",
        "    print(data[col].value_counts())\n",
        "    print(\"--------------------------------------------------\")\n"
      ]
    },
    {
      "cell_type": "code",
      "execution_count": 126,
      "metadata": {
        "colab": {
          "base_uri": "https://localhost:8080/"
        },
        "id": "K17ERxtn_geU",
        "outputId": "625d3bfb-21ca-481c-dc04-9cb2dc593510"
      },
      "outputs": [
        {
          "output_type": "stream",
          "name": "stdout",
          "text": [
            "Year : 0 outliers\n",
            "ENGINE SIZE : 2 outliers\n",
            "CYLINDERS : 9 outliers\n",
            "FUEL CONSUMPTION : 8 outliers\n",
            "COEMISSIONS : 6 outliers\n"
          ]
        }
      ],
      "source": [
        "num_cols = data.select_dtypes(include=\"number\").columns\n",
        "for col in num_cols:\n",
        "    Q1 = data[col].quantile(0.25)\n",
        "    Q3 = data[col].quantile(0.75)\n",
        "    IQR = Q3 - Q1\n",
        "    lower = Q1 - 1.5 * IQR\n",
        "    upper = Q3 + 1.5 * IQR\n",
        "    outliers = ((data[col] < lower) | (data[col] > upper)).sum()\n",
        "    print(col ,\":\", outliers ,\"outliers\")\n"
      ]
    },
    {
      "cell_type": "code",
      "execution_count": 127,
      "metadata": {
        "colab": {
          "base_uri": "https://localhost:8080/",
          "height": 1000
        },
        "id": "faRYeKz8bs9Z",
        "outputId": "614a5107-9867-48dc-8b2a-bad3e9f8670f"
      },
      "outputs": [
        {
          "output_type": "display_data",
          "data": {
            "text/plain": [
              "<Figure size 600x400 with 1 Axes>"
            ],
            "image/png": "[encoded data removed]"
          },
          "metadata": {}
        },
        {
          "output_type": "display_data",
          "data": {
            "text/plain": [
              "<Figure size 600x400 with 1 Axes>"
            ],
            "image/png": "[encoded data removed]"
          },
          "metadata": {}
        },
        {
          "output_type": "display_data",
          "data": {
            "text/plain": [
              "<Figure size 600x400 with 1 Axes>"
            ],
            "image/png": "[encoded data removed]"
          },
          "metadata": {}
        },
        {
          "output_type": "display_data",
          "data": {
            "text/plain": [
              "<Figure size 600x400 with 1 Axes>"
            ],
            "image/png": "[encoded data removed]"
          },
          "metadata": {}
        }
      ],
      "source": [
        "for col in ['ENGINE SIZE', 'CYLINDERS', 'FUEL CONSUMPTION', 'COEMISSIONS']:\n",
        "    plt.figure(figsize=(6, 4))\n",
        "    plt.boxplot(data[col])\n",
        "    plt.title('Boxplot of ' + col)\n",
        "    plt.ylabel(col)\n",
        "    plt.tight_layout()\n",
        "    plt.show()"
      ]
    },
    {
      "cell_type": "code",
      "execution_count": 128,
      "metadata": {
        "colab": {
          "base_uri": "https://localhost:8080/"
        },
        "id": "T9Fg9UZeX3Gq",
        "outputId": "d4bdcc71-450c-4d30-a5fb-ea2152cb82de"
      },
      "outputs": [
        {
          "output_type": "stream",
          "name": "stdout",
          "text": [
            "ENGINE SIZE: Removed 2 outliers\n",
            "CYLINDERS: Removed 7 outliers\n",
            "FUEL CONSUMPTION: Removed 3 outliers\n",
            "COEMISSIONS: Removed 0 outliers\n"
          ]
        }
      ],
      "source": [
        "key_cols = ['ENGINE SIZE', 'CYLINDERS', 'FUEL CONSUMPTION', 'COEMISSIONS']\n",
        "\n",
        "for col in key_cols:\n",
        "    Q1 = data[col].quantile(0.25)\n",
        "    Q3 = data[col].quantile(0.75)\n",
        "    IQR = Q3 - Q1\n",
        "    lower = Q1 - 1.5 * IQR\n",
        "    upper = Q3 + 1.5 * IQR\n",
        "    before = len(data)\n",
        "    data = data[(data[col] >= lower) & (data[col] <= upper)]\n",
        "    removed = before - len(data)\n",
        "    print(f\"{col}: Removed {removed} outliers\")"
      ]
    },
    {
      "cell_type": "code",
      "execution_count": 129,
      "metadata": {
        "colab": {
          "base_uri": "https://localhost:8080/"
        },
        "id": "V9PEMXxQYB77",
        "outputId": "0c96b1a5-5a00-44f7-b25b-62fd88a2bcc4"
      },
      "outputs": [
        {
          "output_type": "stream",
          "name": "stdout",
          "text": [
            "Year : 0 outliers\n",
            "ENGINE SIZE : 0 outliers\n",
            "CYLINDERS : 0 outliers\n",
            "FUEL CONSUMPTION : 0 outliers\n",
            "COEMISSIONS : 0 outliers\n"
          ]
        }
      ],
      "source": [
        "num_cols = data.select_dtypes(include=\"number\").columns\n",
        "for col in num_cols:\n",
        "    Q1 = data[col].quantile(0.25)\n",
        "    Q3 = data[col].quantile(0.75)\n",
        "    IQR = Q3 - Q1\n",
        "    lower = Q1 - 1.5 * IQR\n",
        "    upper = Q3 + 1.5 * IQR\n",
        "    outliers = ((data[col] < lower) | (data[col] > upper)).sum()\n",
        "    print(col ,\":\", outliers ,\"outliers\")\n"
      ]
    },
    {
      "cell_type": "code",
      "execution_count": 130,
      "metadata": {
        "colab": {
          "base_uri": "https://localhost:8080/",
          "height": 1000
        },
        "id": "PAP2m3jmbvAO",
        "outputId": "8c89b8e3-392f-4983-c4c9-bf7788146c10"
      },
      "outputs": [
        {
          "output_type": "display_data",
          "data": {
            "text/plain": [
              "<Figure size 600x400 with 1 Axes>"
            ],
            "image/png": "[encoded data removed]"
          },
          "metadata": {}
        },
        {
          "output_type": "display_data",
          "data": {
            "text/plain": [
              "<Figure size 600x400 with 1 Axes>"
            ],
            "image/png": "[encoded data removed]"
          },
          "metadata": {}
        },
        {
          "output_type": "display_data",
          "data": {
            "text/plain": [
              "<Figure size 600x400 with 1 Axes>"
            ],
            "image/png": "[encoded data removed]"
          },
          "metadata": {}
        },
        {
          "output_type": "display_data",
          "data": {
            "text/plain": [
              "<Figure size 600x400 with 1 Axes>"
            ],
            "image/png": "[encoded data removed]"
          },
          "metadata": {}
        }
      ],
      "source": [
        "for col in ['ENGINE SIZE', 'CYLINDERS', 'FUEL CONSUMPTION', 'COEMISSIONS']:\n",
        "    plt.figure(figsize=(6, 4))\n",
        "    plt.boxplot(data[col])\n",
        "    plt.title('Boxplot of ' + col)\n",
        "    plt.ylabel(col)\n",
        "    plt.tight_layout()\n",
        "    plt.show()"
      ]
    },
    {
      "cell_type": "code",
      "source": [
        "data"
      ],
      "metadata": {
        "colab": {
          "base_uri": "https://localhost:8080/",
          "height": 423
        },
        "id": "FhZo7V1e2jfQ",
        "outputId": "a33f7be9-408e-4b5f-9f80-73a92742a94e"
      },
      "execution_count": 131,
      "outputs": [
        {
          "output_type": "execute_result",
          "data": {
            "text/plain": [
              "     Year   MAKE           MODEL             VEHICLE CLASS  ENGINE SIZE  \\\n",
              "0    2000  ACURA           1.6EL                   COMPACT          1.6   \n",
              "1    2000  ACURA           1.6EL                   COMPACT          1.6   \n",
              "2    2000  ACURA           3.2TL                  MID-SIZE          3.2   \n",
              "3    2000  ACURA           3.5RL                  MID-SIZE          3.5   \n",
              "4    2000  ACURA         INTEGRA                SUBCOMPACT          1.8   \n",
              "..    ...    ...             ...                       ...          ...   \n",
              "634  2000  VOLVO   V70 AWD TURBO  STATION WAGON - MID-SIZE          2.4   \n",
              "635  2000  VOLVO   V70 GLT TURBO  STATION WAGON - MID-SIZE          2.4   \n",
              "636  2000  VOLVO    V70 T5 TURBO  STATION WAGON - MID-SIZE          2.3   \n",
              "637  2000  VOLVO    V70 T5 TURBO  STATION WAGON - MID-SIZE          2.3   \n",
              "638  2000  VOLVO  V70R AWD TURBO  STATION WAGON - MID-SIZE          2.4   \n",
              "\n",
              "     CYLINDERS TRANSMISSION FUEL  FUEL CONSUMPTION  COEMISSIONS  \n",
              "0            4           A4    X              10.5          216  \n",
              "1            4           M5    X               9.8          205  \n",
              "2            6          AS5    Z              13.7          265  \n",
              "3            6           A4    Z              15.0          301  \n",
              "4            4           A4    X              11.4          230  \n",
              "..         ...          ...  ...               ...          ...  \n",
              "634          5           A4    Z              14.4          288  \n",
              "635          5           A4    Z              13.6          274  \n",
              "636          5           A4    Z              13.9          274  \n",
              "637          5           M5    Z              13.0          260  \n",
              "638          5           A5    Z              14.7          299  \n",
              "\n",
              "[626 rows x 10 columns]"
            ],
            "text/html": [
              "\n",
              "  <div id=\"df-24b1b7a3-a1fc-4a2d-b618-63556e2798c6\" class=\"colab-df-container\">\n",
              "    <div>\n",
              "<style scoped>\n",
              "    .dataframe tbody tr th:only-of-type {\n",
              "        vertical-align: middle;\n",
              "    }\n",
              "\n",
              "    .dataframe tbody tr th {\n",
              "        vertical-align: top;\n",
              "    }\n",
              "\n",
              "    .dataframe thead th {\n",
              "        text-align: right;\n",
              "    }\n",
              "</style>\n",
              "<table border=\"1\" class=\"dataframe\">\n",
              "  <thead>\n",
              "    <tr style=\"text-align: right;\">\n",
              "      <th></th>\n",
              "      <th>Year</th>\n",
              "      <th>MAKE</th>\n",
              "      <th>MODEL</th>\n",
              "      <th>VEHICLE CLASS</th>\n",
              "      <th>ENGINE SIZE</th>\n",
              "      <th>CYLINDERS</th>\n",
              "      <th>TRANSMISSION</th>\n",
              "      <th>FUEL</th>\n",
              "      <th>FUEL CONSUMPTION</th>\n",
              "      <th>COEMISSIONS</th>\n",
              "    </tr>\n",
              "  </thead>\n",
              "  <tbody>\n",
              "    <tr>\n",
              "      <th>0</th>\n",
              "      <td>2000</td>\n",
              "      <td>ACURA</td>\n",
              "      <td>1.6EL</td>\n",
              "      <td>COMPACT</td>\n",
              "      <td>1.6</td>\n",
              "      <td>4</td>\n",
              "      <td>A4</td>\n",
              "      <td>X</td>\n",
              "      <td>10.5</td>\n",
              "      <td>216</td>\n",
              "    </tr>\n",
              "    <tr>\n",
              "      <th>1</th>\n",
              "      <td>2000</td>\n",
              "      <td>ACURA</td>\n",
              "      <td>1.6EL</td>\n",
              "      <td>COMPACT</td>\n",
              "      <td>1.6</td>\n",
              "      <td>4</td>\n",
              "      <td>M5</td>\n",
              "      <td>X</td>\n",
              "      <td>9.8</td>\n",
              "      <td>205</td>\n",
              "    </tr>\n",
              "    <tr>\n",
              "      <th>2</th>\n",
              "      <td>2000</td>\n",
              "      <td>ACURA</td>\n",
              "      <td>3.2TL</td>\n",
              "      <td>MID-SIZE</td>\n",
              "      <td>3.2</td>\n",
              "      <td>6</td>\n",
              "      <td>AS5</td>\n",
              "      <td>Z</td>\n",
              "      <td>13.7</td>\n",
              "      <td>265</td>\n",
              "    </tr>\n",
              "    <tr>\n",
              "      <th>3</th>\n",
              "      <td>2000</td>\n",
              "      <td>ACURA</td>\n",
              "      <td>3.5RL</td>\n",
              "      <td>MID-SIZE</td>\n",
              "      <td>3.5</td>\n",
              "      <td>6</td>\n",
              "      <td>A4</td>\n",
              "      <td>Z</td>\n",
              "      <td>15.0</td>\n",
              "      <td>301</td>\n",
              "    </tr>\n",
              "    <tr>\n",
              "      <th>4</th>\n",
              "      <td>2000</td>\n",
              "      <td>ACURA</td>\n",
              "      <td>INTEGRA</td>\n",
              "      <td>SUBCOMPACT</td>\n",
              "      <td>1.8</td>\n",
              "      <td>4</td>\n",
              "      <td>A4</td>\n",
              "      <td>X</td>\n",
              "      <td>11.4</td>\n",
              "      <td>230</td>\n",
              "    </tr>\n",
              "    <tr>\n",
              "      <th>...</th>\n",
              "      <td>...</td>\n",
              "      <td>...</td>\n",
              "      <td>...</td>\n",
              "      <td>...</td>\n",
              "      <td>...</td>\n",
              "      <td>...</td>\n",
              "      <td>...</td>\n",
              "      <td>...</td>\n",
              "      <td>...</td>\n",
              "      <td>...</td>\n",
              "    </tr>\n",
              "    <tr>\n",
              "      <th>634</th>\n",
              "      <td>2000</td>\n",
              "      <td>VOLVO</td>\n",
              "      <td>V70 AWD TURBO</td>\n",
              "      <td>STATION WAGON - MID-SIZE</td>\n",
              "      <td>2.4</td>\n",
              "      <td>5</td>\n",
              "      <td>A4</td>\n",
              "      <td>Z</td>\n",
              "      <td>14.4</td>\n",
              "      <td>288</td>\n",
              "    </tr>\n",
              "    <tr>\n",
              "      <th>635</th>\n",
              "      <td>2000</td>\n",
              "      <td>VOLVO</td>\n",
              "      <td>V70 GLT TURBO</td>\n",
              "      <td>STATION WAGON - MID-SIZE</td>\n",
              "      <td>2.4</td>\n",
              "      <td>5</td>\n",
              "      <td>A4</td>\n",
              "      <td>Z</td>\n",
              "      <td>13.6</td>\n",
              "      <td>274</td>\n",
              "    </tr>\n",
              "    <tr>\n",
              "      <th>636</th>\n",
              "      <td>2000</td>\n",
              "      <td>VOLVO</td>\n",
              "      <td>V70 T5 TURBO</td>\n",
              "      <td>STATION WAGON - MID-SIZE</td>\n",
              "      <td>2.3</td>\n",
              "      <td>5</td>\n",
              "      <td>A4</td>\n",
              "      <td>Z</td>\n",
              "      <td>13.9</td>\n",
              "      <td>274</td>\n",
              "    </tr>\n",
              "    <tr>\n",
              "      <th>637</th>\n",
              "      <td>2000</td>\n",
              "      <td>VOLVO</td>\n",
              "      <td>V70 T5 TURBO</td>\n",
              "      <td>STATION WAGON - MID-SIZE</td>\n",
              "      <td>2.3</td>\n",
              "      <td>5</td>\n",
              "      <td>M5</td>\n",
              "      <td>Z</td>\n",
              "      <td>13.0</td>\n",
              "      <td>260</td>\n",
              "    </tr>\n",
              "    <tr>\n",
              "      <th>638</th>\n",
              "      <td>2000</td>\n",
              "      <td>VOLVO</td>\n",
              "      <td>V70R AWD TURBO</td>\n",
              "      <td>STATION WAGON - MID-SIZE</td>\n",
              "      <td>2.4</td>\n",
              "      <td>5</td>\n",
              "      <td>A5</td>\n",
              "      <td>Z</td>\n",
              "      <td>14.7</td>\n",
              "      <td>299</td>\n",
              "    </tr>\n",
              "  </tbody>\n",
              "</table>\n",
              "<p>626 rows × 10 columns</p>\n",
              "</div>\n",
              "    <div class=\"colab-df-buttons\">\n",
              "\n",
              "  <div class=\"colab-df-container\">\n",
              "    <button class=\"colab-df-convert\" onclick=\"convertToInteractive('df-24b1b7a3-a1fc-4a2d-b618-63556e2798c6')\"\n",
              "            title=\"Convert this dataframe to an interactive table.\"\n",
              "            style=\"display:none;\">\n",
              "\n",
              "  <svg xmlns=\"http://www.w3.org/2000/svg\" height=\"24px\" viewBox=\"0 -960 960 960\">\n",
              "    <path d=\"M120-120v-720h720v720H120Zm60-500h600v-160H180v160Zm220 220h160v-160H400v160Zm0 220h160v-160H400v160ZM180-400h160v-160H180v160Zm440 0h160v-160H620v160ZM180-180h160v-160H180v160Zm440 0h160v-160H620v160Z\"/>\n",
              "  </svg>\n",
              "    </button>\n",
              "\n",
              "  <style>\n",
              "    .colab-df-container {\n",
              "      display:flex;\n",
              "      gap: 12px;\n",
              "    }\n",
              "\n",
              "    .colab-df-convert {\n",
              "      background-color: #E8F0FE;\n",
              "      border: none;\n",
              "      border-radius: 50%;\n",
              "      cursor: pointer;\n",
              "      display: none;\n",
              "      fill: #1967D2;\n",
              "      height: 32px;\n",
              "      padding: 0 0 0 0;\n",
              "      width: 32px;\n",
              "    }\n",
              "\n",
              "    .colab-df-convert:hover {\n",
              "      background-color: #E2EBFA;\n",
              "      box-shadow: 0px 1px 2px rgba(60, 64, 67, 0.3), 0px 1px 3px 1px rgba(60, 64, 67, 0.15);\n",
              "      fill: #174EA6;\n",
              "    }\n",
              "\n",
              "    .colab-df-buttons div {\n",
              "      margin-bottom: 4px;\n",
              "    }\n",
              "\n",
              "    [theme=dark] .colab-df-convert {\n",
              "      background-color: #3B4455;\n",
              "      fill: #D2E3FC;\n",
              "    }\n",
              "\n",
              "    [theme=dark] .colab-df-convert:hover {\n",
              "      background-color: #434B5C;\n",
              "      box-shadow: 0px 1px 3px 1px rgba(0, 0, 0, 0.15);\n",
              "      filter: drop-shadow(0px 1px 2px rgba(0, 0, 0, 0.3));\n",
              "      fill: #FFFFFF;\n",
              "    }\n",
              "  </style>\n",
              "\n",
              "    <script>\n",
              "      const buttonEl =\n",
              "        document.querySelector('#df-24b1b7a3-a1fc-4a2d-b618-63556e2798c6 button.colab-df-convert');\n",
              "      buttonEl.style.display =\n",
              "        google.colab.kernel.accessAllowed ? 'block' : 'none';\n",
              "\n",
              "      async function convertToInteractive(key) {\n",
              "        const element = document.querySelector('#df-24b1b7a3-a1fc-4a2d-b618-63556e2798c6');\n",
              "        const dataTable =\n",
              "          await google.colab.kernel.invokeFunction('convertToInteractive',\n",
              "                                                    [key], {});\n",
              "        if (!dataTable) return;\n",
              "\n",
              "        const docLinkHtml = 'Like what you see? Visit the ' +\n",
              "          '<a target=\"_blank\" href=https://colab.research.google.com/notebooks/data_table.ipynb>data table notebook</a>'\n",
              "          + ' to learn more about interactive tables.';\n",
              "        element.innerHTML = '';\n",
              "        dataTable['output_type'] = 'display_data';\n",
              "        await google.colab.output.renderOutput(dataTable, element);\n",
              "        const docLink = document.createElement('div');\n",
              "        docLink.innerHTML = docLinkHtml;\n",
              "        element.appendChild(docLink);\n",
              "      }\n",
              "    </script>\n",
              "  </div>\n",
              "\n",
              "\n",
              "    <div id=\"df-04c3b1da-5bc5-4f97-bc20-19650a6043e9\">\n",
              "      <button class=\"colab-df-quickchart\" onclick=\"quickchart('df-04c3b1da-5bc5-4f97-bc20-19650a6043e9')\"\n",
              "                title=\"Suggest charts\"\n",
              "                style=\"display:none;\">\n",
              "\n",
              "<svg xmlns=\"http://www.w3.org/2000/svg\" height=\"24px\"viewBox=\"0 0 24 24\"\n",
              "     width=\"24px\">\n",
              "    <g>\n",
              "        <path d=\"M19 3H5c-1.1 0-2 .9-2 2v14c0 1.1.9 2 2 2h14c1.1 0 2-.9 2-2V5c0-1.1-.9-2-2-2zM9 17H7v-7h2v7zm4 0h-2V7h2v10zm4 0h-2v-4h2v4z\"/>\n",
              "    </g>\n",
              "</svg>\n",
              "      </button>\n",
              "\n",
              "<style>\n",
              "  .colab-df-quickchart {\n",
              "      --bg-color: #E8F0FE;\n",
              "      --fill-color: #1967D2;\n",
              "      --hover-bg-color: #E2EBFA;\n",
              "      --hover-fill-color: #174EA6;\n",
              "      --disabled-fill-color: #AAA;\n",
              "      --disabled-bg-color: #DDD;\n",
              "  }\n",
              "\n",
              "  [theme=dark] .colab-df-quickchart {\n",
              "      --bg-color: #3B4455;\n",
              "      --fill-color: #D2E3FC;\n",
              "      --hover-bg-color: #434B5C;\n",
              "      --hover-fill-color: #FFFFFF;\n",
              "      --disabled-bg-color: #3B4455;\n",
              "      --disabled-fill-color: #666;\n",
              "  }\n",
              "\n",
              "  .colab-df-quickchart {\n",
              "    background-color: var(--bg-color);\n",
              "    border: none;\n",
              "    border-radius: 50%;\n",
              "    cursor: pointer;\n",
              "    display: none;\n",
              "    fill: var(--fill-color);\n",
              "    height: 32px;\n",
              "    padding: 0;\n",
              "    width: 32px;\n",
              "  }\n",
              "\n",
              "  .colab-df-quickchart:hover {\n",
              "    background-color: var(--hover-bg-color);\n",
              "    box-shadow: 0 1px 2px rgba(60, 64, 67, 0.3), 0 1px 3px 1px rgba(60, 64, 67, 0.15);\n",
              "    fill: var(--button-hover-fill-color);\n",
              "  }\n",
              "\n",
              "  .colab-df-quickchart-complete:disabled,\n",
              "  .colab-df-quickchart-complete:disabled:hover {\n",
              "    background-color: var(--disabled-bg-color);\n",
              "    fill: var(--disabled-fill-color);\n",
              "    box-shadow: none;\n",
              "  }\n",
              "\n",
              "  .colab-df-spinner {\n",
              "    border: 2px solid var(--fill-color);\n",
              "    border-color: transparent;\n",
              "    border-bottom-color: var(--fill-color);\n",
              "    animation:\n",
              "      spin 1s steps(1) infinite;\n",
              "  }\n",
              "\n",
              "  @keyframes spin {\n",
              "    0% {\n",
              "      border-color: transparent;\n",
              "      border-bottom-color: var(--fill-color);\n",
              "      border-left-color: var(--fill-color);\n",
              "    }\n",
              "    20% {\n",
              "      border-color: transparent;\n",
              "      border-left-color: var(--fill-color);\n",
              "      border-top-color: var(--fill-color);\n",
              "    }\n",
              "    30% {\n",
              "      border-color: transparent;\n",
              "      border-left-color: var(--fill-color);\n",
              "      border-top-color: var(--fill-color);\n",
              "      border-right-color: var(--fill-color);\n",
              "    }\n",
              "    40% {\n",
              "      border-color: transparent;\n",
              "      border-right-color: var(--fill-color);\n",
              "      border-top-color: var(--fill-color);\n",
              "    }\n",
              "    60% {\n",
              "      border-color: transparent;\n",
              "      border-right-color: var(--fill-color);\n",
              "    }\n",
              "    80% {\n",
              "      border-color: transparent;\n",
              "      border-right-color: var(--fill-color);\n",
              "      border-bottom-color: var(--fill-color);\n",
              "    }\n",
              "    90% {\n",
              "      border-color: transparent;\n",
              "      border-bottom-color: var(--fill-color);\n",
              "    }\n",
              "  }\n",
              "</style>\n",
              "\n",
              "      <script>\n",
              "        async function quickchart(key) {\n",
              "          const quickchartButtonEl =\n",
              "            document.querySelector('#' + key + ' button');\n",
              "          quickchartButtonEl.disabled = true;  // To prevent multiple clicks.\n",
              "          quickchartButtonEl.classList.add('colab-df-spinner');\n",
              "          try {\n",
              "            const charts = await google.colab.kernel.invokeFunction(\n",
              "                'suggestCharts', [key], {});\n",
              "          } catch (error) {\n",
              "            console.error('Error during call to suggestCharts:', error);\n",
              "          }\n",
              "          quickchartButtonEl.classList.remove('colab-df-spinner');\n",
              "          quickchartButtonEl.classList.add('colab-df-quickchart-complete');\n",
              "        }\n",
              "        (() => {\n",
              "          let quickchartButtonEl =\n",
              "            document.querySelector('#df-04c3b1da-5bc5-4f97-bc20-19650a6043e9 button');\n",
              "          quickchartButtonEl.style.display =\n",
              "            google.colab.kernel.accessAllowed ? 'block' : 'none';\n",
              "        })();\n",
              "      </script>\n",
              "    </div>\n",
              "\n",
              "  <div id=\"id_39faa941-0db2-45c1-91b5-f414dcce8853\">\n",
              "    <style>\n",
              "      .colab-df-generate {\n",
              "        background-color: #E8F0FE;\n",
              "        border: none;\n",
              "        border-radius: 50%;\n",
              "        cursor: pointer;\n",
              "        display: none;\n",
              "        fill: #1967D2;\n",
              "        height: 32px;\n",
              "        padding: 0 0 0 0;\n",
              "        width: 32px;\n",
              "      }\n",
              "\n",
              "      .colab-df-generate:hover {\n",
              "        background-color: #E2EBFA;\n",
              "        box-shadow: 0px 1px 2px rgba(60, 64, 67, 0.3), 0px 1px 3px 1px rgba(60, 64, 67, 0.15);\n",
              "        fill: #174EA6;\n",
              "      }\n",
              "\n",
              "      [theme=dark] .colab-df-generate {\n",
              "        background-color: #3B4455;\n",
              "        fill: #D2E3FC;\n",
              "      }\n",
              "\n",
              "      [theme=dark] .colab-df-generate:hover {\n",
              "        background-color: #434B5C;\n",
              "        box-shadow: 0px 1px 3px 1px rgba(0, 0, 0, 0.15);\n",
              "        filter: drop-shadow(0px 1px 2px rgba(0, 0, 0, 0.3));\n",
              "        fill: #FFFFFF;\n",
              "      }\n",
              "    </style>\n",
              "    <button class=\"colab-df-generate\" onclick=\"generateWithVariable('data')\"\n",
              "            title=\"Generate code using this dataframe.\"\n",
              "            style=\"display:none;\">\n",
              "\n",
              "  <svg xmlns=\"http://www.w3.org/2000/svg\" height=\"24px\"viewBox=\"0 0 24 24\"\n",
              "       width=\"24px\">\n",
              "    <path d=\"M7,19H8.4L18.45,9,17,7.55,7,17.6ZM5,21V16.75L18.45,3.32a2,2,0,0,1,2.83,0l1.4,1.43a1.91,1.91,0,0,1,.58,1.4,1.91,1.91,0,0,1-.58,1.4L9.25,21ZM18.45,9,17,7.55Zm-12,3A5.31,5.31,0,0,0,4.9,8.1,5.31,5.31,0,0,0,1,6.5,5.31,5.31,0,0,0,4.9,4.9,5.31,5.31,0,0,0,6.5,1,5.31,5.31,0,0,0,8.1,4.9,5.31,5.31,0,0,0,12,6.5,5.46,5.46,0,0,0,6.5,12Z\"/>\n",
              "  </svg>\n",
              "    </button>\n",
              "    <script>\n",
              "      (() => {\n",
              "      const buttonEl =\n",
              "        document.querySelector('#id_39faa941-0db2-45c1-91b5-f414dcce8853 button.colab-df-generate');\n",
              "      buttonEl.style.display =\n",
              "        google.colab.kernel.accessAllowed ? 'block' : 'none';\n",
              "\n",
              "      buttonEl.onclick = () => {\n",
              "        google.colab.notebook.generateWithVariable('data');\n",
              "      }\n",
              "      })();\n",
              "    </script>\n",
              "  </div>\n",
              "\n",
              "    </div>\n",
              "  </div>\n"
            ],
            "application/vnd.google.colaboratory.intrinsic+json": {
              "type": "dataframe",
              "variable_name": "data",
              "summary": "{\n  \"name\": \"data\",\n  \"rows\": 626,\n  \"fields\": [\n    {\n      \"column\": \"Year\",\n      \"properties\": {\n        \"dtype\": \"number\",\n        \"std\": 0,\n        \"min\": 2000,\n        \"max\": 2000,\n        \"num_unique_values\": 1,\n        \"samples\": [\n          2000\n        ],\n        \"semantic_type\": \"\",\n        \"description\": \"\"\n      }\n    },\n    {\n      \"column\": \"MAKE\",\n      \"properties\": {\n        \"dtype\": \"category\",\n        \"num_unique_values\": 35,\n        \"samples\": [\n          \"PONTIAC\"\n        ],\n        \"semantic_type\": \"\",\n        \"description\": \"\"\n      }\n    },\n    {\n      \"column\": \"MODEL\",\n      \"properties\": {\n        \"dtype\": \"string\",\n        \"num_unique_values\": 319,\n        \"samples\": [\n          \"300M\"\n        ],\n        \"semantic_type\": \"\",\n        \"description\": \"\"\n      }\n    },\n    {\n      \"column\": \"VEHICLE CLASS\",\n      \"properties\": {\n        \"dtype\": \"category\",\n        \"num_unique_values\": 14,\n        \"samples\": [\n          \"VAN - CARGO\"\n        ],\n        \"semantic_type\": \"\",\n        \"description\": \"\"\n      }\n    },\n    {\n      \"column\": \"ENGINE SIZE\",\n      \"properties\": {\n        \"dtype\": \"number\",\n        \"std\": 1.1853337729747824,\n        \"min\": 1.0,\n        \"max\": 6.0,\n        \"num_unique_values\": 38,\n        \"samples\": [\n          4.0\n        ],\n        \"semantic_type\": \"\",\n        \"description\": \"\"\n      }\n    },\n    {\n      \"column\": \"CYLINDERS\",\n      \"properties\": {\n        \"dtype\": \"number\",\n        \"std\": 1,\n        \"min\": 3,\n        \"max\": 8,\n        \"num_unique_values\": 5,\n        \"samples\": [\n          6\n        ],\n        \"semantic_type\": \"\",\n        \"description\": \"\"\n      }\n    },\n    {\n      \"column\": \"TRANSMISSION\",\n      \"properties\": {\n        \"dtype\": \"category\",\n        \"num_unique_values\": 7,\n        \"samples\": [\n          \"A4\"\n        ],\n        \"semantic_type\": \"\",\n        \"description\": \"\"\n      }\n    },\n    {\n      \"column\": \"FUEL\",\n      \"properties\": {\n        \"dtype\": \"category\",\n        \"num_unique_values\": 5,\n        \"samples\": [\n          \"Z\"\n        ],\n        \"semantic_type\": \"\",\n        \"description\": \"\"\n      }\n    },\n    {\n      \"column\": \"FUEL CONSUMPTION\",\n      \"properties\": {\n        \"dtype\": \"number\",\n        \"std\": 3.02579220688289,\n        \"min\": 6.7,\n        \"max\": 22.3,\n        \"num_unique_values\": 118,\n        \"samples\": [\n          18.0\n        ],\n        \"semantic_type\": \"\",\n        \"description\": \"\"\n      }\n    },\n    {\n      \"column\": \"COEMISSIONS\",\n      \"properties\": {\n        \"dtype\": \"number\",\n        \"std\": 61,\n        \"min\": 147,\n        \"max\": 458,\n        \"num_unique_values\": 110,\n        \"samples\": [\n          396\n        ],\n        \"semantic_type\": \"\",\n        \"description\": \"\"\n      }\n    }\n  ]\n}"
            }
          },
          "metadata": {},
          "execution_count": 131
        }
      ]
    },
    {
      "cell_type": "code",
      "execution_count": 132,
      "metadata": {
        "colab": {
          "base_uri": "https://localhost:8080/"
        },
        "id": "QdJZBcKcSFy9",
        "outputId": "242bde0f-b4b6-4f5c-cabe-0504eeb905c4"
      },
      "outputs": [
        {
          "output_type": "stream",
          "name": "stdout",
          "text": [
            "Correlation matrix:\n",
            "                  Year  ENGINE SIZE  CYLINDERS  FUEL CONSUMPTION  COEMISSIONS\n",
            "Year               NaN          NaN        NaN               NaN          NaN\n",
            "ENGINE SIZE        NaN     1.000000   0.908022          0.876774     0.864975\n",
            "CYLINDERS          NaN     0.908022   1.000000          0.803854     0.777821\n",
            "FUEL CONSUMPTION   NaN     0.876774   0.803854          1.000000     0.981534\n",
            "COEMISSIONS        NaN     0.864975   0.777821          0.981534     1.000000\n"
          ]
        }
      ],
      "source": [
        "print(\"Correlation matrix:\")\n",
        "print(data.corr(numeric_only=True))"
      ]
    },
    {
      "cell_type": "code",
      "execution_count": 133,
      "metadata": {
        "colab": {
          "base_uri": "https://localhost:8080/",
          "height": 699
        },
        "id": "7OEDMr8dSGKz",
        "outputId": "48a34131-de74-4cb7-e6d7-4b61ab1aec92"
      },
      "outputs": [
        {
          "output_type": "display_data",
          "data": {
            "text/plain": [
              "<Figure size 1200x800 with 2 Axes>"
            ],
            "image/png": "[encoded data removed]"
          },
          "metadata": {}
        }
      ],
      "source": [
        "import seaborn as sns\n",
        "import matplotlib.pyplot as plt\n",
        "corr_matrix = data.corr(numeric_only=True)\n",
        "plt.figure(figsize=(12, 8))\n",
        "sns.heatmap(corr_matrix, annot=True)\n",
        "plt.title(\"Correlation Matrix Heatmap\")\n",
        "plt.show()"
      ]
    },
    {
      "cell_type": "code",
      "execution_count": 134,
      "metadata": {
        "colab": {
          "base_uri": "https://localhost:8080/",
          "height": 472
        },
        "id": "JcQUxGH-dkPc",
        "outputId": "d4b4d71f-056d-4ccf-f147-77ddbfb1eda5"
      },
      "outputs": [
        {
          "output_type": "display_data",
          "data": {
            "text/plain": [
              "<Figure size 640x480 with 1 Axes>"
            ],
            "image/png": "[encoded data removed]"
          },
          "metadata": {}
        }
      ],
      "source": [
        "plt.hist(data['ENGINE SIZE'], bins=20, color='skyblue')\n",
        "plt.title('Distribution of Engine Size')\n",
        "plt.xlabel('Engine Size')\n",
        "plt.ylabel('Frequency')\n",
        "plt.show()"
      ]
    },
    {
      "cell_type": "code",
      "execution_count": 135,
      "metadata": {
        "colab": {
          "base_uri": "https://localhost:8080/",
          "height": 472
        },
        "id": "QNnGF0rQdz-6",
        "outputId": "81f820c8-c397-4ab9-a4db-a2b686a42e11"
      },
      "outputs": [
        {
          "output_type": "display_data",
          "data": {
            "text/plain": [
              "<Figure size 640x480 with 1 Axes>"
            ],
            "image/png": "[encoded data removed]"
          },
          "metadata": {}
        }
      ],
      "source": [
        "plt.hist(data['FUEL CONSUMPTION'], bins=20, color='salmon')\n",
        "plt.title('Distribution of Fuel Consumption')\n",
        "plt.xlabel('Fuel Consumption')\n",
        "plt.ylabel('Frequency')\n",
        "plt.show()"
      ]
    },
    {
      "cell_type": "code",
      "execution_count": 136,
      "metadata": {
        "colab": {
          "base_uri": "https://localhost:8080/",
          "height": 472
        },
        "id": "8Q4DxyrPd5aE",
        "outputId": "86de3cd2-f847-4838-afd4-9c74bf77225d"
      },
      "outputs": [
        {
          "output_type": "display_data",
          "data": {
            "text/plain": [
              "<Figure size 640x480 with 1 Axes>"
            ],
            "image/png": "[encoded data removed]"
          },
          "metadata": {}
        }
      ],
      "source": [
        "cylinder_counts = data['CYLINDERS'].value_counts()  # count of each cylinder\n",
        "plt.bar(cylinder_counts.index, cylinder_counts.values, color='lightgreen')\n",
        "plt.title('Number of Cars by Cylinders')\n",
        "plt.xlabel('Cylinders')\n",
        "plt.ylabel('Count')\n",
        "plt.show()"
      ]
    },
    {
      "cell_type": "code",
      "execution_count": 137,
      "metadata": {
        "colab": {
          "base_uri": "https://localhost:8080/",
          "height": 428
        },
        "id": "ZmrH3IpOd8F8",
        "outputId": "27b559ef-94bd-448f-ef09-30b891241c3f"
      },
      "outputs": [
        {
          "output_type": "display_data",
          "data": {
            "text/plain": [
              "<Figure size 640x480 with 1 Axes>"
            ],
            "image/png": "[encoded data removed]"
          },
          "metadata": {}
        }
      ],
      "source": [
        "import matplotlib.pyplot as plt\n",
        "plt.pie(cylinder_counts.values, labels=cylinder_counts.index, autopct='%1.1f%%')\n",
        "plt.title('Cylinder Distribution')\n",
        "plt.show()\n"
      ]
    },
    {
      "cell_type": "code",
      "execution_count": 138,
      "metadata": {
        "colab": {
          "base_uri": "https://localhost:8080/",
          "height": 472
        },
        "id": "_x2_xziOiiKF",
        "outputId": "42cf5206-66d6-4dd6-cc31-ebeb597c53a6"
      },
      "outputs": [
        {
          "output_type": "display_data",
          "data": {
            "text/plain": [
              "<Figure size 640x480 with 1 Axes>"
            ],
            "image/png": "[encoded data removed]"
          },
          "metadata": {}
        }
      ],
      "source": [
        "plt.scatter(data['ENGINE SIZE'], data['COEMISSIONS'], alpha=0.6, color='green')\n",
        "plt.title('Engine Size vs CO Emissions')\n",
        "plt.xlabel('Engine Size')\n",
        "plt.ylabel('CO Emissions')\n",
        "plt.show()"
      ]
    },
    {
      "cell_type": "markdown",
      "metadata": {
        "id": "2dMu4YZ_Id9s"
      },
      "source": [
        "\"--- Encoding ---\""
      ]
    },
    {
      "cell_type": "code",
      "source": [
        "from sklearn.model_selection import train_test_split\n",
        "from sklearn.preprocessing import OneHotEncoder\n",
        "from sklearn.compose import ColumnTransformer\n",
        "from sklearn.pipeline import Pipeline\n",
        "from sklearn.linear_model import LinearRegression\n",
        "from sklearn.metrics import mean_absolute_error, mean_squared_error, r2_score\n",
        "from sklearn.feature_selection import VarianceThreshold\n"
      ],
      "metadata": {
        "id": "VhgBa3J-4eVY"
      },
      "execution_count": 139,
      "outputs": []
    },
    {
      "cell_type": "code",
      "source": [
        "data = data.drop(columns=['Year'])\n"
      ],
      "metadata": {
        "id": "dTW2ErTK38jH"
      },
      "execution_count": 140,
      "outputs": []
    },
    {
      "cell_type": "code",
      "execution_count": 141,
      "metadata": {
        "colab": {
          "base_uri": "https://localhost:8080/"
        },
        "id": "UIPwF3aEIa0q",
        "outputId": "f1c7ff50-3ea3-4198-e746-f27b9dd305b8"
      },
      "outputs": [
        {
          "output_type": "stream",
          "name": "stdout",
          "text": [
            "Categorical columns encoded successfully.\n",
            "New shape: (626, 384)\n"
          ]
        }
      ],
      "source": [
        "# Identify categorical and numeric columns\n",
        "categorical_cols = data.select_dtypes(include=['object']).columns\n",
        "numeric_cols = data.select_dtypes(exclude=['object']).columns\n",
        "\n",
        "# OneHotEncode categorical columns\n",
        "encoder = OneHotEncoder(handle_unknown='ignore', drop=None, sparse_output=False)\n",
        "encoded_array = encoder.fit_transform(data[categorical_cols])\n",
        "encoded_df = pd.DataFrame(encoded_array, columns=encoder.get_feature_names_out(categorical_cols))\n",
        "\n",
        "# Combine numeric + encoded categorical columns\n",
        "data = pd.concat([data[numeric_cols].reset_index(drop=True),\n",
        "                  encoded_df.reset_index(drop=True)], axis=1)\n",
        "\n",
        "print(\"Categorical columns encoded successfully.\")\n",
        "print(\"New shape:\", data.shape)\n"
      ]
    },
    {
      "cell_type": "code",
      "source": [
        "selector = VarianceThreshold(threshold=0.01)\n",
        "data = pd.DataFrame(selector.fit_transform(data), columns=data.columns[selector.get_support()])\n",
        "\n",
        "print(\"Low variance features removed.\")\n",
        "print(\"Shape after cleaning:\", data.shape)\n"
      ],
      "metadata": {
        "colab": {
          "base_uri": "https://localhost:8080/"
        },
        "id": "vjy4kz0-4pCn",
        "outputId": "42978452-d5ba-47e0-a1f4-3e8a7b54ea8e"
      },
      "execution_count": 142,
      "outputs": [
        {
          "output_type": "stream",
          "name": "stdout",
          "text": [
            "Low variance features removed.\n",
            "Shape after cleaning: (626, 53)\n"
          ]
        }
      ]
    },
    {
      "cell_type": "code",
      "execution_count": 143,
      "metadata": {
        "colab": {
          "base_uri": "https://localhost:8080/",
          "height": 495
        },
        "id": "v4P9aAd-JYX4",
        "outputId": "94299168-a60e-4694-89e0-2d1c90a20790"
      },
      "outputs": [
        {
          "output_type": "execute_result",
          "data": {
            "text/plain": [
              "     ENGINE SIZE  CYLINDERS  FUEL CONSUMPTION  COEMISSIONS  MAKE_ACURA  \\\n",
              "0            1.6        4.0              10.5        216.0         1.0   \n",
              "1            1.6        4.0               9.8        205.0         1.0   \n",
              "2            3.2        6.0              13.7        265.0         1.0   \n",
              "3            3.5        6.0              15.0        301.0         1.0   \n",
              "4            1.8        4.0              11.4        230.0         1.0   \n",
              "..           ...        ...               ...          ...         ...   \n",
              "621          2.4        5.0              14.4        288.0         0.0   \n",
              "622          2.4        5.0              13.6        274.0         0.0   \n",
              "623          2.3        5.0              13.9        274.0         0.0   \n",
              "624          2.3        5.0              13.0        260.0         0.0   \n",
              "625          2.4        5.0              14.7        299.0         0.0   \n",
              "\n",
              "     MAKE_AUDI  MAKE_BMW  MAKE_CHEVROLET  MAKE_CHRYSLER  MAKE_DAEWOO  ...  \\\n",
              "0          0.0       0.0             0.0            0.0          0.0  ...   \n",
              "1          0.0       0.0             0.0            0.0          0.0  ...   \n",
              "2          0.0       0.0             0.0            0.0          0.0  ...   \n",
              "3          0.0       0.0             0.0            0.0          0.0  ...   \n",
              "4          0.0       0.0             0.0            0.0          0.0  ...   \n",
              "..         ...       ...             ...            ...          ...  ...   \n",
              "621        0.0       0.0             0.0            0.0          0.0  ...   \n",
              "622        0.0       0.0             0.0            0.0          0.0  ...   \n",
              "623        0.0       0.0             0.0            0.0          0.0  ...   \n",
              "624        0.0       0.0             0.0            0.0          0.0  ...   \n",
              "625        0.0       0.0             0.0            0.0          0.0  ...   \n",
              "\n",
              "     VEHICLE CLASS_VAN - CARGO  VEHICLE CLASS_VAN - PASSENGER  \\\n",
              "0                          0.0                            0.0   \n",
              "1                          0.0                            0.0   \n",
              "2                          0.0                            0.0   \n",
              "3                          0.0                            0.0   \n",
              "4                          0.0                            0.0   \n",
              "..                         ...                            ...   \n",
              "621                        0.0                            0.0   \n",
              "622                        0.0                            0.0   \n",
              "623                        0.0                            0.0   \n",
              "624                        0.0                            0.0   \n",
              "625                        0.0                            0.0   \n",
              "\n",
              "     TRANSMISSION_A3  TRANSMISSION_A4  TRANSMISSION_A5  TRANSMISSION_AS4  \\\n",
              "0                0.0              1.0              0.0               0.0   \n",
              "1                0.0              0.0              0.0               0.0   \n",
              "2                0.0              0.0              0.0               0.0   \n",
              "3                0.0              1.0              0.0               0.0   \n",
              "4                0.0              1.0              0.0               0.0   \n",
              "..               ...              ...              ...               ...   \n",
              "621              0.0              1.0              0.0               0.0   \n",
              "622              0.0              1.0              0.0               0.0   \n",
              "623              0.0              1.0              0.0               0.0   \n",
              "624              0.0              0.0              0.0               0.0   \n",
              "625              0.0              0.0              1.0               0.0   \n",
              "\n",
              "     TRANSMISSION_M5  TRANSMISSION_M6  FUEL_X  FUEL_Z  \n",
              "0                0.0              0.0     1.0     0.0  \n",
              "1                1.0              0.0     1.0     0.0  \n",
              "2                0.0              0.0     0.0     1.0  \n",
              "3                0.0              0.0     0.0     1.0  \n",
              "4                0.0              0.0     1.0     0.0  \n",
              "..               ...              ...     ...     ...  \n",
              "621              0.0              0.0     0.0     1.0  \n",
              "622              0.0              0.0     0.0     1.0  \n",
              "623              0.0              0.0     0.0     1.0  \n",
              "624              1.0              0.0     0.0     1.0  \n",
              "625              0.0              0.0     0.0     1.0  \n",
              "\n",
              "[626 rows x 53 columns]"
            ],
            "text/html": [
              "\n",
              "  <div id=\"df-c9f18706-3a1f-4a4e-99b5-96fd5313b317\" class=\"colab-df-container\">\n",
              "    <div>\n",
              "<style scoped>\n",
              "    .dataframe tbody tr th:only-of-type {\n",
              "        vertical-align: middle;\n",
              "    }\n",
              "\n",
              "    .dataframe tbody tr th {\n",
              "        vertical-align: top;\n",
              "    }\n",
              "\n",
              "    .dataframe thead th {\n",
              "        text-align: right;\n",
              "    }\n",
              "</style>\n",
              "<table border=\"1\" class=\"dataframe\">\n",
              "  <thead>\n",
              "    <tr style=\"text-align: right;\">\n",
              "      <th></th>\n",
              "      <th>ENGINE SIZE</th>\n",
              "      <th>CYLINDERS</th>\n",
              "      <th>FUEL CONSUMPTION</th>\n",
              "      <th>COEMISSIONS</th>\n",
              "      <th>MAKE_ACURA</th>\n",
              "      <th>MAKE_AUDI</th>\n",
              "      <th>MAKE_BMW</th>\n",
              "      <th>MAKE_CHEVROLET</th>\n",
              "      <th>MAKE_CHRYSLER</th>\n",
              "      <th>MAKE_DAEWOO</th>\n",
              "      <th>...</th>\n",
              "      <th>VEHICLE CLASS_VAN - CARGO</th>\n",
              "      <th>VEHICLE CLASS_VAN - PASSENGER</th>\n",
              "      <th>TRANSMISSION_A3</th>\n",
              "      <th>TRANSMISSION_A4</th>\n",
              "      <th>TRANSMISSION_A5</th>\n",
              "      <th>TRANSMISSION_AS4</th>\n",
              "      <th>TRANSMISSION_M5</th>\n",
              "      <th>TRANSMISSION_M6</th>\n",
              "      <th>FUEL_X</th>\n",
              "      <th>FUEL_Z</th>\n",
              "    </tr>\n",
              "  </thead>\n",
              "  <tbody>\n",
              "    <tr>\n",
              "      <th>0</th>\n",
              "      <td>1.6</td>\n",
              "      <td>4.0</td>\n",
              "      <td>10.5</td>\n",
              "      <td>216.0</td>\n",
              "      <td>1.0</td>\n",
              "      <td>0.0</td>\n",
              "      <td>0.0</td>\n",
              "      <td>0.0</td>\n",
              "      <td>0.0</td>\n",
              "      <td>0.0</td>\n",
              "      <td>...</td>\n",
              "      <td>0.0</td>\n",
              "      <td>0.0</td>\n",
              "      <td>0.0</td>\n",
              "      <td>1.0</td>\n",
              "      <td>0.0</td>\n",
              "      <td>0.0</td>\n",
              "      <td>0.0</td>\n",
              "      <td>0.0</td>\n",
              "      <td>1.0</td>\n",
              "      <td>0.0</td>\n",
              "    </tr>\n",
              "    <tr>\n",
              "      <th>1</th>\n",
              "      <td>1.6</td>\n",
              "      <td>4.0</td>\n",
              "      <td>9.8</td>\n",
              "      <td>205.0</td>\n",
              "      <td>1.0</td>\n",
              "      <td>0.0</td>\n",
              "      <td>0.0</td>\n",
              "      <td>0.0</td>\n",
              "      <td>0.0</td>\n",
              "      <td>0.0</td>\n",
              "      <td>...</td>\n",
              "      <td>0.0</td>\n",
              "      <td>0.0</td>\n",
              "      <td>0.0</td>\n",
              "      <td>0.0</td>\n",
              "      <td>0.0</td>\n",
              "      <td>0.0</td>\n",
              "      <td>1.0</td>\n",
              "      <td>0.0</td>\n",
              "      <td>1.0</td>\n",
              "      <td>0.0</td>\n",
              "    </tr>\n",
              "    <tr>\n",
              "      <th>2</th>\n",
              "      <td>3.2</td>\n",
              "      <td>6.0</td>\n",
              "      <td>13.7</td>\n",
              "      <td>265.0</td>\n",
              "      <td>1.0</td>\n",
              "      <td>0.0</td>\n",
              "      <td>0.0</td>\n",
              "      <td>0.0</td>\n",
              "      <td>0.0</td>\n",
              "      <td>0.0</td>\n",
              "      <td>...</td>\n",
              "      <td>0.0</td>\n",
              "      <td>0.0</td>\n",
              "      <td>0.0</td>\n",
              "      <td>0.0</td>\n",
              "      <td>0.0</td>\n",
              "      <td>0.0</td>\n",
              "      <td>0.0</td>\n",
              "      <td>0.0</td>\n",
              "      <td>0.0</td>\n",
              "      <td>1.0</td>\n",
              "    </tr>\n",
              "    <tr>\n",
              "      <th>3</th>\n",
              "      <td>3.5</td>\n",
              "      <td>6.0</td>\n",
              "      <td>15.0</td>\n",
              "      <td>301.0</td>\n",
              "      <td>1.0</td>\n",
              "      <td>0.0</td>\n",
              "      <td>0.0</td>\n",
              "      <td>0.0</td>\n",
              "      <td>0.0</td>\n",
              "      <td>0.0</td>\n",
              "      <td>...</td>\n",
              "      <td>0.0</td>\n",
              "      <td>0.0</td>\n",
              "      <td>0.0</td>\n",
              "      <td>1.0</td>\n",
              "      <td>0.0</td>\n",
              "      <td>0.0</td>\n",
              "      <td>0.0</td>\n",
              "      <td>0.0</td>\n",
              "      <td>0.0</td>\n",
              "      <td>1.0</td>\n",
              "    </tr>\n",
              "    <tr>\n",
              "      <th>4</th>\n",
              "      <td>1.8</td>\n",
              "      <td>4.0</td>\n",
              "      <td>11.4</td>\n",
              "      <td>230.0</td>\n",
              "      <td>1.0</td>\n",
              "      <td>0.0</td>\n",
              "      <td>0.0</td>\n",
              "      <td>0.0</td>\n",
              "      <td>0.0</td>\n",
              "      <td>0.0</td>\n",
              "      <td>...</td>\n",
              "      <td>0.0</td>\n",
              "      <td>0.0</td>\n",
              "      <td>0.0</td>\n",
              "      <td>1.0</td>\n",
              "      <td>0.0</td>\n",
              "      <td>0.0</td>\n",
              "      <td>0.0</td>\n",
              "      <td>0.0</td>\n",
              "      <td>1.0</td>\n",
              "      <td>0.0</td>\n",
              "    </tr>\n",
              "    <tr>\n",
              "      <th>...</th>\n",
              "      <td>...</td>\n",
              "      <td>...</td>\n",
              "      <td>...</td>\n",
              "      <td>...</td>\n",
              "      <td>...</td>\n",
              "      <td>...</td>\n",
              "      <td>...</td>\n",
              "      <td>...</td>\n",
              "      <td>...</td>\n",
              "      <td>...</td>\n",
              "      <td>...</td>\n",
              "      <td>...</td>\n",
              "      <td>...</td>\n",
              "      <td>...</td>\n",
              "      <td>...</td>\n",
              "      <td>...</td>\n",
              "      <td>...</td>\n",
              "      <td>...</td>\n",
              "      <td>...</td>\n",
              "      <td>...</td>\n",
              "      <td>...</td>\n",
              "    </tr>\n",
              "    <tr>\n",
              "      <th>621</th>\n",
              "      <td>2.4</td>\n",
              "      <td>5.0</td>\n",
              "      <td>14.4</td>\n",
              "      <td>288.0</td>\n",
              "      <td>0.0</td>\n",
              "      <td>0.0</td>\n",
              "      <td>0.0</td>\n",
              "      <td>0.0</td>\n",
              "      <td>0.0</td>\n",
              "      <td>0.0</td>\n",
              "      <td>...</td>\n",
              "      <td>0.0</td>\n",
              "      <td>0.0</td>\n",
              "      <td>0.0</td>\n",
              "      <td>1.0</td>\n",
              "      <td>0.0</td>\n",
              "      <td>0.0</td>\n",
              "      <td>0.0</td>\n",
              "      <td>0.0</td>\n",
              "      <td>0.0</td>\n",
              "      <td>1.0</td>\n",
              "    </tr>\n",
              "    <tr>\n",
              "      <th>622</th>\n",
              "      <td>2.4</td>\n",
              "      <td>5.0</td>\n",
              "      <td>13.6</td>\n",
              "      <td>274.0</td>\n",
              "      <td>0.0</td>\n",
              "      <td>0.0</td>\n",
              "      <td>0.0</td>\n",
              "      <td>0.0</td>\n",
              "      <td>0.0</td>\n",
              "      <td>0.0</td>\n",
              "      <td>...</td>\n",
              "      <td>0.0</td>\n",
              "      <td>0.0</td>\n",
              "      <td>0.0</td>\n",
              "      <td>1.0</td>\n",
              "      <td>0.0</td>\n",
              "      <td>0.0</td>\n",
              "      <td>0.0</td>\n",
              "      <td>0.0</td>\n",
              "      <td>0.0</td>\n",
              "      <td>1.0</td>\n",
              "    </tr>\n",
              "    <tr>\n",
              "      <th>623</th>\n",
              "      <td>2.3</td>\n",
              "      <td>5.0</td>\n",
              "      <td>13.9</td>\n",
              "      <td>274.0</td>\n",
              "      <td>0.0</td>\n",
              "      <td>0.0</td>\n",
              "      <td>0.0</td>\n",
              "      <td>0.0</td>\n",
              "      <td>0.0</td>\n",
              "      <td>0.0</td>\n",
              "      <td>...</td>\n",
              "      <td>0.0</td>\n",
              "      <td>0.0</td>\n",
              "      <td>0.0</td>\n",
              "      <td>1.0</td>\n",
              "      <td>0.0</td>\n",
              "      <td>0.0</td>\n",
              "      <td>0.0</td>\n",
              "      <td>0.0</td>\n",
              "      <td>0.0</td>\n",
              "      <td>1.0</td>\n",
              "    </tr>\n",
              "    <tr>\n",
              "      <th>624</th>\n",
              "      <td>2.3</td>\n",
              "      <td>5.0</td>\n",
              "      <td>13.0</td>\n",
              "      <td>260.0</td>\n",
              "      <td>0.0</td>\n",
              "      <td>0.0</td>\n",
              "      <td>0.0</td>\n",
              "      <td>0.0</td>\n",
              "      <td>0.0</td>\n",
              "      <td>0.0</td>\n",
              "      <td>...</td>\n",
              "      <td>0.0</td>\n",
              "      <td>0.0</td>\n",
              "      <td>0.0</td>\n",
              "      <td>0.0</td>\n",
              "      <td>0.0</td>\n",
              "      <td>0.0</td>\n",
              "      <td>1.0</td>\n",
              "      <td>0.0</td>\n",
              "      <td>0.0</td>\n",
              "      <td>1.0</td>\n",
              "    </tr>\n",
              "    <tr>\n",
              "      <th>625</th>\n",
              "      <td>2.4</td>\n",
              "      <td>5.0</td>\n",
              "      <td>14.7</td>\n",
              "      <td>299.0</td>\n",
              "      <td>0.0</td>\n",
              "      <td>0.0</td>\n",
              "      <td>0.0</td>\n",
              "      <td>0.0</td>\n",
              "      <td>0.0</td>\n",
              "      <td>0.0</td>\n",
              "      <td>...</td>\n",
              "      <td>0.0</td>\n",
              "      <td>0.0</td>\n",
              "      <td>0.0</td>\n",
              "      <td>0.0</td>\n",
              "      <td>1.0</td>\n",
              "      <td>0.0</td>\n",
              "      <td>0.0</td>\n",
              "      <td>0.0</td>\n",
              "      <td>0.0</td>\n",
              "      <td>1.0</td>\n",
              "    </tr>\n",
              "  </tbody>\n",
              "</table>\n",
              "<p>626 rows × 53 columns</p>\n",
              "</div>\n",
              "    <div class=\"colab-df-buttons\">\n",
              "\n",
              "  <div class=\"colab-df-container\">\n",
              "    <button class=\"colab-df-convert\" onclick=\"convertToInteractive('df-c9f18706-3a1f-4a4e-99b5-96fd5313b317')\"\n",
              "            title=\"Convert this dataframe to an interactive table.\"\n",
              "            style=\"display:none;\">\n",
              "\n",
              "  <svg xmlns=\"http://www.w3.org/2000/svg\" height=\"24px\" viewBox=\"0 -960 960 960\">\n",
              "    <path d=\"M120-120v-720h720v720H120Zm60-500h600v-160H180v160Zm220 220h160v-160H400v160Zm0 220h160v-160H400v160ZM180-400h160v-160H180v160Zm440 0h160v-160H620v160ZM180-180h160v-160H180v160Zm440 0h160v-160H620v160Z\"/>\n",
              "  </svg>\n",
              "    </button>\n",
              "\n",
              "  <style>\n",
              "    .colab-df-container {\n",
              "      display:flex;\n",
              "      gap: 12px;\n",
              "    }\n",
              "\n",
              "    .colab-df-convert {\n",
              "      background-color: #E8F0FE;\n",
              "      border: none;\n",
              "      border-radius: 50%;\n",
              "      cursor: pointer;\n",
              "      display: none;\n",
              "      fill: #1967D2;\n",
              "      height: 32px;\n",
              "      padding: 0 0 0 0;\n",
              "      width: 32px;\n",
              "    }\n",
              "\n",
              "    .colab-df-convert:hover {\n",
              "      background-color: #E2EBFA;\n",
              "      box-shadow: 0px 1px 2px rgba(60, 64, 67, 0.3), 0px 1px 3px 1px rgba(60, 64, 67, 0.15);\n",
              "      fill: #174EA6;\n",
              "    }\n",
              "\n",
              "    .colab-df-buttons div {\n",
              "      margin-bottom: 4px;\n",
              "    }\n",
              "\n",
              "    [theme=dark] .colab-df-convert {\n",
              "      background-color: #3B4455;\n",
              "      fill: #D2E3FC;\n",
              "    }\n",
              "\n",
              "    [theme=dark] .colab-df-convert:hover {\n",
              "      background-color: #434B5C;\n",
              "      box-shadow: 0px 1px 3px 1px rgba(0, 0, 0, 0.15);\n",
              "      filter: drop-shadow(0px 1px 2px rgba(0, 0, 0, 0.3));\n",
              "      fill: #FFFFFF;\n",
              "    }\n",
              "  </style>\n",
              "\n",
              "    <script>\n",
              "      const buttonEl =\n",
              "        document.querySelector('#df-c9f18706-3a1f-4a4e-99b5-96fd5313b317 button.colab-df-convert');\n",
              "      buttonEl.style.display =\n",
              "        google.colab.kernel.accessAllowed ? 'block' : 'none';\n",
              "\n",
              "      async function convertToInteractive(key) {\n",
              "        const element = document.querySelector('#df-c9f18706-3a1f-4a4e-99b5-96fd5313b317');\n",
              "        const dataTable =\n",
              "          await google.colab.kernel.invokeFunction('convertToInteractive',\n",
              "                                                    [key], {});\n",
              "        if (!dataTable) return;\n",
              "\n",
              "        const docLinkHtml = 'Like what you see? Visit the ' +\n",
              "          '<a target=\"_blank\" href=https://colab.research.google.com/notebooks/data_table.ipynb>data table notebook</a>'\n",
              "          + ' to learn more about interactive tables.';\n",
              "        element.innerHTML = '';\n",
              "        dataTable['output_type'] = 'display_data';\n",
              "        await google.colab.output.renderOutput(dataTable, element);\n",
              "        const docLink = document.createElement('div');\n",
              "        docLink.innerHTML = docLinkHtml;\n",
              "        element.appendChild(docLink);\n",
              "      }\n",
              "    </script>\n",
              "  </div>\n",
              "\n",
              "\n",
              "    <div id=\"df-f4aebd8b-255d-4739-916a-01b234f1576e\">\n",
              "      <button class=\"colab-df-quickchart\" onclick=\"quickchart('df-f4aebd8b-255d-4739-916a-01b234f1576e')\"\n",
              "                title=\"Suggest charts\"\n",
              "                style=\"display:none;\">\n",
              "\n",
              "<svg xmlns=\"http://www.w3.org/2000/svg\" height=\"24px\"viewBox=\"0 0 24 24\"\n",
              "     width=\"24px\">\n",
              "    <g>\n",
              "        <path d=\"M19 3H5c-1.1 0-2 .9-2 2v14c0 1.1.9 2 2 2h14c1.1 0 2-.9 2-2V5c0-1.1-.9-2-2-2zM9 17H7v-7h2v7zm4 0h-2V7h2v10zm4 0h-2v-4h2v4z\"/>\n",
              "    </g>\n",
              "</svg>\n",
              "      </button>\n",
              "\n",
              "<style>\n",
              "  .colab-df-quickchart {\n",
              "      --bg-color: #E8F0FE;\n",
              "      --fill-color: #1967D2;\n",
              "      --hover-bg-color: #E2EBFA;\n",
              "      --hover-fill-color: #174EA6;\n",
              "      --disabled-fill-color: #AAA;\n",
              "      --disabled-bg-color: #DDD;\n",
              "  }\n",
              "\n",
              "  [theme=dark] .colab-df-quickchart {\n",
              "      --bg-color: #3B4455;\n",
              "      --fill-color: #D2E3FC;\n",
              "      --hover-bg-color: #434B5C;\n",
              "      --hover-fill-color: #FFFFFF;\n",
              "      --disabled-bg-color: #3B4455;\n",
              "      --disabled-fill-color: #666;\n",
              "  }\n",
              "\n",
              "  .colab-df-quickchart {\n",
              "    background-color: var(--bg-color);\n",
              "    border: none;\n",
              "    border-radius: 50%;\n",
              "    cursor: pointer;\n",
              "    display: none;\n",
              "    fill: var(--fill-color);\n",
              "    height: 32px;\n",
              "    padding: 0;\n",
              "    width: 32px;\n",
              "  }\n",
              "\n",
              "  .colab-df-quickchart:hover {\n",
              "    background-color: var(--hover-bg-color);\n",
              "    box-shadow: 0 1px 2px rgba(60, 64, 67, 0.3), 0 1px 3px 1px rgba(60, 64, 67, 0.15);\n",
              "    fill: var(--button-hover-fill-color);\n",
              "  }\n",
              "\n",
              "  .colab-df-quickchart-complete:disabled,\n",
              "  .colab-df-quickchart-complete:disabled:hover {\n",
              "    background-color: var(--disabled-bg-color);\n",
              "    fill: var(--disabled-fill-color);\n",
              "    box-shadow: none;\n",
              "  }\n",
              "\n",
              "  .colab-df-spinner {\n",
              "    border: 2px solid var(--fill-color);\n",
              "    border-color: transparent;\n",
              "    border-bottom-color: var(--fill-color);\n",
              "    animation:\n",
              "      spin 1s steps(1) infinite;\n",
              "  }\n",
              "\n",
              "  @keyframes spin {\n",
              "    0% {\n",
              "      border-color: transparent;\n",
              "      border-bottom-color: var(--fill-color);\n",
              "      border-left-color: var(--fill-color);\n",
              "    }\n",
              "    20% {\n",
              "      border-color: transparent;\n",
              "      border-left-color: var(--fill-color);\n",
              "      border-top-color: var(--fill-color);\n",
              "    }\n",
              "    30% {\n",
              "      border-color: transparent;\n",
              "      border-left-color: var(--fill-color);\n",
              "      border-top-color: var(--fill-color);\n",
              "      border-right-color: var(--fill-color);\n",
              "    }\n",
              "    40% {\n",
              "      border-color: transparent;\n",
              "      border-right-color: var(--fill-color);\n",
              "      border-top-color: var(--fill-color);\n",
              "    }\n",
              "    60% {\n",
              "      border-color: transparent;\n",
              "      border-right-color: var(--fill-color);\n",
              "    }\n",
              "    80% {\n",
              "      border-color: transparent;\n",
              "      border-right-color: var(--fill-color);\n",
              "      border-bottom-color: var(--fill-color);\n",
              "    }\n",
              "    90% {\n",
              "      border-color: transparent;\n",
              "      border-bottom-color: var(--fill-color);\n",
              "    }\n",
              "  }\n",
              "</style>\n",
              "\n",
              "      <script>\n",
              "        async function quickchart(key) {\n",
              "          const quickchartButtonEl =\n",
              "            document.querySelector('#' + key + ' button');\n",
              "          quickchartButtonEl.disabled = true;  // To prevent multiple clicks.\n",
              "          quickchartButtonEl.classList.add('colab-df-spinner');\n",
              "          try {\n",
              "            const charts = await google.colab.kernel.invokeFunction(\n",
              "                'suggestCharts', [key], {});\n",
              "          } catch (error) {\n",
              "            console.error('Error during call to suggestCharts:', error);\n",
              "          }\n",
              "          quickchartButtonEl.classList.remove('colab-df-spinner');\n",
              "          quickchartButtonEl.classList.add('colab-df-quickchart-complete');\n",
              "        }\n",
              "        (() => {\n",
              "          let quickchartButtonEl =\n",
              "            document.querySelector('#df-f4aebd8b-255d-4739-916a-01b234f1576e button');\n",
              "          quickchartButtonEl.style.display =\n",
              "            google.colab.kernel.accessAllowed ? 'block' : 'none';\n",
              "        })();\n",
              "      </script>\n",
              "    </div>\n",
              "\n",
              "  <div id=\"id_ff690d10-6f90-47f5-96d1-51715abb8a2b\">\n",
              "    <style>\n",
              "      .colab-df-generate {\n",
              "        background-color: #E8F0FE;\n",
              "        border: none;\n",
              "        border-radius: 50%;\n",
              "        cursor: pointer;\n",
              "        display: none;\n",
              "        fill: #1967D2;\n",
              "        height: 32px;\n",
              "        padding: 0 0 0 0;\n",
              "        width: 32px;\n",
              "      }\n",
              "\n",
              "      .colab-df-generate:hover {\n",
              "        background-color: #E2EBFA;\n",
              "        box-shadow: 0px 1px 2px rgba(60, 64, 67, 0.3), 0px 1px 3px 1px rgba(60, 64, 67, 0.15);\n",
              "        fill: #174EA6;\n",
              "      }\n",
              "\n",
              "      [theme=dark] .colab-df-generate {\n",
              "        background-color: #3B4455;\n",
              "        fill: #D2E3FC;\n",
              "      }\n",
              "\n",
              "      [theme=dark] .colab-df-generate:hover {\n",
              "        background-color: #434B5C;\n",
              "        box-shadow: 0px 1px 3px 1px rgba(0, 0, 0, 0.15);\n",
              "        filter: drop-shadow(0px 1px 2px rgba(0, 0, 0, 0.3));\n",
              "        fill: #FFFFFF;\n",
              "      }\n",
              "    </style>\n",
              "    <button class=\"colab-df-generate\" onclick=\"generateWithVariable('data')\"\n",
              "            title=\"Generate code using this dataframe.\"\n",
              "            style=\"display:none;\">\n",
              "\n",
              "  <svg xmlns=\"http://www.w3.org/2000/svg\" height=\"24px\"viewBox=\"0 0 24 24\"\n",
              "       width=\"24px\">\n",
              "    <path d=\"M7,19H8.4L18.45,9,17,7.55,7,17.6ZM5,21V16.75L18.45,3.32a2,2,0,0,1,2.83,0l1.4,1.43a1.91,1.91,0,0,1,.58,1.4,1.91,1.91,0,0,1-.58,1.4L9.25,21ZM18.45,9,17,7.55Zm-12,3A5.31,5.31,0,0,0,4.9,8.1,5.31,5.31,0,0,0,1,6.5,5.31,5.31,0,0,0,4.9,4.9,5.31,5.31,0,0,0,6.5,1,5.31,5.31,0,0,0,8.1,4.9,5.31,5.31,0,0,0,12,6.5,5.46,5.46,0,0,0,6.5,12Z\"/>\n",
              "  </svg>\n",
              "    </button>\n",
              "    <script>\n",
              "      (() => {\n",
              "      const buttonEl =\n",
              "        document.querySelector('#id_ff690d10-6f90-47f5-96d1-51715abb8a2b button.colab-df-generate');\n",
              "      buttonEl.style.display =\n",
              "        google.colab.kernel.accessAllowed ? 'block' : 'none';\n",
              "\n",
              "      buttonEl.onclick = () => {\n",
              "        google.colab.notebook.generateWithVariable('data');\n",
              "      }\n",
              "      })();\n",
              "    </script>\n",
              "  </div>\n",
              "\n",
              "    </div>\n",
              "  </div>\n"
            ],
            "application/vnd.google.colaboratory.intrinsic+json": {
              "type": "dataframe",
              "variable_name": "data"
            }
          },
          "metadata": {},
          "execution_count": 143
        }
      ],
      "source": [
        "data"
      ]
    },
    {
      "cell_type": "code",
      "execution_count": 144,
      "metadata": {
        "colab": {
          "base_uri": "https://localhost:8080/"
        },
        "id": "ZV1d7AusKA8A",
        "outputId": "cf2bb912-b8db-40da-eb38-d0688e77855c"
      },
      "outputs": [
        {
          "output_type": "stream",
          "name": "stdout",
          "text": [
            "<class 'pandas.core.frame.DataFrame'>\n",
            "RangeIndex: 626 entries, 0 to 625\n",
            "Data columns (total 53 columns):\n",
            " #   Column                                  Non-Null Count  Dtype  \n",
            "---  ------                                  --------------  -----  \n",
            " 0   ENGINE SIZE                             626 non-null    float64\n",
            " 1   CYLINDERS                               626 non-null    float64\n",
            " 2   FUEL CONSUMPTION                        626 non-null    float64\n",
            " 3   COEMISSIONS                             626 non-null    float64\n",
            " 4   MAKE_ACURA                              626 non-null    float64\n",
            " 5   MAKE_AUDI                               626 non-null    float64\n",
            " 6   MAKE_BMW                                626 non-null    float64\n",
            " 7   MAKE_CHEVROLET                          626 non-null    float64\n",
            " 8   MAKE_CHRYSLER                           626 non-null    float64\n",
            " 9   MAKE_DAEWOO                             626 non-null    float64\n",
            " 10  MAKE_DODGE                              626 non-null    float64\n",
            " 11  MAKE_FORD                               626 non-null    float64\n",
            " 12  MAKE_GMC                                626 non-null    float64\n",
            " 13  MAKE_HONDA                              626 non-null    float64\n",
            " 14  MAKE_HYUNDAI                            626 non-null    float64\n",
            " 15  MAKE_ISUZU                              626 non-null    float64\n",
            " 16  MAKE_JAGUAR                             626 non-null    float64\n",
            " 17  MAKE_JEEP                               626 non-null    float64\n",
            " 18  MAKE_LEXUS                              626 non-null    float64\n",
            " 19  MAKE_MAZDA                              626 non-null    float64\n",
            " 20  MAKE_MERCEDES-BENZ                      626 non-null    float64\n",
            " 21  MAKE_NISSAN                             626 non-null    float64\n",
            " 22  MAKE_PONTIAC                            626 non-null    float64\n",
            " 23  MAKE_PORSCHE                            626 non-null    float64\n",
            " 24  MAKE_SAAB                               626 non-null    float64\n",
            " 25  MAKE_SATURN                             626 non-null    float64\n",
            " 26  MAKE_SUBARU                             626 non-null    float64\n",
            " 27  MAKE_SUZUKI                             626 non-null    float64\n",
            " 28  MAKE_TOYOTA                             626 non-null    float64\n",
            " 29  MAKE_VOLKSWAGEN                         626 non-null    float64\n",
            " 30  MAKE_VOLVO                              626 non-null    float64\n",
            " 31  VEHICLE CLASS_COMPACT                   626 non-null    float64\n",
            " 32  VEHICLE CLASS_FULL-SIZE                 626 non-null    float64\n",
            " 33  VEHICLE CLASS_MID-SIZE                  626 non-null    float64\n",
            " 34  VEHICLE CLASS_MINICOMPACT               626 non-null    float64\n",
            " 35  VEHICLE CLASS_MINIVAN                   626 non-null    float64\n",
            " 36  VEHICLE CLASS_PICKUP TRUCK - SMALL      626 non-null    float64\n",
            " 37  VEHICLE CLASS_PICKUP TRUCK - STANDARD   626 non-null    float64\n",
            " 38  VEHICLE CLASS_STATION WAGON - MID-SIZE  626 non-null    float64\n",
            " 39  VEHICLE CLASS_STATION WAGON - SMALL     626 non-null    float64\n",
            " 40  VEHICLE CLASS_SUBCOMPACT                626 non-null    float64\n",
            " 41  VEHICLE CLASS_SUV                       626 non-null    float64\n",
            " 42  VEHICLE CLASS_TWO-SEATER                626 non-null    float64\n",
            " 43  VEHICLE CLASS_VAN - CARGO               626 non-null    float64\n",
            " 44  VEHICLE CLASS_VAN - PASSENGER           626 non-null    float64\n",
            " 45  TRANSMISSION_A3                         626 non-null    float64\n",
            " 46  TRANSMISSION_A4                         626 non-null    float64\n",
            " 47  TRANSMISSION_A5                         626 non-null    float64\n",
            " 48  TRANSMISSION_AS4                        626 non-null    float64\n",
            " 49  TRANSMISSION_M5                         626 non-null    float64\n",
            " 50  TRANSMISSION_M6                         626 non-null    float64\n",
            " 51  FUEL_X                                  626 non-null    float64\n",
            " 52  FUEL_Z                                  626 non-null    float64\n",
            "dtypes: float64(53)\n",
            "memory usage: 259.3 KB\n"
          ]
        }
      ],
      "source": [
        "data.info()"
      ]
    },
    {
      "cell_type": "code",
      "execution_count": 145,
      "metadata": {
        "id": "r4qdilAFSIY_"
      },
      "outputs": [],
      "source": [
        "from sklearn.linear_model import LinearRegression\n",
        "from sklearn.model_selection import train_test_split\n",
        "from sklearn.metrics import mean_squared_error, r2_score, mean_absolute_error"
      ]
    },
    {
      "cell_type": "code",
      "execution_count": 146,
      "metadata": {
        "id": "sWiSc7vbUCUN"
      },
      "outputs": [],
      "source": [
        "lr =  LinearRegression()\n"
      ]
    },
    {
      "cell_type": "code",
      "execution_count": 147,
      "metadata": {
        "id": "3l6n8s1VT6Ge",
        "colab": {
          "base_uri": "https://localhost:8080/"
        },
        "outputId": "079c353a-854c-442c-fc83-f6fb301992af"
      },
      "outputs": [
        {
          "output_type": "stream",
          "name": "stdout",
          "text": [
            "Train shape: (500, 52)\n",
            "Test shape: (126, 52)\n"
          ]
        }
      ],
      "source": [
        "# Separate target and features\n",
        "x = data.drop(columns=['COEMISSIONS'])\n",
        "y = data['COEMISSIONS']\n",
        "\n",
        "# Train-test split\n",
        "x_train, x_test, y_train, y_test = train_test_split(x, y, test_size=0.2, random_state=42)\n",
        "\n",
        "print(\"Train shape:\", x_train.shape)\n",
        "print(\"Test shape:\", x_test.shape)\n"
      ]
    },
    {
      "cell_type": "code",
      "source": [
        "import pickle\n",
        "\n",
        "final_feature_names = list(x.columns)\n",
        "\n",
        "with open('final_feature_names.pkl', 'wb') as f:\n",
        "    pickle.dump(final_feature_names, f)\n",
        "\n",
        "with open('encoder.pkl', 'wb') as f:\n",
        "    pickle.dump(encoder, f)\n",
        "\n",
        "with open('numeric_cols.pkl', 'wb') as f:\n",
        "    pickle.dump(numeric_cols, f)\n",
        "\n",
        "with open('categorical_cols.pkl', 'wb') as f:\n",
        "    pickle.dump(categorical_cols, f)\n",
        "\n",
        "print(\"Saved final_feature_names.pkl\")\n",
        "print(\"Saved encoder.pkl\")\n",
        "print(\"Saved numeric_cols.pkl\")\n",
        "print(\"Saved categorical_cols.pkl\")\n",
        "print(\"Number of features:\", len(final_feature_names))\n"
      ],
      "metadata": {
        "colab": {
          "base_uri": "https://localhost:8080/"
        },
        "id": "pjxkzy-Ms8o_",
        "outputId": "5aed402a-3a7b-4293-881c-27c679e37f52"
      },
      "execution_count": 148,
      "outputs": [
        {
          "output_type": "stream",
          "name": "stdout",
          "text": [
            "Saved final_feature_names.pkl\n",
            "Saved encoder.pkl\n",
            "Saved numeric_cols.pkl\n",
            "Saved categorical_cols.pkl\n",
            "Number of features: 52\n"
          ]
        }
      ]
    },
    {
      "cell_type": "code",
      "execution_count": 149,
      "metadata": {
        "colab": {
          "base_uri": "https://localhost:8080/"
        },
        "id": "9C79QGORUqPc",
        "outputId": "2703e55a-4a36-4e76-a962-6b41671713f2"
      },
      "outputs": [
        {
          "output_type": "stream",
          "name": "stdout",
          "text": [
            "Model training complete.\n"
          ]
        }
      ],
      "source": [
        "lr.fit(x_train, y_train)\n",
        "\n",
        "print(\"Model training complete.\")\n"
      ]
    },
    {
      "cell_type": "code",
      "source": [
        "import pickle\n",
        "\n",
        "with open('linear_regression_fuel_data.pkl', 'wb') as f:\n",
        "    pickle.dump(lr, f)\n",
        "\n",
        "print(\"Saved linear_regression_fuel_data.pkl\")\n"
      ],
      "metadata": {
        "colab": {
          "base_uri": "https://localhost:8080/"
        },
        "id": "l1JwDXDHtCNd",
        "outputId": "996fe2a7-3e09-4129-9256-892e1a49bec5"
      },
      "execution_count": 150,
      "outputs": [
        {
          "output_type": "stream",
          "name": "stdout",
          "text": [
            "Saved linear_regression_fuel_data.pkl\n"
          ]
        }
      ]
    },
    {
      "cell_type": "code",
      "execution_count": 151,
      "metadata": {
        "id": "Z-TK-ZTtUpyz"
      },
      "outputs": [],
      "source": [
        "y_pred = lr.predict(x_test)"
      ]
    },
    {
      "cell_type": "code",
      "execution_count": 152,
      "metadata": {
        "colab": {
          "base_uri": "https://localhost:8080/"
        },
        "id": "hdYCpPM3U1eJ",
        "outputId": "087f87ef-e215-45c8-e6fb-fd2bc66e79d3"
      },
      "outputs": [
        {
          "output_type": "stream",
          "name": "stdout",
          "text": [
            "Mean Squared Error: 61.90141760006333\n",
            "R-squared: 0.9830055842361567\n",
            "Mean Absolute Error: 5.524127453972629\n",
            "Root Mean Squared Error: 7.867745394969472\n"
          ]
        }
      ],
      "source": [
        "mse = mean_squared_error(y_test, y_pred)\n",
        "r2 = r2_score(y_test, y_pred)\n",
        "mae = mean_absolute_error(y_test, y_pred)\n",
        "rmse = np.sqrt(mse)\n",
        "\n",
        "print(\"Mean Squared Error:\", mse)\n",
        "print(\"R-squared:\", r2)\n",
        "print(\"Mean Absolute Error:\", mae)\n",
        "print(\"Root Mean Squared Error:\", rmse)"
      ]
    },
    {
      "cell_type": "code",
      "execution_count": 153,
      "metadata": {
        "colab": {
          "base_uri": "https://localhost:8080/"
        },
        "id": "USinlVxRHKJv",
        "outputId": "f994ade8-647b-47c9-ba65-23cbdf6bcc61"
      },
      "outputs": [
        {
          "output_type": "stream",
          "name": "stdout",
          "text": [
            "0.9830055842361567\n"
          ]
        }
      ],
      "source": [
        "print(lr.score(x_test, y_test))\n"
      ]
    },
    {
      "cell_type": "code",
      "execution_count": 154,
      "metadata": {
        "colab": {
          "base_uri": "https://localhost:8080/"
        },
        "id": "igQJIJbKVdHx",
        "outputId": "8be06c9e-e853-4859-98be-dc03de008c3e"
      },
      "outputs": [
        {
          "output_type": "stream",
          "name": "stdout",
          "text": [
            "Mean Squared Error: 61.90141760006333\n",
            "R-squared (Test): 0.9830055842361567\n",
            "R-squared (Train): 0.9837826294320455\n",
            "--- Overfitting Check ---\n",
            "R² difference: 0.000777\n",
            " No overfitting detected (difference < 0.05)\n"
          ]
        }
      ],
      "source": [
        "from sklearn.metrics import r2_score\n",
        "y_train_pred = lr.predict(x_train)\n",
        "train_r2 = r2_score(y_train, y_train_pred)\n",
        "\n",
        "print(\"Mean Squared Error:\", mse)\n",
        "print(\"R-squared (Test):\", r2)\n",
        "print(\"R-squared (Train):\", train_r2)\n",
        "\n",
        "print(\"--- Overfitting Check ---\")\n",
        "r2_diff = abs(train_r2 - r2)\n",
        "print(\"R² difference: \" + str(round(r2_diff, 6)))\n",
        "if r2_diff < 0.05:\n",
        "    print(\" No overfitting detected (difference < 0.05)\")\n",
        "elif r2_diff < 0.10:\n",
        "    print(\" Slight overfitting (difference < 0.10)\")\n",
        "else:\n",
        "    print(\" Overfitting detected (difference > 0.10)\")"
      ]
    },
    {
      "cell_type": "code",
      "execution_count": 155,
      "metadata": {
        "colab": {
          "base_uri": "https://localhost:8080/",
          "height": 564
        },
        "id": "K9_n2q_thKEY",
        "outputId": "9051b189-050e-4dff-8dca-4eae1910e16a"
      },
      "outputs": [
        {
          "output_type": "display_data",
          "data": {
            "text/plain": [
              "<Figure size 800x600 with 1 Axes>"
            ],
            "image/png": "[encoded data removed]"
          },
          "metadata": {}
        }
      ],
      "source": [
        "plt.figure(figsize=(8, 6))\n",
        "plt.scatter(y_test, y_pred, alpha=0.5)\n",
        "plt.plot([y_test.min(), y_test.max()], [y_test.min(), y_test.max()], 'r--')\n",
        "plt.xlabel('Actual CO2 Emissions')\n",
        "plt.ylabel('Predicted CO2 Emissions')\n",
        "plt.title('Actual vs Predicted CO2 Emissions')\n",
        "plt.show()"
      ]
    },
    {
      "cell_type": "markdown",
      "metadata": {
        "id": "HNUj0Gw255cT"
      },
      "source": [
        "knn"
      ]
    },
    {
      "cell_type": "code",
      "source": [
        "\n",
        "from sklearn.neighbors import KNeighborsRegressor\n",
        "\n",
        "r2_scores = []\n",
        "\n",
        "for k in range(1, 21):\n",
        "    knn = KNeighborsRegressor(n_neighbors=k)\n",
        "    knn.fit(x_train, y_train)\n",
        "    y_pred = knn.predict(x_test)\n",
        "    score = r2_score(y_test, y_pred)\n",
        "    r2_scores.append(score)\n",
        "\n",
        "plt.figure(figsize=(8,5))\n",
        "plt.plot(range(1, 21), r2_scores, marker='o', color='b')\n",
        "plt.title(\"R² Score vs K Value\")\n",
        "plt.xlabel(\"Number of Neighbors (K)\")\n",
        "plt.ylabel(\"R² Score\")\n",
        "plt.grid(True)\n",
        "\n",
        "plt.xticks(range(1, 21))\n",
        "\n",
        "plt.show()\n",
        "\n",
        "best_k = r2_scores.index(max(r2_scores)) + 1\n",
        "print(\"Best K value:\", best_k)\n",
        "print(\"Highest R² Score:\", max(r2_scores))\n"
      ],
      "metadata": {
        "id": "yYr5Eh4OAUrA",
        "colab": {
          "base_uri": "https://localhost:8080/",
          "height": 523
        },
        "outputId": "b5ebd350-1a0b-4c07-bb6a-02bfec90fb04"
      },
      "execution_count": 156,
      "outputs": [
        {
          "output_type": "display_data",
          "data": {
            "text/plain": [
              "<Figure size 800x500 with 1 Axes>"
            ],
            "image/png": "[encoded data removed]"
          },
          "metadata": {}
        },
        {
          "output_type": "stream",
          "name": "stdout",
          "text": [
            "Best K value: 6\n",
            "Highest R² Score: 0.9808056829297729\n"
          ]
        }
      ]
    },
    {
      "cell_type": "code",
      "execution_count": 157,
      "metadata": {
        "id": "0scV9FEn55JQ",
        "colab": {
          "base_uri": "https://localhost:8080/"
        },
        "outputId": "432ddd1a-5e6e-4c48-d33b-1e237dc2d346"
      },
      "outputs": [
        {
          "output_type": "stream",
          "name": "stdout",
          "text": [
            "KNN Regressor Evaluation:\n",
            "R2 Score: 0.9706247637267281\n",
            "Mean Squared Error: 106.99801587301587\n"
          ]
        }
      ],
      "source": [
        "knn = KNeighborsRegressor(n_neighbors=2)\n",
        "knn.fit(x_train, y_train)\n",
        "\n",
        "y_pred_knn = knn.predict(x_test)\n",
        "\n",
        "print(\"KNN Regressor Evaluation:\")\n",
        "print(\"R2 Score:\", r2_score(y_test, y_pred_knn))\n",
        "print(\"Mean Squared Error:\", mean_squared_error(y_test, y_pred_knn))\n"
      ]
    },
    {
      "cell_type": "markdown",
      "source": [
        "Decisison Tree"
      ],
      "metadata": {
        "id": "uZaPtKhyEgrb"
      }
    },
    {
      "cell_type": "code",
      "source": [
        "from sklearn.tree import DecisionTreeRegressor\n",
        "from sklearn.metrics import r2_score, mean_squared_error\n",
        "import matplotlib.pyplot as plt\n",
        "\n",
        "r2_scores = []\n",
        "\n",
        "for depth in range(1, 21):\n",
        "    model = DecisionTreeRegressor(max_depth=depth, random_state=42)\n",
        "    model.fit(x_train, y_train)\n",
        "    y_pred = model.predict(x_test)\n",
        "    score = r2_score(y_test, y_pred)\n",
        "    r2_scores.append(score)\n",
        "\n",
        "plt.figure(figsize=(8,5))\n",
        "plt.plot(range(1, 21), r2_scores, marker='o', linestyle='-', color='green')\n",
        "plt.title(\"R² Score vs max_depth\")\n",
        "plt.xlabel(\"max_depth\")\n",
        "plt.ylabel(\"R² Score\")\n",
        "plt.grid(True)\n",
        "plt.xticks(range(1, 21))\n",
        "plt.show()\n",
        "\n",
        "best_depth = r2_scores.index(max(r2_scores)) + 1\n",
        "print(\"Best max_depth:\", best_depth)\n",
        "print(\"Highest R² Score:\", max(r2_scores))\n"
      ],
      "metadata": {
        "id": "xw0M878LB9nY",
        "colab": {
          "base_uri": "https://localhost:8080/",
          "height": 523
        },
        "outputId": "3db3b53c-97fb-4c7a-9f51-a8cd58d0e53c"
      },
      "execution_count": 158,
      "outputs": [
        {
          "output_type": "display_data",
          "data": {
            "text/plain": [
              "<Figure size 800x500 with 1 Axes>"
            ],
            "image/png": "[encoded data removed]"
          },
          "metadata": {}
        },
        {
          "output_type": "stream",
          "name": "stdout",
          "text": [
            "Best max_depth: 16\n",
            "Highest R² Score: 0.9735055575589229\n"
          ]
        }
      ]
    },
    {
      "cell_type": "code",
      "source": [
        "dt_best = DecisionTreeRegressor(max_depth=best_depth, random_state=42)\n",
        "dt_best.fit(x_train, y_train)\n",
        "\n",
        "y_pred_best = dt_best.predict(x_test)\n",
        "print(\"Decision Tree Regressor (Best Depth) Evaluation:\")\n",
        "print(\"R2 Score:\", r2_score(y_test, y_pred_best))\n",
        "print(\"Mean Squared Error:\", mean_squared_error(y_test, y_pred_best))\n"
      ],
      "metadata": {
        "id": "OM75VoYTCAnR",
        "colab": {
          "base_uri": "https://localhost:8080/"
        },
        "outputId": "c2fcc06e-58e9-4b4f-ba82-b0bf348539b5"
      },
      "execution_count": 159,
      "outputs": [
        {
          "output_type": "stream",
          "name": "stdout",
          "text": [
            "Decision Tree Regressor (Best Depth) Evaluation:\n",
            "R2 Score: 0.9735055575589229\n",
            "Mean Squared Error: 96.50485008818342\n"
          ]
        }
      ]
    },
    {
      "cell_type": "markdown",
      "source": [
        "Random Forest"
      ],
      "metadata": {
        "id": "tQhsw-1hEkkQ"
      }
    },
    {
      "cell_type": "code",
      "source": [
        "from sklearn.ensemble import RandomForestRegressor\n",
        "from sklearn.metrics import r2_score, mean_squared_error\n",
        "import matplotlib.pyplot as plt\n",
        "\n",
        "r2_scores = []\n",
        "\n",
        "for n in range(10, 201, 10):\n",
        "    model = RandomForestRegressor(n_estimators=n, random_state=42)\n",
        "    model.fit(x_train, y_train)\n",
        "    y_pred = model.predict(x_test)\n",
        "    score = r2_score(y_test, y_pred)\n",
        "    r2_scores.append(score)\n",
        "\n",
        "plt.figure(figsize=(8,5))\n",
        "plt.plot(range(10, 201, 10), r2_scores, marker='o', linestyle='-', color='orange')\n",
        "plt.title(\"R² Score vs n_estimators\")\n",
        "plt.xlabel(\"Number of Trees (n_estimators)\")\n",
        "plt.ylabel(\"R² Score\")\n",
        "plt.grid(True)\n",
        "plt.xticks(range(10, 201, 10))\n",
        "plt.show()\n",
        "\n",
        "best_n = (range(10, 201, 10))[r2_scores.index(max(r2_scores))]\n",
        "print(\"Best n_estimators:\", best_n)\n",
        "print(\"Highest R² Score:\", max(r2_scores))\n"
      ],
      "metadata": {
        "id": "nD7wdZ6qDW6k",
        "colab": {
          "base_uri": "https://localhost:8080/",
          "height": 523
        },
        "outputId": "3bf1ddfe-ed88-4b27-a0d8-8aea94d36b1f"
      },
      "execution_count": 160,
      "outputs": [
        {
          "output_type": "display_data",
          "data": {
            "text/plain": [
              "<Figure size 800x500 with 1 Axes>"
            ],
            "image/png": "[encoded data removed]"
          },
          "metadata": {}
        },
        {
          "output_type": "stream",
          "name": "stdout",
          "text": [
            "Best n_estimators: 10\n",
            "Highest R² Score: 0.9830369899084758\n"
          ]
        }
      ]
    },
    {
      "cell_type": "code",
      "source": [
        "rf_best = RandomForestRegressor(n_estimators=best_n, random_state=42)\n",
        "rf_best.fit(x_train, y_train)\n",
        "y_pred_best = rf_best.predict(x_test)\n",
        "print(\"Random Forest Regressor (Best Estimators) Evaluation:\")\n",
        "print(\"R2 Score:\", r2_score(y_test, y_pred_best))\n",
        "print(\"Mean Squared Error:\", mean_squared_error(y_test, y_pred_best))\n"
      ],
      "metadata": {
        "id": "8apBhgrNDZLr",
        "colab": {
          "base_uri": "https://localhost:8080/"
        },
        "outputId": "bdd86429-3789-4698-f950-889165f532f2"
      },
      "execution_count": 161,
      "outputs": [
        {
          "output_type": "stream",
          "name": "stdout",
          "text": [
            "Random Forest Regressor (Best Estimators) Evaluation:\n",
            "R2 Score: 0.9830369899084758\n",
            "Mean Squared Error: 61.78702380952381\n"
          ]
        }
      ]
    },
    {
      "cell_type": "code",
      "source": [
        "from sklearn.model_selection import cross_val_score\n",
        "\n",
        "models = {\n",
        "    'Linear Regression': LinearRegression(),\n",
        "    'KNN Regressor': KNeighborsRegressor(),\n",
        "    'Decision Tree': DecisionTreeRegressor(random_state=42),\n",
        "    'Random Forest': RandomForestRegressor(random_state=42)\n",
        "}\n",
        "\n",
        "print(\"Cross Validation Results (5-Fold):\\n\")\n",
        "\n",
        "for name, model in models.items():\n",
        "    scores = cross_val_score(model, x, y, cv=5, scoring='r2')\n",
        "    print(name + \":\")\n",
        "    print(\"  Mean R² Score: \" + str(round(scores.mean(), 4)))\n",
        "    print(\"  Std Deviation: \" + str(round(scores.std(), 4)))\n",
        "    print(\"----------------------------------------\")\n"
      ],
      "metadata": {
        "id": "5fYLhRzDDbiS",
        "colab": {
          "base_uri": "https://localhost:8080/"
        },
        "outputId": "f7f66c39-45ea-412c-96e2-1d712372318a"
      },
      "execution_count": 162,
      "outputs": [
        {
          "output_type": "stream",
          "name": "stdout",
          "text": [
            "Cross Validation Results (5-Fold):\n",
            "\n",
            "Linear Regression:\n",
            "  Mean R² Score: 0.8893\n",
            "  Std Deviation: 0.1377\n",
            "----------------------------------------\n",
            "KNN Regressor:\n",
            "  Mean R² Score: 0.9619\n",
            "  Std Deviation: 0.018\n",
            "----------------------------------------\n",
            "Decision Tree:\n",
            "  Mean R² Score: 0.9504\n",
            "  Std Deviation: 0.0383\n",
            "----------------------------------------\n",
            "Random Forest:\n",
            "  Mean R² Score: 0.9583\n",
            "  Std Deviation: 0.0354\n",
            "----------------------------------------\n"
          ]
        }
      ]
    },
    {
      "cell_type": "code",
      "source": [
        "import pandas as pd\n",
        "\n",
        "results = {\n",
        "    \"Model\": [\"Linear Regression\", \"KNN Regressor\", \"Decision Tree Regressor\", \"Random Forest Regressor\"],\n",
        "    \"R2 Score\": [0.9905, 0.9716, 0.9738, 0.9793],\n",
        "    \"Mean Squared Error\": [34.55, 103.42, 95.17, 75.06]\n",
        "}\n",
        "\n",
        "result_df = pd.DataFrame(results)\n",
        "\n",
        "print(\"Final Model Performance Comparison:\\n\")\n",
        "print(result_df)\n",
        "\n",
        "best_model = result_df.loc[result_df[\"R2 Score\"].idxmax(), \"Model\"]\n",
        "print(\"Best Performing Model Based on R² Score:\", best_model)\n"
      ],
      "metadata": {
        "id": "ze6H7u-rFaJN",
        "colab": {
          "base_uri": "https://localhost:8080/"
        },
        "outputId": "e003b87a-ffee-40a4-9b2b-85f98d0c0f2a"
      },
      "execution_count": 163,
      "outputs": [
        {
          "output_type": "stream",
          "name": "stdout",
          "text": [
            "Final Model Performance Comparison:\n",
            "\n",
            "                     Model  R2 Score  Mean Squared Error\n",
            "0        Linear Regression    0.9905               34.55\n",
            "1            KNN Regressor    0.9716              103.42\n",
            "2  Decision Tree Regressor    0.9738               95.17\n",
            "3  Random Forest Regressor    0.9793               75.06\n",
            "Best Performing Model Based on R² Score: Linear Regression\n"
          ]
        }
      ]
    },
    {
      "cell_type": "code",
      "source": [
        "from google.colab import files\n",
        "files.download('linear_regression_fuel_data.pkl')"
      ],
      "metadata": {
        "id": "daJ190OpKKXZ",
        "colab": {
          "base_uri": "https://localhost:8080/",
          "height": 17
        },
        "outputId": "70e8fa41-ee29-497e-ca07-497af66c931d"
      },
      "execution_count": 164,
      "outputs": [
        {
          "output_type": "display_data",
          "data": {
            "text/plain": [
              "<IPython.core.display.Javascript object>"
            ],
            "application/javascript": [
              "\n",
              "    async function download(id, filename, size) {\n",
              "      if (!google.colab.kernel.accessAllowed) {\n",
              "        return;\n",
              "      }\n",
              "      const div = document.createElement('div');\n",
              "      const label = document.createElement('label');\n",
              "      label.textContent = `Downloading \"${filename}\": `;\n",
              "      div.appendChild(label);\n",
              "      const progress = document.createElement('progress');\n",
              "      progress.max = size;\n",
              "      div.appendChild(progress);\n",
              "      document.body.appendChild(div);\n",
              "\n",
              "      const buffers = [];\n",
              "      let downloaded = 0;\n",
              "\n",
              "      const channel = await google.colab.kernel.comms.open(id);\n",
              "      // Send a message to notify the kernel that we're ready.\n",
              "      channel.send({})\n",
              "\n",
              "      for await (const message of channel.messages) {\n",
              "        // Send a message to notify the kernel that we're ready.\n",
              "        channel.send({})\n",
              "        if (message.buffers) {\n",
              "          for (const buffer of message.buffers) {\n",
              "            buffers.push(buffer);\n",
              "            downloaded += buffer.byteLength;\n",
              "            progress.value = downloaded;\n",
              "          }\n",
              "        }\n",
              "      }\n",
              "      const blob = new Blob(buffers, {type: 'application/binary'});\n",
              "      const a = document.createElement('a');\n",
              "      a.href = window.URL.createObjectURL(blob);\n",
              "      a.download = filename;\n",
              "      div.appendChild(a);\n",
              "      a.click();\n",
              "      div.remove();\n",
              "    }\n",
              "  "
            ]
          },
          "metadata": {}
        },
        {
          "output_type": "display_data",
          "data": {
            "text/plain": [
              "<IPython.core.display.Javascript object>"
            ],
            "application/javascript": [
              "download(\"download_72645cb0-5d5a-430b-afae-c4f3bd8de37e\", \"linear_regression_fuel_data.pkl\", 2294)"
            ]
          },
          "metadata": {}
        }
      ]
    }
  ],
  "metadata": {
    "colab": {
      "provenance": []
    },
    "kernelspec": {
      "display_name": "Python 3",
      "name": "python3"
    },
    "language_info": {
      "name": "python"
    }
  },
  "nbformat": 4,
  "nbformat_minor": 0
}