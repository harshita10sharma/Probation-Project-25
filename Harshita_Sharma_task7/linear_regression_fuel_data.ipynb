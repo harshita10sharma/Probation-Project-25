{
  "cells": [
    {
      "cell_type": "code",
      "execution_count": 377,
      "metadata": {
        "colab": {
          "base_uri": "https://localhost:8080/"
        },
        "id": "QtEOy38F1EkE",
        "outputId": "22de66aa-0055-4613-debd-939878362535"
      },
      "outputs": [
        {
          "output_type": "stream",
          "name": "stdout",
          "text": [
            "Drive already mounted at /content/drive; to attempt to forcibly remount, call drive.mount(\"/content/drive\", force_remount=True).\n"
          ]
        }
      ],
      "source": [
        "from google.colab import drive\n",
        "drive.mount('/content/drive')"
      ]
    },
    {
      "cell_type": "code",
      "execution_count": 378,
      "metadata": {
        "id": "7laAssuZ1dtI"
      },
      "outputs": [],
      "source": [
        "import pandas as pd\n",
        "import numpy as np\n",
        "import matplotlib.pyplot as plt\n",
        "import seaborn as sns\n",
        "import sklearn"
      ]
    },
    {
      "cell_type": "code",
      "source": [
        "print(\"numpy\",np.__version__)\n",
        "print(\"pandas\",pd.__version__)\n",
        "print(\"sklearn\",sklearn.__version__)\n",
        "import flask\n",
        "print(\"flask\",flask.__version__)"
      ],
      "metadata": {
        "colab": {
          "base_uri": "https://localhost:8080/"
        },
        "id": "ezVgxa2piRYh",
        "outputId": "f97bf9fc-06d6-45c4-cc8d-95c7d2788729"
      },
      "execution_count": 379,
      "outputs": [
        {
          "output_type": "stream",
          "name": "stdout",
          "text": [
            "numpy 2.0.2\n",
            "pandas 2.2.2\n",
            "sklearn 1.6.1\n",
            "flask 3.1.2\n"
          ]
        },
        {
          "output_type": "stream",
          "name": "stderr",
          "text": [
            "/tmp/ipython-input-2389353287.py:5: DeprecationWarning: The '__version__' attribute is deprecated and will be removed in Flask 3.2. Use feature detection or 'importlib.metadata.version(\"flask\")' instead.\n",
            "  print(\"flask\",flask.__version__)\n"
          ]
        }
      ]
    },
    {
      "cell_type": "code",
      "execution_count": 380,
      "metadata": {
        "id": "yEZm1SGt1f6h"
      },
      "outputs": [],
      "source": [
        "data = pd.read_csv('/content/drive/MyDrive/ML learning/Fuel Cosumption - Sheet1.csv')"
      ]
    },
    {
      "cell_type": "code",
      "execution_count": 381,
      "metadata": {
        "colab": {
          "base_uri": "https://localhost:8080/",
          "height": 634
        },
        "id": "rDTfP-p111eT",
        "outputId": "2c3bea43-7f32-457f-c438-aae56acf78b4"
      },
      "outputs": [
        {
          "output_type": "execute_result",
          "data": {
            "text/plain": [
              "     Year   MAKE           MODEL             VEHICLE CLASS  ENGINE SIZE  \\\n",
              "0    2000  ACURA           1.6EL                   COMPACT          1.6   \n",
              "1    2000  ACURA           1.6EL                   COMPACT          1.6   \n",
              "2    2000  ACURA           3.2TL                  MID-SIZE          3.2   \n",
              "3    2000  ACURA           3.5RL                  MID-SIZE          3.5   \n",
              "4    2000  ACURA         INTEGRA                SUBCOMPACT          1.8   \n",
              "..    ...    ...             ...                       ...          ...   \n",
              "634  2000  VOLVO   V70 AWD TURBO  STATION WAGON - MID-SIZE          2.4   \n",
              "635  2000  VOLVO   V70 GLT TURBO  STATION WAGON - MID-SIZE          2.4   \n",
              "636  2000  VOLVO    V70 T5 TURBO  STATION WAGON - MID-SIZE          2.3   \n",
              "637  2000  VOLVO    V70 T5 TURBO  STATION WAGON - MID-SIZE          2.3   \n",
              "638  2000  VOLVO  V70R AWD TURBO  STATION WAGON - MID-SIZE          2.4   \n",
              "\n",
              "     CYLINDERS TRANSMISSION FUEL  FUEL CONSUMPTION  COEMISSIONS  \n",
              "0            4           A4    X              10.5          216  \n",
              "1            4           M5    X               9.8          205  \n",
              "2            6          AS5    Z              13.7          265  \n",
              "3            6           A4    Z              15.0          301  \n",
              "4            4           A4    X              11.4          230  \n",
              "..         ...          ...  ...               ...          ...  \n",
              "634          5           A4    Z              14.4          288  \n",
              "635          5           A4    Z              13.6          274  \n",
              "636          5           A4    Z              13.9          274  \n",
              "637          5           M5    Z              13.0          260  \n",
              "638          5           A5    Z              14.7          299  \n",
              "\n",
              "[639 rows x 10 columns]"
            ],
            "text/html": [
              "\n",
              "  <div id=\"df-80c055cf-a99b-4824-9b45-475b641f1b43\" class=\"colab-df-container\">\n",
              "    <div>\n",
              "<style scoped>\n",
              "    .dataframe tbody tr th:only-of-type {\n",
              "        vertical-align: middle;\n",
              "    }\n",
              "\n",
              "    .dataframe tbody tr th {\n",
              "        vertical-align: top;\n",
              "    }\n",
              "\n",
              "    .dataframe thead th {\n",
              "        text-align: right;\n",
              "    }\n",
              "</style>\n",
              "<table border=\"1\" class=\"dataframe\">\n",
              "  <thead>\n",
              "    <tr style=\"text-align: right;\">\n",
              "      <th></th>\n",
              "      <th>Year</th>\n",
              "      <th>MAKE</th>\n",
              "      <th>MODEL</th>\n",
              "      <th>VEHICLE CLASS</th>\n",
              "      <th>ENGINE SIZE</th>\n",
              "      <th>CYLINDERS</th>\n",
              "      <th>TRANSMISSION</th>\n",
              "      <th>FUEL</th>\n",
              "      <th>FUEL CONSUMPTION</th>\n",
              "      <th>COEMISSIONS</th>\n",
              "    </tr>\n",
              "  </thead>\n",
              "  <tbody>\n",
              "    <tr>\n",
              "      <th>0</th>\n",
              "      <td>2000</td>\n",
              "      <td>ACURA</td>\n",
              "      <td>1.6EL</td>\n",
              "      <td>COMPACT</td>\n",
              "      <td>1.6</td>\n",
              "      <td>4</td>\n",
              "      <td>A4</td>\n",
              "      <td>X</td>\n",
              "      <td>10.5</td>\n",
              "      <td>216</td>\n",
              "    </tr>\n",
              "    <tr>\n",
              "      <th>1</th>\n",
              "      <td>2000</td>\n",
              "      <td>ACURA</td>\n",
              "      <td>1.6EL</td>\n",
              "      <td>COMPACT</td>\n",
              "      <td>1.6</td>\n",
              "      <td>4</td>\n",
              "      <td>M5</td>\n",
              "      <td>X</td>\n",
              "      <td>9.8</td>\n",
              "      <td>205</td>\n",
              "    </tr>\n",
              "    <tr>\n",
              "      <th>2</th>\n",
              "      <td>2000</td>\n",
              "      <td>ACURA</td>\n",
              "      <td>3.2TL</td>\n",
              "      <td>MID-SIZE</td>\n",
              "      <td>3.2</td>\n",
              "      <td>6</td>\n",
              "      <td>AS5</td>\n",
              "      <td>Z</td>\n",
              "      <td>13.7</td>\n",
              "      <td>265</td>\n",
              "    </tr>\n",
              "    <tr>\n",
              "      <th>3</th>\n",
              "      <td>2000</td>\n",
              "      <td>ACURA</td>\n",
              "      <td>3.5RL</td>\n",
              "      <td>MID-SIZE</td>\n",
              "      <td>3.5</td>\n",
              "      <td>6</td>\n",
              "      <td>A4</td>\n",
              "      <td>Z</td>\n",
              "      <td>15.0</td>\n",
              "      <td>301</td>\n",
              "    </tr>\n",
              "    <tr>\n",
              "      <th>4</th>\n",
              "      <td>2000</td>\n",
              "      <td>ACURA</td>\n",
              "      <td>INTEGRA</td>\n",
              "      <td>SUBCOMPACT</td>\n",
              "      <td>1.8</td>\n",
              "      <td>4</td>\n",
              "      <td>A4</td>\n",
              "      <td>X</td>\n",
              "      <td>11.4</td>\n",
              "      <td>230</td>\n",
              "    </tr>\n",
              "    <tr>\n",
              "      <th>...</th>\n",
              "      <td>...</td>\n",
              "      <td>...</td>\n",
              "      <td>...</td>\n",
              "      <td>...</td>\n",
              "      <td>...</td>\n",
              "      <td>...</td>\n",
              "      <td>...</td>\n",
              "      <td>...</td>\n",
              "      <td>...</td>\n",
              "      <td>...</td>\n",
              "    </tr>\n",
              "    <tr>\n",
              "      <th>634</th>\n",
              "      <td>2000</td>\n",
              "      <td>VOLVO</td>\n",
              "      <td>V70 AWD TURBO</td>\n",
              "      <td>STATION WAGON - MID-SIZE</td>\n",
              "      <td>2.4</td>\n",
              "      <td>5</td>\n",
              "      <td>A4</td>\n",
              "      <td>Z</td>\n",
              "      <td>14.4</td>\n",
              "      <td>288</td>\n",
              "    </tr>\n",
              "    <tr>\n",
              "      <th>635</th>\n",
              "      <td>2000</td>\n",
              "      <td>VOLVO</td>\n",
              "      <td>V70 GLT TURBO</td>\n",
              "      <td>STATION WAGON - MID-SIZE</td>\n",
              "      <td>2.4</td>\n",
              "      <td>5</td>\n",
              "      <td>A4</td>\n",
              "      <td>Z</td>\n",
              "      <td>13.6</td>\n",
              "      <td>274</td>\n",
              "    </tr>\n",
              "    <tr>\n",
              "      <th>636</th>\n",
              "      <td>2000</td>\n",
              "      <td>VOLVO</td>\n",
              "      <td>V70 T5 TURBO</td>\n",
              "      <td>STATION WAGON - MID-SIZE</td>\n",
              "      <td>2.3</td>\n",
              "      <td>5</td>\n",
              "      <td>A4</td>\n",
              "      <td>Z</td>\n",
              "      <td>13.9</td>\n",
              "      <td>274</td>\n",
              "    </tr>\n",
              "    <tr>\n",
              "      <th>637</th>\n",
              "      <td>2000</td>\n",
              "      <td>VOLVO</td>\n",
              "      <td>V70 T5 TURBO</td>\n",
              "      <td>STATION WAGON - MID-SIZE</td>\n",
              "      <td>2.3</td>\n",
              "      <td>5</td>\n",
              "      <td>M5</td>\n",
              "      <td>Z</td>\n",
              "      <td>13.0</td>\n",
              "      <td>260</td>\n",
              "    </tr>\n",
              "    <tr>\n",
              "      <th>638</th>\n",
              "      <td>2000</td>\n",
              "      <td>VOLVO</td>\n",
              "      <td>V70R AWD TURBO</td>\n",
              "      <td>STATION WAGON - MID-SIZE</td>\n",
              "      <td>2.4</td>\n",
              "      <td>5</td>\n",
              "      <td>A5</td>\n",
              "      <td>Z</td>\n",
              "      <td>14.7</td>\n",
              "      <td>299</td>\n",
              "    </tr>\n",
              "  </tbody>\n",
              "</table>\n",
              "<p>639 rows × 10 columns</p>\n",
              "</div>\n",
              "    <div class=\"colab-df-buttons\">\n",
              "\n",
              "  <div class=\"colab-df-container\">\n",
              "    <button class=\"colab-df-convert\" onclick=\"convertToInteractive('df-80c055cf-a99b-4824-9b45-475b641f1b43')\"\n",
              "            title=\"Convert this dataframe to an interactive table.\"\n",
              "            style=\"display:none;\">\n",
              "\n",
              "  <svg xmlns=\"http://www.w3.org/2000/svg\" height=\"24px\" viewBox=\"0 -960 960 960\">\n",
              "    <path d=\"M120-120v-720h720v720H120Zm60-500h600v-160H180v160Zm220 220h160v-160H400v160Zm0 220h160v-160H400v160ZM180-400h160v-160H180v160Zm440 0h160v-160H620v160ZM180-180h160v-160H180v160Zm440 0h160v-160H620v160Z\"/>\n",
              "  </svg>\n",
              "    </button>\n",
              "\n",
              "  <style>\n",
              "    .colab-df-container {\n",
              "      display:flex;\n",
              "      gap: 12px;\n",
              "    }\n",
              "\n",
              "    .colab-df-convert {\n",
              "      background-color: #E8F0FE;\n",
              "      border: none;\n",
              "      border-radius: 50%;\n",
              "      cursor: pointer;\n",
              "      display: none;\n",
              "      fill: #1967D2;\n",
              "      height: 32px;\n",
              "      padding: 0 0 0 0;\n",
              "      width: 32px;\n",
              "    }\n",
              "\n",
              "    .colab-df-convert:hover {\n",
              "      background-color: #E2EBFA;\n",
              "      box-shadow: 0px 1px 2px rgba(60, 64, 67, 0.3), 0px 1px 3px 1px rgba(60, 64, 67, 0.15);\n",
              "      fill: #174EA6;\n",
              "    }\n",
              "\n",
              "    .colab-df-buttons div {\n",
              "      margin-bottom: 4px;\n",
              "    }\n",
              "\n",
              "    [theme=dark] .colab-df-convert {\n",
              "      background-color: #3B4455;\n",
              "      fill: #D2E3FC;\n",
              "    }\n",
              "\n",
              "    [theme=dark] .colab-df-convert:hover {\n",
              "      background-color: #434B5C;\n",
              "      box-shadow: 0px 1px 3px 1px rgba(0, 0, 0, 0.15);\n",
              "      filter: drop-shadow(0px 1px 2px rgba(0, 0, 0, 0.3));\n",
              "      fill: #FFFFFF;\n",
              "    }\n",
              "  </style>\n",
              "\n",
              "    <script>\n",
              "      const buttonEl =\n",
              "        document.querySelector('#df-80c055cf-a99b-4824-9b45-475b641f1b43 button.colab-df-convert');\n",
              "      buttonEl.style.display =\n",
              "        google.colab.kernel.accessAllowed ? 'block' : 'none';\n",
              "\n",
              "      async function convertToInteractive(key) {\n",
              "        const element = document.querySelector('#df-80c055cf-a99b-4824-9b45-475b641f1b43');\n",
              "        const dataTable =\n",
              "          await google.colab.kernel.invokeFunction('convertToInteractive',\n",
              "                                                    [key], {});\n",
              "        if (!dataTable) return;\n",
              "\n",
              "        const docLinkHtml = 'Like what you see? Visit the ' +\n",
              "          '<a target=\"_blank\" href=https://colab.research.google.com/notebooks/data_table.ipynb>data table notebook</a>'\n",
              "          + ' to learn more about interactive tables.';\n",
              "        element.innerHTML = '';\n",
              "        dataTable['output_type'] = 'display_data';\n",
              "        await google.colab.output.renderOutput(dataTable, element);\n",
              "        const docLink = document.createElement('div');\n",
              "        docLink.innerHTML = docLinkHtml;\n",
              "        element.appendChild(docLink);\n",
              "      }\n",
              "    </script>\n",
              "  </div>\n",
              "\n",
              "\n",
              "    <div id=\"df-06a5effb-3015-40b9-b2f8-7caa494fe5dc\">\n",
              "      <button class=\"colab-df-quickchart\" onclick=\"quickchart('df-06a5effb-3015-40b9-b2f8-7caa494fe5dc')\"\n",
              "                title=\"Suggest charts\"\n",
              "                style=\"display:none;\">\n",
              "\n",
              "<svg xmlns=\"http://www.w3.org/2000/svg\" height=\"24px\"viewBox=\"0 0 24 24\"\n",
              "     width=\"24px\">\n",
              "    <g>\n",
              "        <path d=\"M19 3H5c-1.1 0-2 .9-2 2v14c0 1.1.9 2 2 2h14c1.1 0 2-.9 2-2V5c0-1.1-.9-2-2-2zM9 17H7v-7h2v7zm4 0h-2V7h2v10zm4 0h-2v-4h2v4z\"/>\n",
              "    </g>\n",
              "</svg>\n",
              "      </button>\n",
              "\n",
              "<style>\n",
              "  .colab-df-quickchart {\n",
              "      --bg-color: #E8F0FE;\n",
              "      --fill-color: #1967D2;\n",
              "      --hover-bg-color: #E2EBFA;\n",
              "      --hover-fill-color: #174EA6;\n",
              "      --disabled-fill-color: #AAA;\n",
              "      --disabled-bg-color: #DDD;\n",
              "  }\n",
              "\n",
              "  [theme=dark] .colab-df-quickchart {\n",
              "      --bg-color: #3B4455;\n",
              "      --fill-color: #D2E3FC;\n",
              "      --hover-bg-color: #434B5C;\n",
              "      --hover-fill-color: #FFFFFF;\n",
              "      --disabled-bg-color: #3B4455;\n",
              "      --disabled-fill-color: #666;\n",
              "  }\n",
              "\n",
              "  .colab-df-quickchart {\n",
              "    background-color: var(--bg-color);\n",
              "    border: none;\n",
              "    border-radius: 50%;\n",
              "    cursor: pointer;\n",
              "    display: none;\n",
              "    fill: var(--fill-color);\n",
              "    height: 32px;\n",
              "    padding: 0;\n",
              "    width: 32px;\n",
              "  }\n",
              "\n",
              "  .colab-df-quickchart:hover {\n",
              "    background-color: var(--hover-bg-color);\n",
              "    box-shadow: 0 1px 2px rgba(60, 64, 67, 0.3), 0 1px 3px 1px rgba(60, 64, 67, 0.15);\n",
              "    fill: var(--button-hover-fill-color);\n",
              "  }\n",
              "\n",
              "  .colab-df-quickchart-complete:disabled,\n",
              "  .colab-df-quickchart-complete:disabled:hover {\n",
              "    background-color: var(--disabled-bg-color);\n",
              "    fill: var(--disabled-fill-color);\n",
              "    box-shadow: none;\n",
              "  }\n",
              "\n",
              "  .colab-df-spinner {\n",
              "    border: 2px solid var(--fill-color);\n",
              "    border-color: transparent;\n",
              "    border-bottom-color: var(--fill-color);\n",
              "    animation:\n",
              "      spin 1s steps(1) infinite;\n",
              "  }\n",
              "\n",
              "  @keyframes spin {\n",
              "    0% {\n",
              "      border-color: transparent;\n",
              "      border-bottom-color: var(--fill-color);\n",
              "      border-left-color: var(--fill-color);\n",
              "    }\n",
              "    20% {\n",
              "      border-color: transparent;\n",
              "      border-left-color: var(--fill-color);\n",
              "      border-top-color: var(--fill-color);\n",
              "    }\n",
              "    30% {\n",
              "      border-color: transparent;\n",
              "      border-left-color: var(--fill-color);\n",
              "      border-top-color: var(--fill-color);\n",
              "      border-right-color: var(--fill-color);\n",
              "    }\n",
              "    40% {\n",
              "      border-color: transparent;\n",
              "      border-right-color: var(--fill-color);\n",
              "      border-top-color: var(--fill-color);\n",
              "    }\n",
              "    60% {\n",
              "      border-color: transparent;\n",
              "      border-right-color: var(--fill-color);\n",
              "    }\n",
              "    80% {\n",
              "      border-color: transparent;\n",
              "      border-right-color: var(--fill-color);\n",
              "      border-bottom-color: var(--fill-color);\n",
              "    }\n",
              "    90% {\n",
              "      border-color: transparent;\n",
              "      border-bottom-color: var(--fill-color);\n",
              "    }\n",
              "  }\n",
              "</style>\n",
              "\n",
              "      <script>\n",
              "        async function quickchart(key) {\n",
              "          const quickchartButtonEl =\n",
              "            document.querySelector('#' + key + ' button');\n",
              "          quickchartButtonEl.disabled = true;  // To prevent multiple clicks.\n",
              "          quickchartButtonEl.classList.add('colab-df-spinner');\n",
              "          try {\n",
              "            const charts = await google.colab.kernel.invokeFunction(\n",
              "                'suggestCharts', [key], {});\n",
              "          } catch (error) {\n",
              "            console.error('Error during call to suggestCharts:', error);\n",
              "          }\n",
              "          quickchartButtonEl.classList.remove('colab-df-spinner');\n",
              "          quickchartButtonEl.classList.add('colab-df-quickchart-complete');\n",
              "        }\n",
              "        (() => {\n",
              "          let quickchartButtonEl =\n",
              "            document.querySelector('#df-06a5effb-3015-40b9-b2f8-7caa494fe5dc button');\n",
              "          quickchartButtonEl.style.display =\n",
              "            google.colab.kernel.accessAllowed ? 'block' : 'none';\n",
              "        })();\n",
              "      </script>\n",
              "    </div>\n",
              "\n",
              "  <div id=\"id_39d3ae12-0532-430a-9be7-380b346bb2de\">\n",
              "    <style>\n",
              "      .colab-df-generate {\n",
              "        background-color: #E8F0FE;\n",
              "        border: none;\n",
              "        border-radius: 50%;\n",
              "        cursor: pointer;\n",
              "        display: none;\n",
              "        fill: #1967D2;\n",
              "        height: 32px;\n",
              "        padding: 0 0 0 0;\n",
              "        width: 32px;\n",
              "      }\n",
              "\n",
              "      .colab-df-generate:hover {\n",
              "        background-color: #E2EBFA;\n",
              "        box-shadow: 0px 1px 2px rgba(60, 64, 67, 0.3), 0px 1px 3px 1px rgba(60, 64, 67, 0.15);\n",
              "        fill: #174EA6;\n",
              "      }\n",
              "\n",
              "      [theme=dark] .colab-df-generate {\n",
              "        background-color: #3B4455;\n",
              "        fill: #D2E3FC;\n",
              "      }\n",
              "\n",
              "      [theme=dark] .colab-df-generate:hover {\n",
              "        background-color: #434B5C;\n",
              "        box-shadow: 0px 1px 3px 1px rgba(0, 0, 0, 0.15);\n",
              "        filter: drop-shadow(0px 1px 2px rgba(0, 0, 0, 0.3));\n",
              "        fill: #FFFFFF;\n",
              "      }\n",
              "    </style>\n",
              "    <button class=\"colab-df-generate\" onclick=\"generateWithVariable('data')\"\n",
              "            title=\"Generate code using this dataframe.\"\n",
              "            style=\"display:none;\">\n",
              "\n",
              "  <svg xmlns=\"http://www.w3.org/2000/svg\" height=\"24px\"viewBox=\"0 0 24 24\"\n",
              "       width=\"24px\">\n",
              "    <path d=\"M7,19H8.4L18.45,9,17,7.55,7,17.6ZM5,21V16.75L18.45,3.32a2,2,0,0,1,2.83,0l1.4,1.43a1.91,1.91,0,0,1,.58,1.4,1.91,1.91,0,0,1-.58,1.4L9.25,21ZM18.45,9,17,7.55Zm-12,3A5.31,5.31,0,0,0,4.9,8.1,5.31,5.31,0,0,0,1,6.5,5.31,5.31,0,0,0,4.9,4.9,5.31,5.31,0,0,0,6.5,1,5.31,5.31,0,0,0,8.1,4.9,5.31,5.31,0,0,0,12,6.5,5.46,5.46,0,0,0,6.5,12Z\"/>\n",
              "  </svg>\n",
              "    </button>\n",
              "    <script>\n",
              "      (() => {\n",
              "      const buttonEl =\n",
              "        document.querySelector('#id_39d3ae12-0532-430a-9be7-380b346bb2de button.colab-df-generate');\n",
              "      buttonEl.style.display =\n",
              "        google.colab.kernel.accessAllowed ? 'block' : 'none';\n",
              "\n",
              "      buttonEl.onclick = () => {\n",
              "        google.colab.notebook.generateWithVariable('data');\n",
              "      }\n",
              "      })();\n",
              "    </script>\n",
              "  </div>\n",
              "\n",
              "    </div>\n",
              "  </div>\n"
            ],
            "application/vnd.google.colaboratory.intrinsic+json": {
              "type": "dataframe",
              "variable_name": "data",
              "summary": "{\n  \"name\": \"data\",\n  \"rows\": 639,\n  \"fields\": [\n    {\n      \"column\": \"Year\",\n      \"properties\": {\n        \"dtype\": \"number\",\n        \"std\": 0,\n        \"min\": 2000,\n        \"max\": 2000,\n        \"num_unique_values\": 1,\n        \"samples\": [\n          2000\n        ],\n        \"semantic_type\": \"\",\n        \"description\": \"\"\n      }\n    },\n    {\n      \"column\": \"MAKE\",\n      \"properties\": {\n        \"dtype\": \"category\",\n        \"num_unique_values\": 36,\n        \"samples\": [\n          \"VOLVO\"\n        ],\n        \"semantic_type\": \"\",\n        \"description\": \"\"\n      }\n    },\n    {\n      \"column\": \"MODEL\",\n      \"properties\": {\n        \"dtype\": \"string\",\n        \"num_unique_values\": 328,\n        \"samples\": [\n          \"ML 320\"\n        ],\n        \"semantic_type\": \"\",\n        \"description\": \"\"\n      }\n    },\n    {\n      \"column\": \"VEHICLE CLASS\",\n      \"properties\": {\n        \"dtype\": \"category\",\n        \"num_unique_values\": 14,\n        \"samples\": [\n          \"VAN - CARGO\"\n        ],\n        \"semantic_type\": \"\",\n        \"description\": \"\"\n      }\n    },\n    {\n      \"column\": \"ENGINE SIZE\",\n      \"properties\": {\n        \"dtype\": \"number\",\n        \"std\": 1.231012171543639,\n        \"min\": 1.0,\n        \"max\": 8.0,\n        \"num_unique_values\": 40,\n        \"samples\": [\n          6.0\n        ],\n        \"semantic_type\": \"\",\n        \"description\": \"\"\n      }\n    },\n    {\n      \"column\": \"CYLINDERS\",\n      \"properties\": {\n        \"dtype\": \"number\",\n        \"std\": 1,\n        \"min\": 3,\n        \"max\": 12,\n        \"num_unique_values\": 7,\n        \"samples\": [\n          4\n        ],\n        \"semantic_type\": \"\",\n        \"description\": \"\"\n      }\n    },\n    {\n      \"column\": \"TRANSMISSION\",\n      \"properties\": {\n        \"dtype\": \"category\",\n        \"num_unique_values\": 8,\n        \"samples\": [\n          \"M5\"\n        ],\n        \"semantic_type\": \"\",\n        \"description\": \"\"\n      }\n    },\n    {\n      \"column\": \"FUEL\",\n      \"properties\": {\n        \"dtype\": \"category\",\n        \"num_unique_values\": 5,\n        \"samples\": [\n          \"Z\"\n        ],\n        \"semantic_type\": \"\",\n        \"description\": \"\"\n      }\n    },\n    {\n      \"column\": \"FUEL CONSUMPTION\",\n      \"properties\": {\n        \"dtype\": \"number\",\n        \"std\": 3.30704376725196,\n        \"min\": 4.9,\n        \"max\": 30.2,\n        \"num_unique_values\": 124,\n        \"samples\": [\n          13.1\n        ],\n        \"semantic_type\": \"\",\n        \"description\": \"\"\n      }\n    },\n    {\n      \"column\": \"COEMISSIONS\",\n      \"properties\": {\n        \"dtype\": \"number\",\n        \"std\": 65,\n        \"min\": 104,\n        \"max\": 582,\n        \"num_unique_values\": 116,\n        \"samples\": [\n          474\n        ],\n        \"semantic_type\": \"\",\n        \"description\": \"\"\n      }\n    }\n  ]\n}"
            }
          },
          "metadata": {},
          "execution_count": 381
        }
      ],
      "source": [
        "data"
      ]
    },
    {
      "cell_type": "code",
      "execution_count": 382,
      "metadata": {
        "colab": {
          "base_uri": "https://localhost:8080/"
        },
        "id": "W3it4Ts513KB",
        "outputId": "4617fa33-f26f-4886-8581-a0699b0569c5"
      },
      "outputs": [
        {
          "output_type": "stream",
          "name": "stdout",
          "text": [
            "<class 'pandas.core.frame.DataFrame'>\n",
            "RangeIndex: 639 entries, 0 to 638\n",
            "Data columns (total 10 columns):\n",
            " #   Column            Non-Null Count  Dtype  \n",
            "---  ------            --------------  -----  \n",
            " 0   Year              639 non-null    int64  \n",
            " 1   MAKE              639 non-null    object \n",
            " 2   MODEL             639 non-null    object \n",
            " 3   VEHICLE CLASS     639 non-null    object \n",
            " 4   ENGINE SIZE       639 non-null    float64\n",
            " 5   CYLINDERS         639 non-null    int64  \n",
            " 6   TRANSMISSION      639 non-null    object \n",
            " 7   FUEL              639 non-null    object \n",
            " 8   FUEL CONSUMPTION  639 non-null    float64\n",
            " 9   COEMISSIONS       639 non-null    int64  \n",
            "dtypes: float64(2), int64(3), object(5)\n",
            "memory usage: 50.1+ KB\n",
            "None\n"
          ]
        }
      ],
      "source": [
        "print(data.info())"
      ]
    },
    {
      "cell_type": "code",
      "execution_count": 383,
      "metadata": {
        "colab": {
          "base_uri": "https://localhost:8080/"
        },
        "id": "ryTg6CM52JRV",
        "outputId": "4092b0a7-b7a4-4705-8e34-007132341c83"
      },
      "outputs": [
        {
          "output_type": "stream",
          "name": "stdout",
          "text": [
            "      Year   MAKE  MODEL  VEHICLE CLASS  ENGINE SIZE  CYLINDERS  TRANSMISSION  \\\n",
            "0    False  False  False          False        False      False         False   \n",
            "1    False  False  False          False        False      False         False   \n",
            "2    False  False  False          False        False      False         False   \n",
            "3    False  False  False          False        False      False         False   \n",
            "4    False  False  False          False        False      False         False   \n",
            "..     ...    ...    ...            ...          ...        ...           ...   \n",
            "634  False  False  False          False        False      False         False   \n",
            "635  False  False  False          False        False      False         False   \n",
            "636  False  False  False          False        False      False         False   \n",
            "637  False  False  False          False        False      False         False   \n",
            "638  False  False  False          False        False      False         False   \n",
            "\n",
            "      FUEL  FUEL CONSUMPTION  COEMISSIONS  \n",
            "0    False             False        False  \n",
            "1    False             False        False  \n",
            "2    False             False        False  \n",
            "3    False             False        False  \n",
            "4    False             False        False  \n",
            "..     ...               ...          ...  \n",
            "634  False             False        False  \n",
            "635  False             False        False  \n",
            "636  False             False        False  \n",
            "637  False             False        False  \n",
            "638  False             False        False  \n",
            "\n",
            "[639 rows x 10 columns]\n"
          ]
        }
      ],
      "source": [
        "print(data.isna())"
      ]
    },
    {
      "cell_type": "code",
      "execution_count": 384,
      "metadata": {
        "colab": {
          "base_uri": "https://localhost:8080/"
        },
        "id": "kwaaupSG3-oe",
        "outputId": "16fa49d1-a06b-4d9d-97c4-a4f25508781f"
      },
      "outputs": [
        {
          "output_type": "stream",
          "name": "stdout",
          "text": [
            "Year                0\n",
            "MAKE                0\n",
            "MODEL               0\n",
            "VEHICLE CLASS       0\n",
            "ENGINE SIZE         0\n",
            "CYLINDERS           0\n",
            "TRANSMISSION        0\n",
            "FUEL                0\n",
            "FUEL CONSUMPTION    0\n",
            "COEMISSIONS         0\n",
            "dtype: int64\n"
          ]
        }
      ],
      "source": [
        "print(data.isnull().sum())"
      ]
    },
    {
      "cell_type": "code",
      "execution_count": 385,
      "metadata": {
        "colab": {
          "base_uri": "https://localhost:8080/"
        },
        "id": "ILAqEsTs7n6s",
        "outputId": "c081de75-bdd0-4a31-e3fb-5a50d445e62b"
      },
      "outputs": [
        {
          "output_type": "stream",
          "name": "stdout",
          "text": [
            "Duplicate rows: 1\n"
          ]
        }
      ],
      "source": [
        "print(\"Duplicate rows:\",data.duplicated().sum())"
      ]
    },
    {
      "cell_type": "code",
      "execution_count": 386,
      "metadata": {
        "id": "6jyHtGCg7oUJ"
      },
      "outputs": [],
      "source": [
        "data = data.drop_duplicates()\n"
      ]
    },
    {
      "cell_type": "code",
      "execution_count": 387,
      "metadata": {
        "colab": {
          "base_uri": "https://localhost:8080/"
        },
        "id": "J95pKpQc_JXa",
        "outputId": "ceffa0ee-bd36-4723-f303-a77508d4db03"
      },
      "outputs": [
        {
          "output_type": "stream",
          "name": "stdout",
          "text": [
            "Duplicate rows after cleaning: 0\n"
          ]
        }
      ],
      "source": [
        "print(\"Duplicate rows after cleaning:\", data.duplicated().sum())\n"
      ]
    },
    {
      "cell_type": "code",
      "execution_count": 388,
      "metadata": {
        "colab": {
          "base_uri": "https://localhost:8080/"
        },
        "id": "3s5rOJM8_J-z",
        "outputId": "0f2a1240-a0d8-4b13-ec5b-011015f2c820"
      },
      "outputs": [
        {
          "output_type": "stream",
          "name": "stdout",
          "text": [
            "         Year  ENGINE SIZE   CYLINDERS  FUEL CONSUMPTION  COEMISSIONS\n",
            "count   638.0   638.000000  638.000000        638.000000   638.000000\n",
            "mean   2000.0     3.264577    5.802508         14.705956   296.642633\n",
            "std       0.0     1.231634    1.624535          3.303962    65.420203\n",
            "min    2000.0     1.000000    3.000000          4.900000   104.000000\n",
            "25%    2000.0     2.200000    4.000000         12.500000   253.000000\n",
            "50%    2000.0     3.000000    6.000000         14.400000   288.000000\n",
            "75%    2000.0     4.300000    6.000000         16.600000   343.000000\n",
            "max    2000.0     8.000000   12.000000         30.200000   582.000000\n"
          ]
        }
      ],
      "source": [
        "print(data.describe())"
      ]
    },
    {
      "cell_type": "code",
      "execution_count": 389,
      "metadata": {
        "colab": {
          "base_uri": "https://localhost:8080/"
        },
        "id": "ES8ZjboS_Ys2",
        "outputId": "17a71909-d423-4668-e126-17ef1bd02394"
      },
      "outputs": [
        {
          "output_type": "stream",
          "name": "stdout",
          "text": [
            "             MAKE MODEL VEHICLE CLASS TRANSMISSION FUEL\n",
            "count         638   638           638          638  638\n",
            "unique         36   328            14            8    5\n",
            "top     CHEVROLET    LS       COMPACT           A4    X\n",
            "freq           63     6           105          323  454\n"
          ]
        }
      ],
      "source": [
        "print(data.describe(include=[object]))\n"
      ]
    },
    {
      "cell_type": "code",
      "execution_count": 390,
      "metadata": {
        "colab": {
          "base_uri": "https://localhost:8080/"
        },
        "id": "m5OhhNB0_Y7I",
        "outputId": "16d52126-8425-4215-9845-6c7f3b9e8911"
      },
      "outputs": [
        {
          "output_type": "stream",
          "name": "stdout",
          "text": [
            "Unique values in each column:\n",
            "Year : 1\n",
            "MAKE : 36\n",
            "MODEL : 328\n",
            "VEHICLE CLASS : 14\n",
            "ENGINE SIZE : 40\n",
            "CYLINDERS : 7\n",
            "TRANSMISSION : 8\n",
            "FUEL : 5\n",
            "FUEL CONSUMPTION : 124\n",
            "COEMISSIONS : 116\n"
          ]
        }
      ],
      "source": [
        "print(\"Unique values in each column:\")\n",
        "for col in data.columns:\n",
        "    print(col, \":\", data[col].nunique())"
      ]
    },
    {
      "cell_type": "code",
      "execution_count": 391,
      "metadata": {
        "colab": {
          "base_uri": "https://localhost:8080/"
        },
        "id": "n5JwxuC5_egr",
        "outputId": "597b2178-f763-4452-8796-01e1fed49c53"
      },
      "outputs": [
        {
          "output_type": "stream",
          "name": "stdout",
          "text": [
            "Value counts for \n",
            "Year\n",
            "2000    638\n",
            "Name: count, dtype: int64\n",
            "--------------------------------------------------\n",
            "Value counts for \n",
            "MAKE\n",
            "CHEVROLET        63\n",
            "FORD             62\n",
            "DODGE            46\n",
            "TOYOTA           43\n",
            "GMC              38\n",
            "VOLKSWAGEN       36\n",
            "BMW              29\n",
            "AUDI             22\n",
            "MERCEDES-BENZ    22\n",
            "PONTIAC          21\n",
            "VOLVO            21\n",
            "MAZDA            20\n",
            "CHRYSLER         19\n",
            "NISSAN           19\n",
            "HONDA            17\n",
            "SATURN           15\n",
            "SUZUKI           13\n",
            "SUBARU           12\n",
            "DAEWOO           10\n",
            "HYUNDAI          10\n",
            "JAGUAR           10\n",
            "ACURA             9\n",
            "SAAB              9\n",
            "ISUZU             8\n",
            "PORSCHE           8\n",
            "JEEP              8\n",
            "LEXUS             7\n",
            "FERRARI           7\n",
            "BUICK             6\n",
            "LINCOLN           6\n",
            "OLDSMOBILE        5\n",
            "CADILLAC          5\n",
            "INFINITI          4\n",
            "KIA               4\n",
            "LAND ROVER        3\n",
            "PLYMOUTH          1\n",
            "Name: count, dtype: int64\n",
            "--------------------------------------------------\n",
            "Value counts for \n",
            "MODEL\n",
            "LS                     6\n",
            "JETTA                  6\n",
            "K1500 SILVERADO 4X4    5\n",
            "RAM 1500               5\n",
            "DAKOTA                 5\n",
            "                      ..\n",
            "3.5RL                  1\n",
            "V70 AWD TURBO          1\n",
            "V70 GLT TURBO          1\n",
            "3.2TL                  1\n",
            "V70R AWD TURBO         1\n",
            "Name: count, Length: 328, dtype: int64\n",
            "--------------------------------------------------\n",
            "Value counts for \n",
            "VEHICLE CLASS\n",
            "COMPACT                     105\n",
            "SUBCOMPACT                  104\n",
            "SUV                          96\n",
            "PICKUP TRUCK - STANDARD      92\n",
            "MID-SIZE                     77\n",
            "FULL-SIZE                    28\n",
            "MINIVAN                      26\n",
            "STATION WAGON - MID-SIZE     25\n",
            "VAN - CARGO                  23\n",
            "VAN - PASSENGER              17\n",
            "STATION WAGON - SMALL        13\n",
            "MINICOMPACT                  11\n",
            "PICKUP TRUCK - SMALL         11\n",
            "TWO-SEATER                   10\n",
            "Name: count, dtype: int64\n",
            "--------------------------------------------------\n",
            "Value counts for \n",
            "ENGINE SIZE\n",
            "2.0    56\n",
            "4.3    45\n",
            "1.8    37\n",
            "3.0    37\n",
            "4.0    32\n",
            "2.5    31\n",
            "2.4    31\n",
            "2.8    29\n",
            "2.2    26\n",
            "3.8    26\n",
            "2.3    21\n",
            "3.4    20\n",
            "4.6    19\n",
            "3.3    18\n",
            "3.2    17\n",
            "1.9    16\n",
            "1.6    15\n",
            "2.7    14\n",
            "5.7    13\n",
            "4.8    12\n",
            "5.3    12\n",
            "3.5     9\n",
            "4.2     9\n",
            "5.4     9\n",
            "5.2     9\n",
            "5.9     9\n",
            "3.9     9\n",
            "4.7     9\n",
            "5.0     8\n",
            "5.5     6\n",
            "1.3     6\n",
            "4.4     6\n",
            "1.5     6\n",
            "1.0     3\n",
            "3.1     3\n",
            "6.0     3\n",
            "4.9     2\n",
            "8.0     2\n",
            "3.6     2\n",
            "2.9     1\n",
            "Name: count, dtype: int64\n",
            "--------------------------------------------------\n",
            "Value counts for \n",
            "CYLINDERS\n",
            "6     263\n",
            "4     209\n",
            "8     135\n",
            "5      19\n",
            "12      7\n",
            "3       3\n",
            "10      2\n",
            "Name: count, dtype: int64\n",
            "--------------------------------------------------\n",
            "Value counts for \n",
            "TRANSMISSION\n",
            "A4     323\n",
            "M5     191\n",
            "A5      73\n",
            "M6      23\n",
            "AS4     12\n",
            "A3      10\n",
            "AS5      5\n",
            "AS6      1\n",
            "Name: count, dtype: int64\n",
            "--------------------------------------------------\n",
            "Value counts for \n",
            "FUEL\n",
            "X    454\n",
            "Z    175\n",
            "D      6\n",
            "E      2\n",
            "N      1\n",
            "Name: count, dtype: int64\n",
            "--------------------------------------------------\n",
            "Value counts for \n",
            "FUEL CONSUMPTION\n",
            "15.4    16\n",
            "15.5    16\n",
            "13.9    15\n",
            "13.6    14\n",
            "13.2    14\n",
            "        ..\n",
            "9.9      1\n",
            "8.6      1\n",
            "8.7      1\n",
            "18.6     1\n",
            "8.2      1\n",
            "Name: count, Length: 124, dtype: int64\n",
            "--------------------------------------------------\n",
            "Value counts for \n",
            "COEMISSIONS\n",
            "260    19\n",
            "304    18\n",
            "288    16\n",
            "258    16\n",
            "262    13\n",
            "       ..\n",
            "200     1\n",
            "189     1\n",
            "196     1\n",
            "182     1\n",
            "173     1\n",
            "Name: count, Length: 116, dtype: int64\n",
            "--------------------------------------------------\n"
          ]
        }
      ],
      "source": [
        "for col in data.columns:\n",
        "    print(\"Value counts for \")\n",
        "    print(data[col].value_counts())\n",
        "    print(\"--------------------------------------------------\")\n"
      ]
    },
    {
      "cell_type": "code",
      "execution_count": 392,
      "metadata": {
        "colab": {
          "base_uri": "https://localhost:8080/"
        },
        "id": "K17ERxtn_geU",
        "outputId": "ad5c447e-0646-4a64-f2bf-2022b0932af6"
      },
      "outputs": [
        {
          "output_type": "stream",
          "name": "stdout",
          "text": [
            "Year : 0 outliers\n",
            "ENGINE SIZE : 2 outliers\n",
            "CYLINDERS : 9 outliers\n",
            "FUEL CONSUMPTION : 8 outliers\n",
            "COEMISSIONS : 6 outliers\n"
          ]
        }
      ],
      "source": [
        "num_cols = data.select_dtypes(include=\"number\").columns\n",
        "for col in num_cols:\n",
        "    Q1 = data[col].quantile(0.25)\n",
        "    Q3 = data[col].quantile(0.75)\n",
        "    IQR = Q3 - Q1\n",
        "    lower = Q1 - 1.5 * IQR\n",
        "    upper = Q3 + 1.5 * IQR\n",
        "    outliers = ((data[col] < lower) | (data[col] > upper)).sum()\n",
        "    print(col ,\":\", outliers ,\"outliers\")\n"
      ]
    },
    {
      "cell_type": "code",
      "execution_count": 393,
      "metadata": {
        "colab": {
          "base_uri": "https://localhost:8080/",
          "height": 1000
        },
        "id": "faRYeKz8bs9Z",
        "outputId": "07472905-ddea-40a1-a8cf-bbf331290cc9"
      },
      "outputs": [
        {
          "output_type": "display_data",
          "data": {
            "text/plain": [
              "<Figure size 600x400 with 1 Axes>"
            ],
            "image/png": "[encoded data removed]"
          },
          "metadata": {}
        },
        {
          "output_type": "display_data",
          "data": {
            "text/plain": [
              "<Figure size 600x400 with 1 Axes>"
            ],
            "image/png": "[encoded data removed]"
          },
          "metadata": {}
        },
        {
          "output_type": "display_data",
          "data": {
            "text/plain": [
              "<Figure size 600x400 with 1 Axes>"
            ],
            "image/png": "[encoded data removed]"
          },
          "metadata": {}
        },
        {
          "output_type": "display_data",
          "data": {
            "text/plain": [
              "<Figure size 600x400 with 1 Axes>"
            ],
            "image/png": "[encoded data removed]"
          },
          "metadata": {}
        }
      ],
      "source": [
        "for col in ['ENGINE SIZE', 'CYLINDERS', 'FUEL CONSUMPTION', 'COEMISSIONS']:\n",
        "    plt.figure(figsize=(6, 4))\n",
        "    plt.boxplot(data[col])\n",
        "    plt.title('Boxplot of ' + col)\n",
        "    plt.ylabel(col)\n",
        "    plt.tight_layout()\n",
        "    plt.show()"
      ]
    },
    {
      "cell_type": "code",
      "execution_count": 394,
      "metadata": {
        "colab": {
          "base_uri": "https://localhost:8080/"
        },
        "id": "T9Fg9UZeX3Gq",
        "outputId": "473127c6-a8d3-4b33-c74a-64773d14a802"
      },
      "outputs": [
        {
          "output_type": "stream",
          "name": "stdout",
          "text": [
            "ENGINE SIZE: Removed 2 outliers\n",
            "CYLINDERS: Removed 7 outliers\n",
            "FUEL CONSUMPTION: Removed 3 outliers\n",
            "COEMISSIONS: Removed 0 outliers\n"
          ]
        }
      ],
      "source": [
        "key_cols = ['ENGINE SIZE', 'CYLINDERS', 'FUEL CONSUMPTION', 'COEMISSIONS']\n",
        "\n",
        "for col in key_cols:\n",
        "    Q1 = data[col].quantile(0.25)\n",
        "    Q3 = data[col].quantile(0.75)\n",
        "    IQR = Q3 - Q1\n",
        "    lower = Q1 - 1.5 * IQR\n",
        "    upper = Q3 + 1.5 * IQR\n",
        "    before = len(data)\n",
        "    data = data[(data[col] >= lower) & (data[col] <= upper)]\n",
        "    removed = before - len(data)\n",
        "    print(f\"{col}: Removed {removed} outliers\")"
      ]
    },
    {
      "cell_type": "code",
      "execution_count": 395,
      "metadata": {
        "colab": {
          "base_uri": "https://localhost:8080/"
        },
        "id": "V9PEMXxQYB77",
        "outputId": "cea30543-179a-4868-b825-2ab061dc15fe"
      },
      "outputs": [
        {
          "output_type": "stream",
          "name": "stdout",
          "text": [
            "Year : 0 outliers\n",
            "ENGINE SIZE : 0 outliers\n",
            "CYLINDERS : 0 outliers\n",
            "FUEL CONSUMPTION : 0 outliers\n",
            "COEMISSIONS : 0 outliers\n"
          ]
        }
      ],
      "source": [
        "num_cols = data.select_dtypes(include=\"number\").columns\n",
        "for col in num_cols:\n",
        "    Q1 = data[col].quantile(0.25)\n",
        "    Q3 = data[col].quantile(0.75)\n",
        "    IQR = Q3 - Q1\n",
        "    lower = Q1 - 1.5 * IQR\n",
        "    upper = Q3 + 1.5 * IQR\n",
        "    outliers = ((data[col] < lower) | (data[col] > upper)).sum()\n",
        "    print(col ,\":\", outliers ,\"outliers\")\n"
      ]
    },
    {
      "cell_type": "code",
      "execution_count": 396,
      "metadata": {
        "colab": {
          "base_uri": "https://localhost:8080/",
          "height": 1000
        },
        "id": "PAP2m3jmbvAO",
        "outputId": "e33f885a-9f64-40c7-b770-78adb3defe05"
      },
      "outputs": [
        {
          "output_type": "display_data",
          "data": {
            "text/plain": [
              "<Figure size 600x400 with 1 Axes>"
            ],
            "image/png": "[encoded data removed]"
          },
          "metadata": {}
        },
        {
          "output_type": "display_data",
          "data": {
            "text/plain": [
              "<Figure size 600x400 with 1 Axes>"
            ],
            "image/png": "[encoded data removed]"
          },
          "metadata": {}
        },
        {
          "output_type": "display_data",
          "data": {
            "text/plain": [
              "<Figure size 600x400 with 1 Axes>"
            ],
            "image/png": "[encoded data removed]"
          },
          "metadata": {}
        },
        {
          "output_type": "display_data",
          "data": {
            "text/plain": [
              "<Figure size 600x400 with 1 Axes>"
            ],
            "image/png": "[encoded data removed]"
          },
          "metadata": {}
        }
      ],
      "source": [
        "for col in ['ENGINE SIZE', 'CYLINDERS', 'FUEL CONSUMPTION', 'COEMISSIONS']:\n",
        "    plt.figure(figsize=(6, 4))\n",
        "    plt.boxplot(data[col])\n",
        "    plt.title('Boxplot of ' + col)\n",
        "    plt.ylabel(col)\n",
        "    plt.tight_layout()\n",
        "    plt.show()"
      ]
    },
    {
      "cell_type": "code",
      "execution_count": 397,
      "metadata": {
        "id": "yFitPbvbQap7"
      },
      "outputs": [],
      "source": [
        "data['ENGINE_CYLINDER_RATIO'] = data['ENGINE SIZE'] / data['CYLINDERS']\n",
        "data['POWER_INDICATOR'] = data['ENGINE SIZE'] * data['CYLINDERS']"
      ]
    },
    {
      "cell_type": "code",
      "source": [
        "data"
      ],
      "metadata": {
        "colab": {
          "base_uri": "https://localhost:8080/",
          "height": 634
        },
        "id": "FhZo7V1e2jfQ",
        "outputId": "7e070103-bca4-4c80-e29c-67ffe4aad5d7"
      },
      "execution_count": 398,
      "outputs": [
        {
          "output_type": "execute_result",
          "data": {
            "text/plain": [
              "     Year   MAKE           MODEL             VEHICLE CLASS  ENGINE SIZE  \\\n",
              "0    2000  ACURA           1.6EL                   COMPACT          1.6   \n",
              "1    2000  ACURA           1.6EL                   COMPACT          1.6   \n",
              "2    2000  ACURA           3.2TL                  MID-SIZE          3.2   \n",
              "3    2000  ACURA           3.5RL                  MID-SIZE          3.5   \n",
              "4    2000  ACURA         INTEGRA                SUBCOMPACT          1.8   \n",
              "..    ...    ...             ...                       ...          ...   \n",
              "634  2000  VOLVO   V70 AWD TURBO  STATION WAGON - MID-SIZE          2.4   \n",
              "635  2000  VOLVO   V70 GLT TURBO  STATION WAGON - MID-SIZE          2.4   \n",
              "636  2000  VOLVO    V70 T5 TURBO  STATION WAGON - MID-SIZE          2.3   \n",
              "637  2000  VOLVO    V70 T5 TURBO  STATION WAGON - MID-SIZE          2.3   \n",
              "638  2000  VOLVO  V70R AWD TURBO  STATION WAGON - MID-SIZE          2.4   \n",
              "\n",
              "     CYLINDERS TRANSMISSION FUEL  FUEL CONSUMPTION  COEMISSIONS  \\\n",
              "0            4           A4    X              10.5          216   \n",
              "1            4           M5    X               9.8          205   \n",
              "2            6          AS5    Z              13.7          265   \n",
              "3            6           A4    Z              15.0          301   \n",
              "4            4           A4    X              11.4          230   \n",
              "..         ...          ...  ...               ...          ...   \n",
              "634          5           A4    Z              14.4          288   \n",
              "635          5           A4    Z              13.6          274   \n",
              "636          5           A4    Z              13.9          274   \n",
              "637          5           M5    Z              13.0          260   \n",
              "638          5           A5    Z              14.7          299   \n",
              "\n",
              "     ENGINE_CYLINDER_RATIO  POWER_INDICATOR  \n",
              "0                 0.400000              6.4  \n",
              "1                 0.400000              6.4  \n",
              "2                 0.533333             19.2  \n",
              "3                 0.583333             21.0  \n",
              "4                 0.450000              7.2  \n",
              "..                     ...              ...  \n",
              "634               0.480000             12.0  \n",
              "635               0.480000             12.0  \n",
              "636               0.460000             11.5  \n",
              "637               0.460000             11.5  \n",
              "638               0.480000             12.0  \n",
              "\n",
              "[626 rows x 12 columns]"
            ],
            "text/html": [
              "\n",
              "  <div id=\"df-2accfeb0-416f-4751-a86f-95b661cf13d4\" class=\"colab-df-container\">\n",
              "    <div>\n",
              "<style scoped>\n",
              "    .dataframe tbody tr th:only-of-type {\n",
              "        vertical-align: middle;\n",
              "    }\n",
              "\n",
              "    .dataframe tbody tr th {\n",
              "        vertical-align: top;\n",
              "    }\n",
              "\n",
              "    .dataframe thead th {\n",
              "        text-align: right;\n",
              "    }\n",
              "</style>\n",
              "<table border=\"1\" class=\"dataframe\">\n",
              "  <thead>\n",
              "    <tr style=\"text-align: right;\">\n",
              "      <th></th>\n",
              "      <th>Year</th>\n",
              "      <th>MAKE</th>\n",
              "      <th>MODEL</th>\n",
              "      <th>VEHICLE CLASS</th>\n",
              "      <th>ENGINE SIZE</th>\n",
              "      <th>CYLINDERS</th>\n",
              "      <th>TRANSMISSION</th>\n",
              "      <th>FUEL</th>\n",
              "      <th>FUEL CONSUMPTION</th>\n",
              "      <th>COEMISSIONS</th>\n",
              "      <th>ENGINE_CYLINDER_RATIO</th>\n",
              "      <th>POWER_INDICATOR</th>\n",
              "    </tr>\n",
              "  </thead>\n",
              "  <tbody>\n",
              "    <tr>\n",
              "      <th>0</th>\n",
              "      <td>2000</td>\n",
              "      <td>ACURA</td>\n",
              "      <td>1.6EL</td>\n",
              "      <td>COMPACT</td>\n",
              "      <td>1.6</td>\n",
              "      <td>4</td>\n",
              "      <td>A4</td>\n",
              "      <td>X</td>\n",
              "      <td>10.5</td>\n",
              "      <td>216</td>\n",
              "      <td>0.400000</td>\n",
              "      <td>6.4</td>\n",
              "    </tr>\n",
              "    <tr>\n",
              "      <th>1</th>\n",
              "      <td>2000</td>\n",
              "      <td>ACURA</td>\n",
              "      <td>1.6EL</td>\n",
              "      <td>COMPACT</td>\n",
              "      <td>1.6</td>\n",
              "      <td>4</td>\n",
              "      <td>M5</td>\n",
              "      <td>X</td>\n",
              "      <td>9.8</td>\n",
              "      <td>205</td>\n",
              "      <td>0.400000</td>\n",
              "      <td>6.4</td>\n",
              "    </tr>\n",
              "    <tr>\n",
              "      <th>2</th>\n",
              "      <td>2000</td>\n",
              "      <td>ACURA</td>\n",
              "      <td>3.2TL</td>\n",
              "      <td>MID-SIZE</td>\n",
              "      <td>3.2</td>\n",
              "      <td>6</td>\n",
              "      <td>AS5</td>\n",
              "      <td>Z</td>\n",
              "      <td>13.7</td>\n",
              "      <td>265</td>\n",
              "      <td>0.533333</td>\n",
              "      <td>19.2</td>\n",
              "    </tr>\n",
              "    <tr>\n",
              "      <th>3</th>\n",
              "      <td>2000</td>\n",
              "      <td>ACURA</td>\n",
              "      <td>3.5RL</td>\n",
              "      <td>MID-SIZE</td>\n",
              "      <td>3.5</td>\n",
              "      <td>6</td>\n",
              "      <td>A4</td>\n",
              "      <td>Z</td>\n",
              "      <td>15.0</td>\n",
              "      <td>301</td>\n",
              "      <td>0.583333</td>\n",
              "      <td>21.0</td>\n",
              "    </tr>\n",
              "    <tr>\n",
              "      <th>4</th>\n",
              "      <td>2000</td>\n",
              "      <td>ACURA</td>\n",
              "      <td>INTEGRA</td>\n",
              "      <td>SUBCOMPACT</td>\n",
              "      <td>1.8</td>\n",
              "      <td>4</td>\n",
              "      <td>A4</td>\n",
              "      <td>X</td>\n",
              "      <td>11.4</td>\n",
              "      <td>230</td>\n",
              "      <td>0.450000</td>\n",
              "      <td>7.2</td>\n",
              "    </tr>\n",
              "    <tr>\n",
              "      <th>...</th>\n",
              "      <td>...</td>\n",
              "      <td>...</td>\n",
              "      <td>...</td>\n",
              "      <td>...</td>\n",
              "      <td>...</td>\n",
              "      <td>...</td>\n",
              "      <td>...</td>\n",
              "      <td>...</td>\n",
              "      <td>...</td>\n",
              "      <td>...</td>\n",
              "      <td>...</td>\n",
              "      <td>...</td>\n",
              "    </tr>\n",
              "    <tr>\n",
              "      <th>634</th>\n",
              "      <td>2000</td>\n",
              "      <td>VOLVO</td>\n",
              "      <td>V70 AWD TURBO</td>\n",
              "      <td>STATION WAGON - MID-SIZE</td>\n",
              "      <td>2.4</td>\n",
              "      <td>5</td>\n",
              "      <td>A4</td>\n",
              "      <td>Z</td>\n",
              "      <td>14.4</td>\n",
              "      <td>288</td>\n",
              "      <td>0.480000</td>\n",
              "      <td>12.0</td>\n",
              "    </tr>\n",
              "    <tr>\n",
              "      <th>635</th>\n",
              "      <td>2000</td>\n",
              "      <td>VOLVO</td>\n",
              "      <td>V70 GLT TURBO</td>\n",
              "      <td>STATION WAGON - MID-SIZE</td>\n",
              "      <td>2.4</td>\n",
              "      <td>5</td>\n",
              "      <td>A4</td>\n",
              "      <td>Z</td>\n",
              "      <td>13.6</td>\n",
              "      <td>274</td>\n",
              "      <td>0.480000</td>\n",
              "      <td>12.0</td>\n",
              "    </tr>\n",
              "    <tr>\n",
              "      <th>636</th>\n",
              "      <td>2000</td>\n",
              "      <td>VOLVO</td>\n",
              "      <td>V70 T5 TURBO</td>\n",
              "      <td>STATION WAGON - MID-SIZE</td>\n",
              "      <td>2.3</td>\n",
              "      <td>5</td>\n",
              "      <td>A4</td>\n",
              "      <td>Z</td>\n",
              "      <td>13.9</td>\n",
              "      <td>274</td>\n",
              "      <td>0.460000</td>\n",
              "      <td>11.5</td>\n",
              "    </tr>\n",
              "    <tr>\n",
              "      <th>637</th>\n",
              "      <td>2000</td>\n",
              "      <td>VOLVO</td>\n",
              "      <td>V70 T5 TURBO</td>\n",
              "      <td>STATION WAGON - MID-SIZE</td>\n",
              "      <td>2.3</td>\n",
              "      <td>5</td>\n",
              "      <td>M5</td>\n",
              "      <td>Z</td>\n",
              "      <td>13.0</td>\n",
              "      <td>260</td>\n",
              "      <td>0.460000</td>\n",
              "      <td>11.5</td>\n",
              "    </tr>\n",
              "    <tr>\n",
              "      <th>638</th>\n",
              "      <td>2000</td>\n",
              "      <td>VOLVO</td>\n",
              "      <td>V70R AWD TURBO</td>\n",
              "      <td>STATION WAGON - MID-SIZE</td>\n",
              "      <td>2.4</td>\n",
              "      <td>5</td>\n",
              "      <td>A5</td>\n",
              "      <td>Z</td>\n",
              "      <td>14.7</td>\n",
              "      <td>299</td>\n",
              "      <td>0.480000</td>\n",
              "      <td>12.0</td>\n",
              "    </tr>\n",
              "  </tbody>\n",
              "</table>\n",
              "<p>626 rows × 12 columns</p>\n",
              "</div>\n",
              "    <div class=\"colab-df-buttons\">\n",
              "\n",
              "  <div class=\"colab-df-container\">\n",
              "    <button class=\"colab-df-convert\" onclick=\"convertToInteractive('df-2accfeb0-416f-4751-a86f-95b661cf13d4')\"\n",
              "            title=\"Convert this dataframe to an interactive table.\"\n",
              "            style=\"display:none;\">\n",
              "\n",
              "  <svg xmlns=\"http://www.w3.org/2000/svg\" height=\"24px\" viewBox=\"0 -960 960 960\">\n",
              "    <path d=\"M120-120v-720h720v720H120Zm60-500h600v-160H180v160Zm220 220h160v-160H400v160Zm0 220h160v-160H400v160ZM180-400h160v-160H180v160Zm440 0h160v-160H620v160ZM180-180h160v-160H180v160Zm440 0h160v-160H620v160Z\"/>\n",
              "  </svg>\n",
              "    </button>\n",
              "\n",
              "  <style>\n",
              "    .colab-df-container {\n",
              "      display:flex;\n",
              "      gap: 12px;\n",
              "    }\n",
              "\n",
              "    .colab-df-convert {\n",
              "      background-color: #E8F0FE;\n",
              "      border: none;\n",
              "      border-radius: 50%;\n",
              "      cursor: pointer;\n",
              "      display: none;\n",
              "      fill: #1967D2;\n",
              "      height: 32px;\n",
              "      padding: 0 0 0 0;\n",
              "      width: 32px;\n",
              "    }\n",
              "\n",
              "    .colab-df-convert:hover {\n",
              "      background-color: #E2EBFA;\n",
              "      box-shadow: 0px 1px 2px rgba(60, 64, 67, 0.3), 0px 1px 3px 1px rgba(60, 64, 67, 0.15);\n",
              "      fill: #174EA6;\n",
              "    }\n",
              "\n",
              "    .colab-df-buttons div {\n",
              "      margin-bottom: 4px;\n",
              "    }\n",
              "\n",
              "    [theme=dark] .colab-df-convert {\n",
              "      background-color: #3B4455;\n",
              "      fill: #D2E3FC;\n",
              "    }\n",
              "\n",
              "    [theme=dark] .colab-df-convert:hover {\n",
              "      background-color: #434B5C;\n",
              "      box-shadow: 0px 1px 3px 1px rgba(0, 0, 0, 0.15);\n",
              "      filter: drop-shadow(0px 1px 2px rgba(0, 0, 0, 0.3));\n",
              "      fill: #FFFFFF;\n",
              "    }\n",
              "  </style>\n",
              "\n",
              "    <script>\n",
              "      const buttonEl =\n",
              "        document.querySelector('#df-2accfeb0-416f-4751-a86f-95b661cf13d4 button.colab-df-convert');\n",
              "      buttonEl.style.display =\n",
              "        google.colab.kernel.accessAllowed ? 'block' : 'none';\n",
              "\n",
              "      async function convertToInteractive(key) {\n",
              "        const element = document.querySelector('#df-2accfeb0-416f-4751-a86f-95b661cf13d4');\n",
              "        const dataTable =\n",
              "          await google.colab.kernel.invokeFunction('convertToInteractive',\n",
              "                                                    [key], {});\n",
              "        if (!dataTable) return;\n",
              "\n",
              "        const docLinkHtml = 'Like what you see? Visit the ' +\n",
              "          '<a target=\"_blank\" href=https://colab.research.google.com/notebooks/data_table.ipynb>data table notebook</a>'\n",
              "          + ' to learn more about interactive tables.';\n",
              "        element.innerHTML = '';\n",
              "        dataTable['output_type'] = 'display_data';\n",
              "        await google.colab.output.renderOutput(dataTable, element);\n",
              "        const docLink = document.createElement('div');\n",
              "        docLink.innerHTML = docLinkHtml;\n",
              "        element.appendChild(docLink);\n",
              "      }\n",
              "    </script>\n",
              "  </div>\n",
              "\n",
              "\n",
              "    <div id=\"df-3771fa06-298d-4d77-999b-102ee8e91fe2\">\n",
              "      <button class=\"colab-df-quickchart\" onclick=\"quickchart('df-3771fa06-298d-4d77-999b-102ee8e91fe2')\"\n",
              "                title=\"Suggest charts\"\n",
              "                style=\"display:none;\">\n",
              "\n",
              "<svg xmlns=\"http://www.w3.org/2000/svg\" height=\"24px\"viewBox=\"0 0 24 24\"\n",
              "     width=\"24px\">\n",
              "    <g>\n",
              "        <path d=\"M19 3H5c-1.1 0-2 .9-2 2v14c0 1.1.9 2 2 2h14c1.1 0 2-.9 2-2V5c0-1.1-.9-2-2-2zM9 17H7v-7h2v7zm4 0h-2V7h2v10zm4 0h-2v-4h2v4z\"/>\n",
              "    </g>\n",
              "</svg>\n",
              "      </button>\n",
              "\n",
              "<style>\n",
              "  .colab-df-quickchart {\n",
              "      --bg-color: #E8F0FE;\n",
              "      --fill-color: #1967D2;\n",
              "      --hover-bg-color: #E2EBFA;\n",
              "      --hover-fill-color: #174EA6;\n",
              "      --disabled-fill-color: #AAA;\n",
              "      --disabled-bg-color: #DDD;\n",
              "  }\n",
              "\n",
              "  [theme=dark] .colab-df-quickchart {\n",
              "      --bg-color: #3B4455;\n",
              "      --fill-color: #D2E3FC;\n",
              "      --hover-bg-color: #434B5C;\n",
              "      --hover-fill-color: #FFFFFF;\n",
              "      --disabled-bg-color: #3B4455;\n",
              "      --disabled-fill-color: #666;\n",
              "  }\n",
              "\n",
              "  .colab-df-quickchart {\n",
              "    background-color: var(--bg-color);\n",
              "    border: none;\n",
              "    border-radius: 50%;\n",
              "    cursor: pointer;\n",
              "    display: none;\n",
              "    fill: var(--fill-color);\n",
              "    height: 32px;\n",
              "    padding: 0;\n",
              "    width: 32px;\n",
              "  }\n",
              "\n",
              "  .colab-df-quickchart:hover {\n",
              "    background-color: var(--hover-bg-color);\n",
              "    box-shadow: 0 1px 2px rgba(60, 64, 67, 0.3), 0 1px 3px 1px rgba(60, 64, 67, 0.15);\n",
              "    fill: var(--button-hover-fill-color);\n",
              "  }\n",
              "\n",
              "  .colab-df-quickchart-complete:disabled,\n",
              "  .colab-df-quickchart-complete:disabled:hover {\n",
              "    background-color: var(--disabled-bg-color);\n",
              "    fill: var(--disabled-fill-color);\n",
              "    box-shadow: none;\n",
              "  }\n",
              "\n",
              "  .colab-df-spinner {\n",
              "    border: 2px solid var(--fill-color);\n",
              "    border-color: transparent;\n",
              "    border-bottom-color: var(--fill-color);\n",
              "    animation:\n",
              "      spin 1s steps(1) infinite;\n",
              "  }\n",
              "\n",
              "  @keyframes spin {\n",
              "    0% {\n",
              "      border-color: transparent;\n",
              "      border-bottom-color: var(--fill-color);\n",
              "      border-left-color: var(--fill-color);\n",
              "    }\n",
              "    20% {\n",
              "      border-color: transparent;\n",
              "      border-left-color: var(--fill-color);\n",
              "      border-top-color: var(--fill-color);\n",
              "    }\n",
              "    30% {\n",
              "      border-color: transparent;\n",
              "      border-left-color: var(--fill-color);\n",
              "      border-top-color: var(--fill-color);\n",
              "      border-right-color: var(--fill-color);\n",
              "    }\n",
              "    40% {\n",
              "      border-color: transparent;\n",
              "      border-right-color: var(--fill-color);\n",
              "      border-top-color: var(--fill-color);\n",
              "    }\n",
              "    60% {\n",
              "      border-color: transparent;\n",
              "      border-right-color: var(--fill-color);\n",
              "    }\n",
              "    80% {\n",
              "      border-color: transparent;\n",
              "      border-right-color: var(--fill-color);\n",
              "      border-bottom-color: var(--fill-color);\n",
              "    }\n",
              "    90% {\n",
              "      border-color: transparent;\n",
              "      border-bottom-color: var(--fill-color);\n",
              "    }\n",
              "  }\n",
              "</style>\n",
              "\n",
              "      <script>\n",
              "        async function quickchart(key) {\n",
              "          const quickchartButtonEl =\n",
              "            document.querySelector('#' + key + ' button');\n",
              "          quickchartButtonEl.disabled = true;  // To prevent multiple clicks.\n",
              "          quickchartButtonEl.classList.add('colab-df-spinner');\n",
              "          try {\n",
              "            const charts = await google.colab.kernel.invokeFunction(\n",
              "                'suggestCharts', [key], {});\n",
              "          } catch (error) {\n",
              "            console.error('Error during call to suggestCharts:', error);\n",
              "          }\n",
              "          quickchartButtonEl.classList.remove('colab-df-spinner');\n",
              "          quickchartButtonEl.classList.add('colab-df-quickchart-complete');\n",
              "        }\n",
              "        (() => {\n",
              "          let quickchartButtonEl =\n",
              "            document.querySelector('#df-3771fa06-298d-4d77-999b-102ee8e91fe2 button');\n",
              "          quickchartButtonEl.style.display =\n",
              "            google.colab.kernel.accessAllowed ? 'block' : 'none';\n",
              "        })();\n",
              "      </script>\n",
              "    </div>\n",
              "\n",
              "  <div id=\"id_9d4b17af-0c07-46a2-a3cb-503dfeb01359\">\n",
              "    <style>\n",
              "      .colab-df-generate {\n",
              "        background-color: #E8F0FE;\n",
              "        border: none;\n",
              "        border-radius: 50%;\n",
              "        cursor: pointer;\n",
              "        display: none;\n",
              "        fill: #1967D2;\n",
              "        height: 32px;\n",
              "        padding: 0 0 0 0;\n",
              "        width: 32px;\n",
              "      }\n",
              "\n",
              "      .colab-df-generate:hover {\n",
              "        background-color: #E2EBFA;\n",
              "        box-shadow: 0px 1px 2px rgba(60, 64, 67, 0.3), 0px 1px 3px 1px rgba(60, 64, 67, 0.15);\n",
              "        fill: #174EA6;\n",
              "      }\n",
              "\n",
              "      [theme=dark] .colab-df-generate {\n",
              "        background-color: #3B4455;\n",
              "        fill: #D2E3FC;\n",
              "      }\n",
              "\n",
              "      [theme=dark] .colab-df-generate:hover {\n",
              "        background-color: #434B5C;\n",
              "        box-shadow: 0px 1px 3px 1px rgba(0, 0, 0, 0.15);\n",
              "        filter: drop-shadow(0px 1px 2px rgba(0, 0, 0, 0.3));\n",
              "        fill: #FFFFFF;\n",
              "      }\n",
              "    </style>\n",
              "    <button class=\"colab-df-generate\" onclick=\"generateWithVariable('data')\"\n",
              "            title=\"Generate code using this dataframe.\"\n",
              "            style=\"display:none;\">\n",
              "\n",
              "  <svg xmlns=\"http://www.w3.org/2000/svg\" height=\"24px\"viewBox=\"0 0 24 24\"\n",
              "       width=\"24px\">\n",
              "    <path d=\"M7,19H8.4L18.45,9,17,7.55,7,17.6ZM5,21V16.75L18.45,3.32a2,2,0,0,1,2.83,0l1.4,1.43a1.91,1.91,0,0,1,.58,1.4,1.91,1.91,0,0,1-.58,1.4L9.25,21ZM18.45,9,17,7.55Zm-12,3A5.31,5.31,0,0,0,4.9,8.1,5.31,5.31,0,0,0,1,6.5,5.31,5.31,0,0,0,4.9,4.9,5.31,5.31,0,0,0,6.5,1,5.31,5.31,0,0,0,8.1,4.9,5.31,5.31,0,0,0,12,6.5,5.46,5.46,0,0,0,6.5,12Z\"/>\n",
              "  </svg>\n",
              "    </button>\n",
              "    <script>\n",
              "      (() => {\n",
              "      const buttonEl =\n",
              "        document.querySelector('#id_9d4b17af-0c07-46a2-a3cb-503dfeb01359 button.colab-df-generate');\n",
              "      buttonEl.style.display =\n",
              "        google.colab.kernel.accessAllowed ? 'block' : 'none';\n",
              "\n",
              "      buttonEl.onclick = () => {\n",
              "        google.colab.notebook.generateWithVariable('data');\n",
              "      }\n",
              "      })();\n",
              "    </script>\n",
              "  </div>\n",
              "\n",
              "    </div>\n",
              "  </div>\n"
            ],
            "application/vnd.google.colaboratory.intrinsic+json": {
              "type": "dataframe",
              "variable_name": "data",
              "summary": "{\n  \"name\": \"data\",\n  \"rows\": 626,\n  \"fields\": [\n    {\n      \"column\": \"Year\",\n      \"properties\": {\n        \"dtype\": \"number\",\n        \"std\": 0,\n        \"min\": 2000,\n        \"max\": 2000,\n        \"num_unique_values\": 1,\n        \"samples\": [\n          2000\n        ],\n        \"semantic_type\": \"\",\n        \"description\": \"\"\n      }\n    },\n    {\n      \"column\": \"MAKE\",\n      \"properties\": {\n        \"dtype\": \"category\",\n        \"num_unique_values\": 35,\n        \"samples\": [\n          \"PONTIAC\"\n        ],\n        \"semantic_type\": \"\",\n        \"description\": \"\"\n      }\n    },\n    {\n      \"column\": \"MODEL\",\n      \"properties\": {\n        \"dtype\": \"string\",\n        \"num_unique_values\": 319,\n        \"samples\": [\n          \"300M\"\n        ],\n        \"semantic_type\": \"\",\n        \"description\": \"\"\n      }\n    },\n    {\n      \"column\": \"VEHICLE CLASS\",\n      \"properties\": {\n        \"dtype\": \"category\",\n        \"num_unique_values\": 14,\n        \"samples\": [\n          \"VAN - CARGO\"\n        ],\n        \"semantic_type\": \"\",\n        \"description\": \"\"\n      }\n    },\n    {\n      \"column\": \"ENGINE SIZE\",\n      \"properties\": {\n        \"dtype\": \"number\",\n        \"std\": 1.1853337729747824,\n        \"min\": 1.0,\n        \"max\": 6.0,\n        \"num_unique_values\": 38,\n        \"samples\": [\n          4.0\n        ],\n        \"semantic_type\": \"\",\n        \"description\": \"\"\n      }\n    },\n    {\n      \"column\": \"CYLINDERS\",\n      \"properties\": {\n        \"dtype\": \"number\",\n        \"std\": 1,\n        \"min\": 3,\n        \"max\": 8,\n        \"num_unique_values\": 5,\n        \"samples\": [\n          6\n        ],\n        \"semantic_type\": \"\",\n        \"description\": \"\"\n      }\n    },\n    {\n      \"column\": \"TRANSMISSION\",\n      \"properties\": {\n        \"dtype\": \"category\",\n        \"num_unique_values\": 7,\n        \"samples\": [\n          \"A4\"\n        ],\n        \"semantic_type\": \"\",\n        \"description\": \"\"\n      }\n    },\n    {\n      \"column\": \"FUEL\",\n      \"properties\": {\n        \"dtype\": \"category\",\n        \"num_unique_values\": 5,\n        \"samples\": [\n          \"Z\"\n        ],\n        \"semantic_type\": \"\",\n        \"description\": \"\"\n      }\n    },\n    {\n      \"column\": \"FUEL CONSUMPTION\",\n      \"properties\": {\n        \"dtype\": \"number\",\n        \"std\": 3.02579220688289,\n        \"min\": 6.7,\n        \"max\": 22.3,\n        \"num_unique_values\": 118,\n        \"samples\": [\n          18.0\n        ],\n        \"semantic_type\": \"\",\n        \"description\": \"\"\n      }\n    },\n    {\n      \"column\": \"COEMISSIONS\",\n      \"properties\": {\n        \"dtype\": \"number\",\n        \"std\": 61,\n        \"min\": 147,\n        \"max\": 458,\n        \"num_unique_values\": 110,\n        \"samples\": [\n          396\n        ],\n        \"semantic_type\": \"\",\n        \"description\": \"\"\n      }\n    },\n    {\n      \"column\": \"ENGINE_CYLINDER_RATIO\",\n      \"properties\": {\n        \"dtype\": \"number\",\n        \"std\": 0.09499960245045087,\n        \"min\": 0.325,\n        \"max\": 0.75,\n        \"num_unique_values\": 38,\n        \"samples\": [\n          0.6875\n        ],\n        \"semantic_type\": \"\",\n        \"description\": \"\"\n      }\n    },\n    {\n      \"column\": \"POWER_INDICATOR\",\n      \"properties\": {\n        \"dtype\": \"number\",\n        \"std\": 11.893155354284666,\n        \"min\": 3.0,\n        \"max\": 48.0,\n        \"num_unique_values\": 47,\n        \"samples\": [\n          19.799999999999997\n        ],\n        \"semantic_type\": \"\",\n        \"description\": \"\"\n      }\n    }\n  ]\n}"
            }
          },
          "metadata": {},
          "execution_count": 398
        }
      ]
    },
    {
      "cell_type": "code",
      "execution_count": 399,
      "metadata": {
        "colab": {
          "base_uri": "https://localhost:8080/"
        },
        "id": "QdJZBcKcSFy9",
        "outputId": "052fe945-c246-40c6-d379-fcf471dd5a52"
      },
      "outputs": [
        {
          "output_type": "stream",
          "name": "stdout",
          "text": [
            "Correlation matrix:\n",
            "                       Year  ENGINE SIZE  CYLINDERS  FUEL CONSUMPTION  \\\n",
            "Year                    NaN          NaN        NaN               NaN   \n",
            "ENGINE SIZE             NaN     1.000000   0.908022          0.876774   \n",
            "CYLINDERS               NaN     0.908022   1.000000          0.803854   \n",
            "FUEL CONSUMPTION        NaN     0.876774   0.803854          1.000000   \n",
            "COEMISSIONS             NaN     0.864975   0.777821          0.981534   \n",
            "ENGINE_CYLINDER_RATIO   NaN     0.779577   0.462413          0.695353   \n",
            "POWER_INDICATOR         NaN     0.979680   0.953291          0.845712   \n",
            "\n",
            "                       COEMISSIONS  ENGINE_CYLINDER_RATIO  POWER_INDICATOR  \n",
            "Year                           NaN                    NaN              NaN  \n",
            "ENGINE SIZE               0.864975               0.779577         0.979680  \n",
            "CYLINDERS                 0.777821               0.462413         0.953291  \n",
            "FUEL CONSUMPTION          0.981534               0.695353         0.845712  \n",
            "COEMISSIONS               1.000000               0.705961         0.830250  \n",
            "ENGINE_CYLINDER_RATIO     0.705961               1.000000         0.652564  \n",
            "POWER_INDICATOR           0.830250               0.652564         1.000000  \n"
          ]
        }
      ],
      "source": [
        "print(\"Correlation matrix:\")\n",
        "print(data.corr(numeric_only=True))"
      ]
    },
    {
      "cell_type": "code",
      "execution_count": 400,
      "metadata": {
        "colab": {
          "base_uri": "https://localhost:8080/",
          "height": 627
        },
        "id": "7OEDMr8dSGKz",
        "outputId": "420249d8-36dd-494f-a397-3ee6240b31f4"
      },
      "outputs": [
        {
          "output_type": "display_data",
          "data": {
            "text/plain": [
              "<Figure size 1200x800 with 2 Axes>"
            ],
            "image/png": "[encoded data removed]"
          },
          "metadata": {}
        }
      ],
      "source": [
        "import seaborn as sns\n",
        "import matplotlib.pyplot as plt\n",
        "corr_matrix = data.corr(numeric_only=True)\n",
        "plt.figure(figsize=(12, 8))\n",
        "sns.heatmap(corr_matrix, annot=True)\n",
        "plt.title(\"Correlation Matrix Heatmap\")\n",
        "plt.show()"
      ]
    },
    {
      "cell_type": "code",
      "execution_count": 401,
      "metadata": {
        "colab": {
          "base_uri": "https://localhost:8080/",
          "height": 472
        },
        "id": "JcQUxGH-dkPc",
        "outputId": "6126f5ac-dc3a-46bd-a5f4-1a3b26b2b022"
      },
      "outputs": [
        {
          "output_type": "display_data",
          "data": {
            "text/plain": [
              "<Figure size 640x480 with 1 Axes>"
            ],
            "image/png": "[encoded data removed]"
          },
          "metadata": {}
        }
      ],
      "source": [
        "plt.hist(data['ENGINE SIZE'], bins=20, color='skyblue')\n",
        "plt.title('Distribution of Engine Size')\n",
        "plt.xlabel('Engine Size')\n",
        "plt.ylabel('Frequency')\n",
        "plt.show()"
      ]
    },
    {
      "cell_type": "code",
      "execution_count": 402,
      "metadata": {
        "colab": {
          "base_uri": "https://localhost:8080/",
          "height": 472
        },
        "id": "QNnGF0rQdz-6",
        "outputId": "eae2e828-fc91-4811-e0f9-c0f029b916a6"
      },
      "outputs": [
        {
          "output_type": "display_data",
          "data": {
            "text/plain": [
              "<Figure size 640x480 with 1 Axes>"
            ],
            "image/png": "[encoded data removed]"
          },
          "metadata": {}
        }
      ],
      "source": [
        "plt.hist(data['FUEL CONSUMPTION'], bins=20, color='salmon')\n",
        "plt.title('Distribution of Fuel Consumption')\n",
        "plt.xlabel('Fuel Consumption')\n",
        "plt.ylabel('Frequency')\n",
        "plt.show()"
      ]
    },
    {
      "cell_type": "code",
      "execution_count": 403,
      "metadata": {
        "colab": {
          "base_uri": "https://localhost:8080/",
          "height": 472
        },
        "id": "8Q4DxyrPd5aE",
        "outputId": "8b78a334-25b6-4fcc-cabb-e35d4ee83ee5"
      },
      "outputs": [
        {
          "output_type": "display_data",
          "data": {
            "text/plain": [
              "<Figure size 640x480 with 1 Axes>"
            ],
            "image/png": "[encoded data removed]"
          },
          "metadata": {}
        }
      ],
      "source": [
        "cylinder_counts = data['CYLINDERS'].value_counts()  # count of each cylinder\n",
        "plt.bar(cylinder_counts.index, cylinder_counts.values, color='lightgreen')\n",
        "plt.title('Number of Cars by Cylinders')\n",
        "plt.xlabel('Cylinders')\n",
        "plt.ylabel('Count')\n",
        "plt.show()"
      ]
    },
    {
      "cell_type": "code",
      "execution_count": 404,
      "metadata": {
        "colab": {
          "base_uri": "https://localhost:8080/",
          "height": 428
        },
        "id": "ZmrH3IpOd8F8",
        "outputId": "3f8cddec-ec51-451a-bf11-87b5b1ee74ba"
      },
      "outputs": [
        {
          "output_type": "display_data",
          "data": {
            "text/plain": [
              "<Figure size 640x480 with 1 Axes>"
            ],
            "image/png": "[encoded data removed]"
          },
          "metadata": {}
        }
      ],
      "source": [
        "import matplotlib.pyplot as plt\n",
        "plt.pie(cylinder_counts.values, labels=cylinder_counts.index, autopct='%1.1f%%')\n",
        "plt.title('Cylinder Distribution')\n",
        "plt.show()\n"
      ]
    },
    {
      "cell_type": "code",
      "execution_count": 405,
      "metadata": {
        "colab": {
          "base_uri": "https://localhost:8080/",
          "height": 472
        },
        "id": "_x2_xziOiiKF",
        "outputId": "3c50ccf1-9431-4236-e294-42cefd8b196b"
      },
      "outputs": [
        {
          "output_type": "display_data",
          "data": {
            "text/plain": [
              "<Figure size 640x480 with 1 Axes>"
            ],
            "image/png": "[encoded data removed]"
          },
          "metadata": {}
        }
      ],
      "source": [
        "plt.scatter(data['ENGINE SIZE'], data['COEMISSIONS'], alpha=0.6, color='green')\n",
        "plt.title('Engine Size vs CO Emissions')\n",
        "plt.xlabel('Engine Size')\n",
        "plt.ylabel('CO Emissions')\n",
        "plt.show()"
      ]
    },
    {
      "cell_type": "markdown",
      "metadata": {
        "id": "2dMu4YZ_Id9s"
      },
      "source": [
        "\"--- Encoding ---\""
      ]
    },
    {
      "cell_type": "code",
      "source": [
        "from sklearn.model_selection import train_test_split\n",
        "from sklearn.preprocessing import OneHotEncoder\n",
        "from sklearn.compose import ColumnTransformer\n",
        "from sklearn.pipeline import Pipeline\n",
        "from sklearn.linear_model import LinearRegression\n",
        "from sklearn.metrics import mean_absolute_error, mean_squared_error, r2_score\n",
        "from sklearn.feature_selection import VarianceThreshold\n"
      ],
      "metadata": {
        "id": "VhgBa3J-4eVY"
      },
      "execution_count": 406,
      "outputs": []
    },
    {
      "cell_type": "code",
      "source": [
        "data = data.drop(columns=['Year'])\n"
      ],
      "metadata": {
        "id": "dTW2ErTK38jH"
      },
      "execution_count": 407,
      "outputs": []
    },
    {
      "cell_type": "code",
      "execution_count": 408,
      "metadata": {
        "colab": {
          "base_uri": "https://localhost:8080/"
        },
        "id": "UIPwF3aEIa0q",
        "outputId": "cb5209d0-b377-4778-fc65-dc3293fdb5d1"
      },
      "outputs": [
        {
          "output_type": "stream",
          "name": "stdout",
          "text": [
            "Categorical columns encoded successfully.\n",
            "New shape: (626, 381)\n"
          ]
        }
      ],
      "source": [
        "# Identify categorical and numeric columns\n",
        "categorical_cols = data.select_dtypes(include=['object']).columns\n",
        "numeric_cols = data.select_dtypes(exclude=['object']).columns\n",
        "\n",
        "# OneHotEncode categorical columns\n",
        "encoder = OneHotEncoder(drop='first', sparse_output=False)\n",
        "encoded_array = encoder.fit_transform(data[categorical_cols])\n",
        "encoded_df = pd.DataFrame(encoded_array, columns=encoder.get_feature_names_out(categorical_cols))\n",
        "\n",
        "# Combine numeric + encoded categorical columns\n",
        "data = pd.concat([data[numeric_cols].reset_index(drop=True),\n",
        "                  encoded_df.reset_index(drop=True)], axis=1)\n",
        "\n",
        "print(\"Categorical columns encoded successfully.\")\n",
        "print(\"New shape:\", data.shape)\n"
      ]
    },
    {
      "cell_type": "code",
      "source": [
        "selector = VarianceThreshold(threshold=0.01)\n",
        "data = pd.DataFrame(selector.fit_transform(data), columns=data.columns[selector.get_support()])\n",
        "\n",
        "print(\"Low variance features removed.\")\n",
        "print(\"Shape after cleaning:\", data.shape)\n"
      ],
      "metadata": {
        "colab": {
          "base_uri": "https://localhost:8080/"
        },
        "id": "vjy4kz0-4pCn",
        "outputId": "f2d7da00-dd3f-4767-fb71-1d337f6bb790"
      },
      "execution_count": 409,
      "outputs": [
        {
          "output_type": "stream",
          "name": "stdout",
          "text": [
            "Low variance features removed.\n",
            "Shape after cleaning: (626, 51)\n"
          ]
        }
      ]
    },
    {
      "cell_type": "code",
      "execution_count": 410,
      "metadata": {
        "colab": {
          "base_uri": "https://localhost:8080/",
          "height": 495
        },
        "id": "v4P9aAd-JYX4",
        "outputId": "9c3ad545-c0ef-4b61-9ffd-c44c03eafb8c"
      },
      "outputs": [
        {
          "output_type": "execute_result",
          "data": {
            "text/plain": [
              "     ENGINE SIZE  CYLINDERS  FUEL CONSUMPTION  COEMISSIONS  POWER_INDICATOR  \\\n",
              "0            1.6        4.0              10.5        216.0              6.4   \n",
              "1            1.6        4.0               9.8        205.0              6.4   \n",
              "2            3.2        6.0              13.7        265.0             19.2   \n",
              "3            3.5        6.0              15.0        301.0             21.0   \n",
              "4            1.8        4.0              11.4        230.0              7.2   \n",
              "..           ...        ...               ...          ...              ...   \n",
              "621          2.4        5.0              14.4        288.0             12.0   \n",
              "622          2.4        5.0              13.6        274.0             12.0   \n",
              "623          2.3        5.0              13.9        274.0             11.5   \n",
              "624          2.3        5.0              13.0        260.0             11.5   \n",
              "625          2.4        5.0              14.7        299.0             12.0   \n",
              "\n",
              "     MAKE_AUDI  MAKE_BMW  MAKE_CHEVROLET  MAKE_CHRYSLER  MAKE_DAEWOO  ...  \\\n",
              "0          0.0       0.0             0.0            0.0          0.0  ...   \n",
              "1          0.0       0.0             0.0            0.0          0.0  ...   \n",
              "2          0.0       0.0             0.0            0.0          0.0  ...   \n",
              "3          0.0       0.0             0.0            0.0          0.0  ...   \n",
              "4          0.0       0.0             0.0            0.0          0.0  ...   \n",
              "..         ...       ...             ...            ...          ...  ...   \n",
              "621        0.0       0.0             0.0            0.0          0.0  ...   \n",
              "622        0.0       0.0             0.0            0.0          0.0  ...   \n",
              "623        0.0       0.0             0.0            0.0          0.0  ...   \n",
              "624        0.0       0.0             0.0            0.0          0.0  ...   \n",
              "625        0.0       0.0             0.0            0.0          0.0  ...   \n",
              "\n",
              "     VEHICLE CLASS_TWO-SEATER  VEHICLE CLASS_VAN - CARGO  \\\n",
              "0                         0.0                        0.0   \n",
              "1                         0.0                        0.0   \n",
              "2                         0.0                        0.0   \n",
              "3                         0.0                        0.0   \n",
              "4                         0.0                        0.0   \n",
              "..                        ...                        ...   \n",
              "621                       0.0                        0.0   \n",
              "622                       0.0                        0.0   \n",
              "623                       0.0                        0.0   \n",
              "624                       0.0                        0.0   \n",
              "625                       0.0                        0.0   \n",
              "\n",
              "     VEHICLE CLASS_VAN - PASSENGER  TRANSMISSION_A4  TRANSMISSION_A5  \\\n",
              "0                              0.0              1.0              0.0   \n",
              "1                              0.0              0.0              0.0   \n",
              "2                              0.0              0.0              0.0   \n",
              "3                              0.0              1.0              0.0   \n",
              "4                              0.0              1.0              0.0   \n",
              "..                             ...              ...              ...   \n",
              "621                            0.0              1.0              0.0   \n",
              "622                            0.0              1.0              0.0   \n",
              "623                            0.0              1.0              0.0   \n",
              "624                            0.0              0.0              0.0   \n",
              "625                            0.0              0.0              1.0   \n",
              "\n",
              "     TRANSMISSION_AS4  TRANSMISSION_M5  TRANSMISSION_M6  FUEL_X  FUEL_Z  \n",
              "0                 0.0              0.0              0.0     1.0     0.0  \n",
              "1                 0.0              1.0              0.0     1.0     0.0  \n",
              "2                 0.0              0.0              0.0     0.0     1.0  \n",
              "3                 0.0              0.0              0.0     0.0     1.0  \n",
              "4                 0.0              0.0              0.0     1.0     0.0  \n",
              "..                ...              ...              ...     ...     ...  \n",
              "621               0.0              0.0              0.0     0.0     1.0  \n",
              "622               0.0              0.0              0.0     0.0     1.0  \n",
              "623               0.0              0.0              0.0     0.0     1.0  \n",
              "624               0.0              1.0              0.0     0.0     1.0  \n",
              "625               0.0              0.0              0.0     0.0     1.0  \n",
              "\n",
              "[626 rows x 51 columns]"
            ],
            "text/html": [
              "\n",
              "  <div id=\"df-4ee62108-a860-4f57-bcb1-fdfc6fedc2cb\" class=\"colab-df-container\">\n",
              "    <div>\n",
              "<style scoped>\n",
              "    .dataframe tbody tr th:only-of-type {\n",
              "        vertical-align: middle;\n",
              "    }\n",
              "\n",
              "    .dataframe tbody tr th {\n",
              "        vertical-align: top;\n",
              "    }\n",
              "\n",
              "    .dataframe thead th {\n",
              "        text-align: right;\n",
              "    }\n",
              "</style>\n",
              "<table border=\"1\" class=\"dataframe\">\n",
              "  <thead>\n",
              "    <tr style=\"text-align: right;\">\n",
              "      <th></th>\n",
              "      <th>ENGINE SIZE</th>\n",
              "      <th>CYLINDERS</th>\n",
              "      <th>FUEL CONSUMPTION</th>\n",
              "      <th>COEMISSIONS</th>\n",
              "      <th>POWER_INDICATOR</th>\n",
              "      <th>MAKE_AUDI</th>\n",
              "      <th>MAKE_BMW</th>\n",
              "      <th>MAKE_CHEVROLET</th>\n",
              "      <th>MAKE_CHRYSLER</th>\n",
              "      <th>MAKE_DAEWOO</th>\n",
              "      <th>...</th>\n",
              "      <th>VEHICLE CLASS_TWO-SEATER</th>\n",
              "      <th>VEHICLE CLASS_VAN - CARGO</th>\n",
              "      <th>VEHICLE CLASS_VAN - PASSENGER</th>\n",
              "      <th>TRANSMISSION_A4</th>\n",
              "      <th>TRANSMISSION_A5</th>\n",
              "      <th>TRANSMISSION_AS4</th>\n",
              "      <th>TRANSMISSION_M5</th>\n",
              "      <th>TRANSMISSION_M6</th>\n",
              "      <th>FUEL_X</th>\n",
              "      <th>FUEL_Z</th>\n",
              "    </tr>\n",
              "  </thead>\n",
              "  <tbody>\n",
              "    <tr>\n",
              "      <th>0</th>\n",
              "      <td>1.6</td>\n",
              "      <td>4.0</td>\n",
              "      <td>10.5</td>\n",
              "      <td>216.0</td>\n",
              "      <td>6.4</td>\n",
              "      <td>0.0</td>\n",
              "      <td>0.0</td>\n",
              "      <td>0.0</td>\n",
              "      <td>0.0</td>\n",
              "      <td>0.0</td>\n",
              "      <td>...</td>\n",
              "      <td>0.0</td>\n",
              "      <td>0.0</td>\n",
              "      <td>0.0</td>\n",
              "      <td>1.0</td>\n",
              "      <td>0.0</td>\n",
              "      <td>0.0</td>\n",
              "      <td>0.0</td>\n",
              "      <td>0.0</td>\n",
              "      <td>1.0</td>\n",
              "      <td>0.0</td>\n",
              "    </tr>\n",
              "    <tr>\n",
              "      <th>1</th>\n",
              "      <td>1.6</td>\n",
              "      <td>4.0</td>\n",
              "      <td>9.8</td>\n",
              "      <td>205.0</td>\n",
              "      <td>6.4</td>\n",
              "      <td>0.0</td>\n",
              "      <td>0.0</td>\n",
              "      <td>0.0</td>\n",
              "      <td>0.0</td>\n",
              "      <td>0.0</td>\n",
              "      <td>...</td>\n",
              "      <td>0.0</td>\n",
              "      <td>0.0</td>\n",
              "      <td>0.0</td>\n",
              "      <td>0.0</td>\n",
              "      <td>0.0</td>\n",
              "      <td>0.0</td>\n",
              "      <td>1.0</td>\n",
              "      <td>0.0</td>\n",
              "      <td>1.0</td>\n",
              "      <td>0.0</td>\n",
              "    </tr>\n",
              "    <tr>\n",
              "      <th>2</th>\n",
              "      <td>3.2</td>\n",
              "      <td>6.0</td>\n",
              "      <td>13.7</td>\n",
              "      <td>265.0</td>\n",
              "      <td>19.2</td>\n",
              "      <td>0.0</td>\n",
              "      <td>0.0</td>\n",
              "      <td>0.0</td>\n",
              "      <td>0.0</td>\n",
              "      <td>0.0</td>\n",
              "      <td>...</td>\n",
              "      <td>0.0</td>\n",
              "      <td>0.0</td>\n",
              "      <td>0.0</td>\n",
              "      <td>0.0</td>\n",
              "      <td>0.0</td>\n",
              "      <td>0.0</td>\n",
              "      <td>0.0</td>\n",
              "      <td>0.0</td>\n",
              "      <td>0.0</td>\n",
              "      <td>1.0</td>\n",
              "    </tr>\n",
              "    <tr>\n",
              "      <th>3</th>\n",
              "      <td>3.5</td>\n",
              "      <td>6.0</td>\n",
              "      <td>15.0</td>\n",
              "      <td>301.0</td>\n",
              "      <td>21.0</td>\n",
              "      <td>0.0</td>\n",
              "      <td>0.0</td>\n",
              "      <td>0.0</td>\n",
              "      <td>0.0</td>\n",
              "      <td>0.0</td>\n",
              "      <td>...</td>\n",
              "      <td>0.0</td>\n",
              "      <td>0.0</td>\n",
              "      <td>0.0</td>\n",
              "      <td>1.0</td>\n",
              "      <td>0.0</td>\n",
              "      <td>0.0</td>\n",
              "      <td>0.0</td>\n",
              "      <td>0.0</td>\n",
              "      <td>0.0</td>\n",
              "      <td>1.0</td>\n",
              "    </tr>\n",
              "    <tr>\n",
              "      <th>4</th>\n",
              "      <td>1.8</td>\n",
              "      <td>4.0</td>\n",
              "      <td>11.4</td>\n",
              "      <td>230.0</td>\n",
              "      <td>7.2</td>\n",
              "      <td>0.0</td>\n",
              "      <td>0.0</td>\n",
              "      <td>0.0</td>\n",
              "      <td>0.0</td>\n",
              "      <td>0.0</td>\n",
              "      <td>...</td>\n",
              "      <td>0.0</td>\n",
              "      <td>0.0</td>\n",
              "      <td>0.0</td>\n",
              "      <td>1.0</td>\n",
              "      <td>0.0</td>\n",
              "      <td>0.0</td>\n",
              "      <td>0.0</td>\n",
              "      <td>0.0</td>\n",
              "      <td>1.0</td>\n",
              "      <td>0.0</td>\n",
              "    </tr>\n",
              "    <tr>\n",
              "      <th>...</th>\n",
              "      <td>...</td>\n",
              "      <td>...</td>\n",
              "      <td>...</td>\n",
              "      <td>...</td>\n",
              "      <td>...</td>\n",
              "      <td>...</td>\n",
              "      <td>...</td>\n",
              "      <td>...</td>\n",
              "      <td>...</td>\n",
              "      <td>...</td>\n",
              "      <td>...</td>\n",
              "      <td>...</td>\n",
              "      <td>...</td>\n",
              "      <td>...</td>\n",
              "      <td>...</td>\n",
              "      <td>...</td>\n",
              "      <td>...</td>\n",
              "      <td>...</td>\n",
              "      <td>...</td>\n",
              "      <td>...</td>\n",
              "      <td>...</td>\n",
              "    </tr>\n",
              "    <tr>\n",
              "      <th>621</th>\n",
              "      <td>2.4</td>\n",
              "      <td>5.0</td>\n",
              "      <td>14.4</td>\n",
              "      <td>288.0</td>\n",
              "      <td>12.0</td>\n",
              "      <td>0.0</td>\n",
              "      <td>0.0</td>\n",
              "      <td>0.0</td>\n",
              "      <td>0.0</td>\n",
              "      <td>0.0</td>\n",
              "      <td>...</td>\n",
              "      <td>0.0</td>\n",
              "      <td>0.0</td>\n",
              "      <td>0.0</td>\n",
              "      <td>1.0</td>\n",
              "      <td>0.0</td>\n",
              "      <td>0.0</td>\n",
              "      <td>0.0</td>\n",
              "      <td>0.0</td>\n",
              "      <td>0.0</td>\n",
              "      <td>1.0</td>\n",
              "    </tr>\n",
              "    <tr>\n",
              "      <th>622</th>\n",
              "      <td>2.4</td>\n",
              "      <td>5.0</td>\n",
              "      <td>13.6</td>\n",
              "      <td>274.0</td>\n",
              "      <td>12.0</td>\n",
              "      <td>0.0</td>\n",
              "      <td>0.0</td>\n",
              "      <td>0.0</td>\n",
              "      <td>0.0</td>\n",
              "      <td>0.0</td>\n",
              "      <td>...</td>\n",
              "      <td>0.0</td>\n",
              "      <td>0.0</td>\n",
              "      <td>0.0</td>\n",
              "      <td>1.0</td>\n",
              "      <td>0.0</td>\n",
              "      <td>0.0</td>\n",
              "      <td>0.0</td>\n",
              "      <td>0.0</td>\n",
              "      <td>0.0</td>\n",
              "      <td>1.0</td>\n",
              "    </tr>\n",
              "    <tr>\n",
              "      <th>623</th>\n",
              "      <td>2.3</td>\n",
              "      <td>5.0</td>\n",
              "      <td>13.9</td>\n",
              "      <td>274.0</td>\n",
              "      <td>11.5</td>\n",
              "      <td>0.0</td>\n",
              "      <td>0.0</td>\n",
              "      <td>0.0</td>\n",
              "      <td>0.0</td>\n",
              "      <td>0.0</td>\n",
              "      <td>...</td>\n",
              "      <td>0.0</td>\n",
              "      <td>0.0</td>\n",
              "      <td>0.0</td>\n",
              "      <td>1.0</td>\n",
              "      <td>0.0</td>\n",
              "      <td>0.0</td>\n",
              "      <td>0.0</td>\n",
              "      <td>0.0</td>\n",
              "      <td>0.0</td>\n",
              "      <td>1.0</td>\n",
              "    </tr>\n",
              "    <tr>\n",
              "      <th>624</th>\n",
              "      <td>2.3</td>\n",
              "      <td>5.0</td>\n",
              "      <td>13.0</td>\n",
              "      <td>260.0</td>\n",
              "      <td>11.5</td>\n",
              "      <td>0.0</td>\n",
              "      <td>0.0</td>\n",
              "      <td>0.0</td>\n",
              "      <td>0.0</td>\n",
              "      <td>0.0</td>\n",
              "      <td>...</td>\n",
              "      <td>0.0</td>\n",
              "      <td>0.0</td>\n",
              "      <td>0.0</td>\n",
              "      <td>0.0</td>\n",
              "      <td>0.0</td>\n",
              "      <td>0.0</td>\n",
              "      <td>1.0</td>\n",
              "      <td>0.0</td>\n",
              "      <td>0.0</td>\n",
              "      <td>1.0</td>\n",
              "    </tr>\n",
              "    <tr>\n",
              "      <th>625</th>\n",
              "      <td>2.4</td>\n",
              "      <td>5.0</td>\n",
              "      <td>14.7</td>\n",
              "      <td>299.0</td>\n",
              "      <td>12.0</td>\n",
              "      <td>0.0</td>\n",
              "      <td>0.0</td>\n",
              "      <td>0.0</td>\n",
              "      <td>0.0</td>\n",
              "      <td>0.0</td>\n",
              "      <td>...</td>\n",
              "      <td>0.0</td>\n",
              "      <td>0.0</td>\n",
              "      <td>0.0</td>\n",
              "      <td>0.0</td>\n",
              "      <td>1.0</td>\n",
              "      <td>0.0</td>\n",
              "      <td>0.0</td>\n",
              "      <td>0.0</td>\n",
              "      <td>0.0</td>\n",
              "      <td>1.0</td>\n",
              "    </tr>\n",
              "  </tbody>\n",
              "</table>\n",
              "<p>626 rows × 51 columns</p>\n",
              "</div>\n",
              "    <div class=\"colab-df-buttons\">\n",
              "\n",
              "  <div class=\"colab-df-container\">\n",
              "    <button class=\"colab-df-convert\" onclick=\"convertToInteractive('df-4ee62108-a860-4f57-bcb1-fdfc6fedc2cb')\"\n",
              "            title=\"Convert this dataframe to an interactive table.\"\n",
              "            style=\"display:none;\">\n",
              "\n",
              "  <svg xmlns=\"http://www.w3.org/2000/svg\" height=\"24px\" viewBox=\"0 -960 960 960\">\n",
              "    <path d=\"M120-120v-720h720v720H120Zm60-500h600v-160H180v160Zm220 220h160v-160H400v160Zm0 220h160v-160H400v160ZM180-400h160v-160H180v160Zm440 0h160v-160H620v160ZM180-180h160v-160H180v160Zm440 0h160v-160H620v160Z\"/>\n",
              "  </svg>\n",
              "    </button>\n",
              "\n",
              "  <style>\n",
              "    .colab-df-container {\n",
              "      display:flex;\n",
              "      gap: 12px;\n",
              "    }\n",
              "\n",
              "    .colab-df-convert {\n",
              "      background-color: #E8F0FE;\n",
              "      border: none;\n",
              "      border-radius: 50%;\n",
              "      cursor: pointer;\n",
              "      display: none;\n",
              "      fill: #1967D2;\n",
              "      height: 32px;\n",
              "      padding: 0 0 0 0;\n",
              "      width: 32px;\n",
              "    }\n",
              "\n",
              "    .colab-df-convert:hover {\n",
              "      background-color: #E2EBFA;\n",
              "      box-shadow: 0px 1px 2px rgba(60, 64, 67, 0.3), 0px 1px 3px 1px rgba(60, 64, 67, 0.15);\n",
              "      fill: #174EA6;\n",
              "    }\n",
              "\n",
              "    .colab-df-buttons div {\n",
              "      margin-bottom: 4px;\n",
              "    }\n",
              "\n",
              "    [theme=dark] .colab-df-convert {\n",
              "      background-color: #3B4455;\n",
              "      fill: #D2E3FC;\n",
              "    }\n",
              "\n",
              "    [theme=dark] .colab-df-convert:hover {\n",
              "      background-color: #434B5C;\n",
              "      box-shadow: 0px 1px 3px 1px rgba(0, 0, 0, 0.15);\n",
              "      filter: drop-shadow(0px 1px 2px rgba(0, 0, 0, 0.3));\n",
              "      fill: #FFFFFF;\n",
              "    }\n",
              "  </style>\n",
              "\n",
              "    <script>\n",
              "      const buttonEl =\n",
              "        document.querySelector('#df-4ee62108-a860-4f57-bcb1-fdfc6fedc2cb button.colab-df-convert');\n",
              "      buttonEl.style.display =\n",
              "        google.colab.kernel.accessAllowed ? 'block' : 'none';\n",
              "\n",
              "      async function convertToInteractive(key) {\n",
              "        const element = document.querySelector('#df-4ee62108-a860-4f57-bcb1-fdfc6fedc2cb');\n",
              "        const dataTable =\n",
              "          await google.colab.kernel.invokeFunction('convertToInteractive',\n",
              "                                                    [key], {});\n",
              "        if (!dataTable) return;\n",
              "\n",
              "        const docLinkHtml = 'Like what you see? Visit the ' +\n",
              "          '<a target=\"_blank\" href=https://colab.research.google.com/notebooks/data_table.ipynb>data table notebook</a>'\n",
              "          + ' to learn more about interactive tables.';\n",
              "        element.innerHTML = '';\n",
              "        dataTable['output_type'] = 'display_data';\n",
              "        await google.colab.output.renderOutput(dataTable, element);\n",
              "        const docLink = document.createElement('div');\n",
              "        docLink.innerHTML = docLinkHtml;\n",
              "        element.appendChild(docLink);\n",
              "      }\n",
              "    </script>\n",
              "  </div>\n",
              "\n",
              "\n",
              "    <div id=\"df-b893a59e-c042-400a-8104-d92602558bdb\">\n",
              "      <button class=\"colab-df-quickchart\" onclick=\"quickchart('df-b893a59e-c042-400a-8104-d92602558bdb')\"\n",
              "                title=\"Suggest charts\"\n",
              "                style=\"display:none;\">\n",
              "\n",
              "<svg xmlns=\"http://www.w3.org/2000/svg\" height=\"24px\"viewBox=\"0 0 24 24\"\n",
              "     width=\"24px\">\n",
              "    <g>\n",
              "        <path d=\"M19 3H5c-1.1 0-2 .9-2 2v14c0 1.1.9 2 2 2h14c1.1 0 2-.9 2-2V5c0-1.1-.9-2-2-2zM9 17H7v-7h2v7zm4 0h-2V7h2v10zm4 0h-2v-4h2v4z\"/>\n",
              "    </g>\n",
              "</svg>\n",
              "      </button>\n",
              "\n",
              "<style>\n",
              "  .colab-df-quickchart {\n",
              "      --bg-color: #E8F0FE;\n",
              "      --fill-color: #1967D2;\n",
              "      --hover-bg-color: #E2EBFA;\n",
              "      --hover-fill-color: #174EA6;\n",
              "      --disabled-fill-color: #AAA;\n",
              "      --disabled-bg-color: #DDD;\n",
              "  }\n",
              "\n",
              "  [theme=dark] .colab-df-quickchart {\n",
              "      --bg-color: #3B4455;\n",
              "      --fill-color: #D2E3FC;\n",
              "      --hover-bg-color: #434B5C;\n",
              "      --hover-fill-color: #FFFFFF;\n",
              "      --disabled-bg-color: #3B4455;\n",
              "      --disabled-fill-color: #666;\n",
              "  }\n",
              "\n",
              "  .colab-df-quickchart {\n",
              "    background-color: var(--bg-color);\n",
              "    border: none;\n",
              "    border-radius: 50%;\n",
              "    cursor: pointer;\n",
              "    display: none;\n",
              "    fill: var(--fill-color);\n",
              "    height: 32px;\n",
              "    padding: 0;\n",
              "    width: 32px;\n",
              "  }\n",
              "\n",
              "  .colab-df-quickchart:hover {\n",
              "    background-color: var(--hover-bg-color);\n",
              "    box-shadow: 0 1px 2px rgba(60, 64, 67, 0.3), 0 1px 3px 1px rgba(60, 64, 67, 0.15);\n",
              "    fill: var(--button-hover-fill-color);\n",
              "  }\n",
              "\n",
              "  .colab-df-quickchart-complete:disabled,\n",
              "  .colab-df-quickchart-complete:disabled:hover {\n",
              "    background-color: var(--disabled-bg-color);\n",
              "    fill: var(--disabled-fill-color);\n",
              "    box-shadow: none;\n",
              "  }\n",
              "\n",
              "  .colab-df-spinner {\n",
              "    border: 2px solid var(--fill-color);\n",
              "    border-color: transparent;\n",
              "    border-bottom-color: var(--fill-color);\n",
              "    animation:\n",
              "      spin 1s steps(1) infinite;\n",
              "  }\n",
              "\n",
              "  @keyframes spin {\n",
              "    0% {\n",
              "      border-color: transparent;\n",
              "      border-bottom-color: var(--fill-color);\n",
              "      border-left-color: var(--fill-color);\n",
              "    }\n",
              "    20% {\n",
              "      border-color: transparent;\n",
              "      border-left-color: var(--fill-color);\n",
              "      border-top-color: var(--fill-color);\n",
              "    }\n",
              "    30% {\n",
              "      border-color: transparent;\n",
              "      border-left-color: var(--fill-color);\n",
              "      border-top-color: var(--fill-color);\n",
              "      border-right-color: var(--fill-color);\n",
              "    }\n",
              "    40% {\n",
              "      border-color: transparent;\n",
              "      border-right-color: var(--fill-color);\n",
              "      border-top-color: var(--fill-color);\n",
              "    }\n",
              "    60% {\n",
              "      border-color: transparent;\n",
              "      border-right-color: var(--fill-color);\n",
              "    }\n",
              "    80% {\n",
              "      border-color: transparent;\n",
              "      border-right-color: var(--fill-color);\n",
              "      border-bottom-color: var(--fill-color);\n",
              "    }\n",
              "    90% {\n",
              "      border-color: transparent;\n",
              "      border-bottom-color: var(--fill-color);\n",
              "    }\n",
              "  }\n",
              "</style>\n",
              "\n",
              "      <script>\n",
              "        async function quickchart(key) {\n",
              "          const quickchartButtonEl =\n",
              "            document.querySelector('#' + key + ' button');\n",
              "          quickchartButtonEl.disabled = true;  // To prevent multiple clicks.\n",
              "          quickchartButtonEl.classList.add('colab-df-spinner');\n",
              "          try {\n",
              "            const charts = await google.colab.kernel.invokeFunction(\n",
              "                'suggestCharts', [key], {});\n",
              "          } catch (error) {\n",
              "            console.error('Error during call to suggestCharts:', error);\n",
              "          }\n",
              "          quickchartButtonEl.classList.remove('colab-df-spinner');\n",
              "          quickchartButtonEl.classList.add('colab-df-quickchart-complete');\n",
              "        }\n",
              "        (() => {\n",
              "          let quickchartButtonEl =\n",
              "            document.querySelector('#df-b893a59e-c042-400a-8104-d92602558bdb button');\n",
              "          quickchartButtonEl.style.display =\n",
              "            google.colab.kernel.accessAllowed ? 'block' : 'none';\n",
              "        })();\n",
              "      </script>\n",
              "    </div>\n",
              "\n",
              "  <div id=\"id_b8a6a8df-d6e3-4762-b66c-7a23a08c64e0\">\n",
              "    <style>\n",
              "      .colab-df-generate {\n",
              "        background-color: #E8F0FE;\n",
              "        border: none;\n",
              "        border-radius: 50%;\n",
              "        cursor: pointer;\n",
              "        display: none;\n",
              "        fill: #1967D2;\n",
              "        height: 32px;\n",
              "        padding: 0 0 0 0;\n",
              "        width: 32px;\n",
              "      }\n",
              "\n",
              "      .colab-df-generate:hover {\n",
              "        background-color: #E2EBFA;\n",
              "        box-shadow: 0px 1px 2px rgba(60, 64, 67, 0.3), 0px 1px 3px 1px rgba(60, 64, 67, 0.15);\n",
              "        fill: #174EA6;\n",
              "      }\n",
              "\n",
              "      [theme=dark] .colab-df-generate {\n",
              "        background-color: #3B4455;\n",
              "        fill: #D2E3FC;\n",
              "      }\n",
              "\n",
              "      [theme=dark] .colab-df-generate:hover {\n",
              "        background-color: #434B5C;\n",
              "        box-shadow: 0px 1px 3px 1px rgba(0, 0, 0, 0.15);\n",
              "        filter: drop-shadow(0px 1px 2px rgba(0, 0, 0, 0.3));\n",
              "        fill: #FFFFFF;\n",
              "      }\n",
              "    </style>\n",
              "    <button class=\"colab-df-generate\" onclick=\"generateWithVariable('data')\"\n",
              "            title=\"Generate code using this dataframe.\"\n",
              "            style=\"display:none;\">\n",
              "\n",
              "  <svg xmlns=\"http://www.w3.org/2000/svg\" height=\"24px\"viewBox=\"0 0 24 24\"\n",
              "       width=\"24px\">\n",
              "    <path d=\"M7,19H8.4L18.45,9,17,7.55,7,17.6ZM5,21V16.75L18.45,3.32a2,2,0,0,1,2.83,0l1.4,1.43a1.91,1.91,0,0,1,.58,1.4,1.91,1.91,0,0,1-.58,1.4L9.25,21ZM18.45,9,17,7.55Zm-12,3A5.31,5.31,0,0,0,4.9,8.1,5.31,5.31,0,0,0,1,6.5,5.31,5.31,0,0,0,4.9,4.9,5.31,5.31,0,0,0,6.5,1,5.31,5.31,0,0,0,8.1,4.9,5.31,5.31,0,0,0,12,6.5,5.46,5.46,0,0,0,6.5,12Z\"/>\n",
              "  </svg>\n",
              "    </button>\n",
              "    <script>\n",
              "      (() => {\n",
              "      const buttonEl =\n",
              "        document.querySelector('#id_b8a6a8df-d6e3-4762-b66c-7a23a08c64e0 button.colab-df-generate');\n",
              "      buttonEl.style.display =\n",
              "        google.colab.kernel.accessAllowed ? 'block' : 'none';\n",
              "\n",
              "      buttonEl.onclick = () => {\n",
              "        google.colab.notebook.generateWithVariable('data');\n",
              "      }\n",
              "      })();\n",
              "    </script>\n",
              "  </div>\n",
              "\n",
              "    </div>\n",
              "  </div>\n"
            ],
            "application/vnd.google.colaboratory.intrinsic+json": {
              "type": "dataframe",
              "variable_name": "data"
            }
          },
          "metadata": {},
          "execution_count": 410
        }
      ],
      "source": [
        "data"
      ]
    },
    {
      "cell_type": "code",
      "execution_count": 411,
      "metadata": {
        "colab": {
          "base_uri": "https://localhost:8080/"
        },
        "id": "ZV1d7AusKA8A",
        "outputId": "2c6dc5b8-8155-4d1e-99fd-68fd4c710b83"
      },
      "outputs": [
        {
          "output_type": "stream",
          "name": "stdout",
          "text": [
            "<class 'pandas.core.frame.DataFrame'>\n",
            "RangeIndex: 626 entries, 0 to 625\n",
            "Data columns (total 51 columns):\n",
            " #   Column                                  Non-Null Count  Dtype  \n",
            "---  ------                                  --------------  -----  \n",
            " 0   ENGINE SIZE                             626 non-null    float64\n",
            " 1   CYLINDERS                               626 non-null    float64\n",
            " 2   FUEL CONSUMPTION                        626 non-null    float64\n",
            " 3   COEMISSIONS                             626 non-null    float64\n",
            " 4   POWER_INDICATOR                         626 non-null    float64\n",
            " 5   MAKE_AUDI                               626 non-null    float64\n",
            " 6   MAKE_BMW                                626 non-null    float64\n",
            " 7   MAKE_CHEVROLET                          626 non-null    float64\n",
            " 8   MAKE_CHRYSLER                           626 non-null    float64\n",
            " 9   MAKE_DAEWOO                             626 non-null    float64\n",
            " 10  MAKE_DODGE                              626 non-null    float64\n",
            " 11  MAKE_FORD                               626 non-null    float64\n",
            " 12  MAKE_GMC                                626 non-null    float64\n",
            " 13  MAKE_HONDA                              626 non-null    float64\n",
            " 14  MAKE_HYUNDAI                            626 non-null    float64\n",
            " 15  MAKE_ISUZU                              626 non-null    float64\n",
            " 16  MAKE_JAGUAR                             626 non-null    float64\n",
            " 17  MAKE_JEEP                               626 non-null    float64\n",
            " 18  MAKE_LEXUS                              626 non-null    float64\n",
            " 19  MAKE_MAZDA                              626 non-null    float64\n",
            " 20  MAKE_MERCEDES-BENZ                      626 non-null    float64\n",
            " 21  MAKE_NISSAN                             626 non-null    float64\n",
            " 22  MAKE_PONTIAC                            626 non-null    float64\n",
            " 23  MAKE_PORSCHE                            626 non-null    float64\n",
            " 24  MAKE_SAAB                               626 non-null    float64\n",
            " 25  MAKE_SATURN                             626 non-null    float64\n",
            " 26  MAKE_SUBARU                             626 non-null    float64\n",
            " 27  MAKE_SUZUKI                             626 non-null    float64\n",
            " 28  MAKE_TOYOTA                             626 non-null    float64\n",
            " 29  MAKE_VOLKSWAGEN                         626 non-null    float64\n",
            " 30  MAKE_VOLVO                              626 non-null    float64\n",
            " 31  VEHICLE CLASS_FULL-SIZE                 626 non-null    float64\n",
            " 32  VEHICLE CLASS_MID-SIZE                  626 non-null    float64\n",
            " 33  VEHICLE CLASS_MINICOMPACT               626 non-null    float64\n",
            " 34  VEHICLE CLASS_MINIVAN                   626 non-null    float64\n",
            " 35  VEHICLE CLASS_PICKUP TRUCK - SMALL      626 non-null    float64\n",
            " 36  VEHICLE CLASS_PICKUP TRUCK - STANDARD   626 non-null    float64\n",
            " 37  VEHICLE CLASS_STATION WAGON - MID-SIZE  626 non-null    float64\n",
            " 38  VEHICLE CLASS_STATION WAGON - SMALL     626 non-null    float64\n",
            " 39  VEHICLE CLASS_SUBCOMPACT                626 non-null    float64\n",
            " 40  VEHICLE CLASS_SUV                       626 non-null    float64\n",
            " 41  VEHICLE CLASS_TWO-SEATER                626 non-null    float64\n",
            " 42  VEHICLE CLASS_VAN - CARGO               626 non-null    float64\n",
            " 43  VEHICLE CLASS_VAN - PASSENGER           626 non-null    float64\n",
            " 44  TRANSMISSION_A4                         626 non-null    float64\n",
            " 45  TRANSMISSION_A5                         626 non-null    float64\n",
            " 46  TRANSMISSION_AS4                        626 non-null    float64\n",
            " 47  TRANSMISSION_M5                         626 non-null    float64\n",
            " 48  TRANSMISSION_M6                         626 non-null    float64\n",
            " 49  FUEL_X                                  626 non-null    float64\n",
            " 50  FUEL_Z                                  626 non-null    float64\n",
            "dtypes: float64(51)\n",
            "memory usage: 249.6 KB\n"
          ]
        }
      ],
      "source": [
        "data.info()"
      ]
    },
    {
      "cell_type": "code",
      "execution_count": 412,
      "metadata": {
        "id": "r4qdilAFSIY_"
      },
      "outputs": [],
      "source": [
        "from sklearn.linear_model import LinearRegression\n",
        "from sklearn.model_selection import train_test_split\n",
        "from sklearn.metrics import mean_squared_error, r2_score, mean_absolute_error"
      ]
    },
    {
      "cell_type": "code",
      "execution_count": 413,
      "metadata": {
        "id": "sWiSc7vbUCUN"
      },
      "outputs": [],
      "source": [
        "lr =  LinearRegression()\n"
      ]
    },
    {
      "cell_type": "code",
      "execution_count": 414,
      "metadata": {
        "id": "3l6n8s1VT6Ge",
        "colab": {
          "base_uri": "https://localhost:8080/"
        },
        "outputId": "92808390-1695-4ccd-e28c-bae97b4ffd7b"
      },
      "outputs": [
        {
          "output_type": "stream",
          "name": "stdout",
          "text": [
            "Train shape: (500, 50)\n",
            "Test shape: (126, 50)\n"
          ]
        }
      ],
      "source": [
        "# Separate target and features\n",
        "x = data.drop(columns=['COEMISSIONS'])\n",
        "y = data['COEMISSIONS']\n",
        "\n",
        "# Train-test split\n",
        "x_train, x_test, y_train, y_test = train_test_split(x, y, test_size=0.2, random_state=42)\n",
        "\n",
        "print(\"Train shape:\", x_train.shape)\n",
        "print(\"Test shape:\", x_test.shape)\n"
      ]
    },
    {
      "cell_type": "code",
      "execution_count": 415,
      "metadata": {
        "colab": {
          "base_uri": "https://localhost:8080/"
        },
        "id": "9C79QGORUqPc",
        "outputId": "d42025d6-34aa-4c37-a651-c779e11f6579"
      },
      "outputs": [
        {
          "output_type": "stream",
          "name": "stdout",
          "text": [
            "Model training complete.\n"
          ]
        }
      ],
      "source": [
        "lr.fit(x_train, y_train)\n",
        "\n",
        "print(\"Model training complete.\")\n"
      ]
    },
    {
      "cell_type": "code",
      "execution_count": 416,
      "metadata": {
        "id": "Z-TK-ZTtUpyz"
      },
      "outputs": [],
      "source": [
        "y_pred = lr.predict(x_test)"
      ]
    },
    {
      "cell_type": "code",
      "execution_count": 417,
      "metadata": {
        "colab": {
          "base_uri": "https://localhost:8080/"
        },
        "id": "hdYCpPM3U1eJ",
        "outputId": "d20ca119-651e-4633-b7b2-197e0339679c"
      },
      "outputs": [
        {
          "output_type": "stream",
          "name": "stdout",
          "text": [
            "Mean Squared Error: 64.04564234584296\n",
            "R-squared: 0.9824169087545008\n",
            "Mean Absolute Error: 5.613626695059715\n",
            "Root Mean Squared Error: 8.002852138196916\n"
          ]
        }
      ],
      "source": [
        "mse = mean_squared_error(y_test, y_pred)\n",
        "r2 = r2_score(y_test, y_pred)\n",
        "mae = mean_absolute_error(y_test, y_pred)\n",
        "rmse = np.sqrt(mse)\n",
        "\n",
        "print(\"Mean Squared Error:\", mse)\n",
        "print(\"R-squared:\", r2)\n",
        "print(\"Mean Absolute Error:\", mae)\n",
        "print(\"Root Mean Squared Error:\", rmse)"
      ]
    },
    {
      "cell_type": "code",
      "execution_count": 418,
      "metadata": {
        "colab": {
          "base_uri": "https://localhost:8080/"
        },
        "id": "USinlVxRHKJv",
        "outputId": "b1c1a030-1a8f-4e69-8c5b-9564916d805e"
      },
      "outputs": [
        {
          "output_type": "stream",
          "name": "stdout",
          "text": [
            "0.9824169087545008\n"
          ]
        }
      ],
      "source": [
        "print(lr.score(x_test, y_test))\n"
      ]
    },
    {
      "cell_type": "code",
      "execution_count": 419,
      "metadata": {
        "colab": {
          "base_uri": "https://localhost:8080/"
        },
        "id": "igQJIJbKVdHx",
        "outputId": "efd0f3c1-8b42-4f62-bfaa-635427ce86cb"
      },
      "outputs": [
        {
          "output_type": "stream",
          "name": "stdout",
          "text": [
            "Mean Squared Error: 64.04564234584296\n",
            "R-squared (Test): 0.9824169087545008\n",
            "R-squared (Train): 0.9835758842142773\n",
            "--- Overfitting Check ---\n",
            "R² difference: 0.001159\n",
            " No overfitting detected (difference < 0.05)\n"
          ]
        }
      ],
      "source": [
        "from sklearn.metrics import r2_score\n",
        "y_train_pred = lr.predict(x_train)\n",
        "train_r2 = r2_score(y_train, y_train_pred)\n",
        "\n",
        "print(\"Mean Squared Error:\", mse)\n",
        "print(\"R-squared (Test):\", r2)\n",
        "print(\"R-squared (Train):\", train_r2)\n",
        "\n",
        "print(\"--- Overfitting Check ---\")\n",
        "r2_diff = abs(train_r2 - r2)\n",
        "print(\"R² difference: \" + str(round(r2_diff, 6)))\n",
        "if r2_diff < 0.05:\n",
        "    print(\" No overfitting detected (difference < 0.05)\")\n",
        "elif r2_diff < 0.10:\n",
        "    print(\" Slight overfitting (difference < 0.10)\")\n",
        "else:\n",
        "    print(\" Overfitting detected (difference > 0.10)\")"
      ]
    },
    {
      "cell_type": "code",
      "execution_count": 420,
      "metadata": {
        "colab": {
          "base_uri": "https://localhost:8080/",
          "height": 564
        },
        "id": "K9_n2q_thKEY",
        "outputId": "5bfcd63d-f9b5-4fcd-b0c2-b3f83adceef2"
      },
      "outputs": [
        {
          "output_type": "display_data",
          "data": {
            "text/plain": [
              "<Figure size 800x600 with 1 Axes>"
            ],
            "image/png": "[encoded data removed]"
          },
          "metadata": {}
        }
      ],
      "source": [
        "plt.figure(figsize=(8, 6))\n",
        "plt.scatter(y_test, y_pred, alpha=0.5)\n",
        "plt.plot([y_test.min(), y_test.max()], [y_test.min(), y_test.max()], 'r--')\n",
        "plt.xlabel('Actual CO2 Emissions')\n",
        "plt.ylabel('Predicted CO2 Emissions')\n",
        "plt.title('Actual vs Predicted CO2 Emissions')\n",
        "plt.show()"
      ]
    },
    {
      "cell_type": "markdown",
      "metadata": {
        "id": "HNUj0Gw255cT"
      },
      "source": [
        "knn"
      ]
    },
    {
      "cell_type": "code",
      "source": [
        "\n",
        "from sklearn.neighbors import KNeighborsRegressor\n",
        "\n",
        "r2_scores = []\n",
        "\n",
        "for k in range(1, 21):\n",
        "    knn = KNeighborsRegressor(n_neighbors=k)\n",
        "    knn.fit(x_train, y_train)\n",
        "    y_pred = knn.predict(x_test)\n",
        "    score = r2_score(y_test, y_pred)\n",
        "    r2_scores.append(score)\n",
        "\n",
        "plt.figure(figsize=(8,5))\n",
        "plt.plot(range(1, 21), r2_scores, marker='o', color='b')\n",
        "plt.title(\"R² Score vs K Value\")\n",
        "plt.xlabel(\"Number of Neighbors (K)\")\n",
        "plt.ylabel(\"R² Score\")\n",
        "plt.grid(True)\n",
        "\n",
        "plt.xticks(range(1, 21))\n",
        "\n",
        "plt.show()\n",
        "\n",
        "best_k = r2_scores.index(max(r2_scores)) + 1\n",
        "print(\"Best K value:\", best_k)\n",
        "print(\"Highest R² Score:\", max(r2_scores))\n"
      ],
      "metadata": {
        "id": "yYr5Eh4OAUrA",
        "colab": {
          "base_uri": "https://localhost:8080/",
          "height": 523
        },
        "outputId": "69252854-ea67-404e-9844-0e0849b54b03"
      },
      "execution_count": 421,
      "outputs": [
        {
          "output_type": "display_data",
          "data": {
            "text/plain": [
              "<Figure size 800x500 with 1 Axes>"
            ],
            "image/png": "[encoded data removed]"
          },
          "metadata": {}
        },
        {
          "output_type": "stream",
          "name": "stdout",
          "text": [
            "Best K value: 4\n",
            "Highest R² Score: 0.9710786535337765\n"
          ]
        }
      ]
    },
    {
      "cell_type": "code",
      "execution_count": 422,
      "metadata": {
        "id": "0scV9FEn55JQ",
        "colab": {
          "base_uri": "https://localhost:8080/"
        },
        "outputId": "ddab3d13-706a-4e2d-b54e-ce5a6696f85d"
      },
      "outputs": [
        {
          "output_type": "stream",
          "name": "stdout",
          "text": [
            "KNN Regressor Evaluation:\n",
            "R2 Score: 0.9705953487257313\n",
            "Mean Squared Error: 107.10515873015873\n"
          ]
        }
      ],
      "source": [
        "knn = KNeighborsRegressor(n_neighbors=2)\n",
        "knn.fit(x_train, y_train)\n",
        "\n",
        "y_pred_knn = knn.predict(x_test)\n",
        "\n",
        "print(\"KNN Regressor Evaluation:\")\n",
        "print(\"R2 Score:\", r2_score(y_test, y_pred_knn))\n",
        "print(\"Mean Squared Error:\", mean_squared_error(y_test, y_pred_knn))\n"
      ]
    },
    {
      "cell_type": "markdown",
      "source": [
        "Decisison Tree"
      ],
      "metadata": {
        "id": "uZaPtKhyEgrb"
      }
    },
    {
      "cell_type": "code",
      "source": [
        "from sklearn.tree import DecisionTreeRegressor\n",
        "from sklearn.metrics import r2_score, mean_squared_error\n",
        "import matplotlib.pyplot as plt\n",
        "\n",
        "r2_scores = []\n",
        "\n",
        "for depth in range(1, 21):\n",
        "    model = DecisionTreeRegressor(max_depth=depth, random_state=42)\n",
        "    model.fit(x_train, y_train)\n",
        "    y_pred = model.predict(x_test)\n",
        "    score = r2_score(y_test, y_pred)\n",
        "    r2_scores.append(score)\n",
        "\n",
        "plt.figure(figsize=(8,5))\n",
        "plt.plot(range(1, 21), r2_scores, marker='o', linestyle='-', color='green')\n",
        "plt.title(\"R² Score vs max_depth\")\n",
        "plt.xlabel(\"max_depth\")\n",
        "plt.ylabel(\"R² Score\")\n",
        "plt.grid(True)\n",
        "plt.xticks(range(1, 21))\n",
        "plt.show()\n",
        "\n",
        "best_depth = r2_scores.index(max(r2_scores)) + 1\n",
        "print(\"Best max_depth:\", best_depth)\n",
        "print(\"Highest R² Score:\", max(r2_scores))\n"
      ],
      "metadata": {
        "id": "xw0M878LB9nY",
        "colab": {
          "base_uri": "https://localhost:8080/",
          "height": 523
        },
        "outputId": "ad2b9a5f-2763-44a5-84c2-89474c8bea42"
      },
      "execution_count": 423,
      "outputs": [
        {
          "output_type": "display_data",
          "data": {
            "text/plain": [
              "<Figure size 800x500 with 1 Axes>"
            ],
            "image/png": "[encoded data removed]"
          },
          "metadata": {}
        },
        {
          "output_type": "stream",
          "name": "stdout",
          "text": [
            "Best max_depth: 17\n",
            "Highest R² Score: 0.9748708735928463\n"
          ]
        }
      ]
    },
    {
      "cell_type": "code",
      "source": [
        "dt_best = DecisionTreeRegressor(max_depth=best_depth, random_state=42)\n",
        "dt_best.fit(x_train, y_train)\n",
        "\n",
        "y_pred_best = dt_best.predict(x_test)\n",
        "print(\"Decision Tree Regressor (Best Depth) Evaluation:\")\n",
        "print(\"R2 Score:\", r2_score(y_test, y_pred_best))\n",
        "print(\"Mean Squared Error:\", mean_squared_error(y_test, y_pred_best))\n"
      ],
      "metadata": {
        "id": "OM75VoYTCAnR",
        "colab": {
          "base_uri": "https://localhost:8080/"
        },
        "outputId": "15c8d717-6b97-4f83-dfe0-33b4538b71d5"
      },
      "execution_count": 424,
      "outputs": [
        {
          "output_type": "stream",
          "name": "stdout",
          "text": [
            "Decision Tree Regressor (Best Depth) Evaluation:\n",
            "R2 Score: 0.9748708735928463\n",
            "Mean Squared Error: 91.53174603174604\n"
          ]
        }
      ]
    },
    {
      "cell_type": "markdown",
      "source": [
        "Random Forest"
      ],
      "metadata": {
        "id": "tQhsw-1hEkkQ"
      }
    },
    {
      "cell_type": "code",
      "source": [
        "from sklearn.ensemble import RandomForestRegressor\n",
        "from sklearn.metrics import r2_score, mean_squared_error\n",
        "import matplotlib.pyplot as plt\n",
        "\n",
        "r2_scores = []\n",
        "\n",
        "for n in range(10, 201, 10):\n",
        "    model = RandomForestRegressor(n_estimators=n, random_state=42)\n",
        "    model.fit(x_train, y_train)\n",
        "    y_pred = model.predict(x_test)\n",
        "    score = r2_score(y_test, y_pred)\n",
        "    r2_scores.append(score)\n",
        "\n",
        "plt.figure(figsize=(8,5))\n",
        "plt.plot(range(10, 201, 10), r2_scores, marker='o', linestyle='-', color='orange')\n",
        "plt.title(\"R² Score vs n_estimators\")\n",
        "plt.xlabel(\"Number of Trees (n_estimators)\")\n",
        "plt.ylabel(\"R² Score\")\n",
        "plt.grid(True)\n",
        "plt.xticks(range(10, 201, 10))\n",
        "plt.show()\n",
        "\n",
        "best_n = (range(10, 201, 10))[r2_scores.index(max(r2_scores))]\n",
        "print(\"Best n_estimators:\", best_n)\n",
        "print(\"Highest R² Score:\", max(r2_scores))\n"
      ],
      "metadata": {
        "id": "nD7wdZ6qDW6k",
        "colab": {
          "base_uri": "https://localhost:8080/",
          "height": 523
        },
        "outputId": "8fcab54b-15b6-4581-ca80-00c9118c52c2"
      },
      "execution_count": 425,
      "outputs": [
        {
          "output_type": "display_data",
          "data": {
            "text/plain": [
              "<Figure size 800x500 with 1 Axes>"
            ],
            "image/png": "[encoded data removed]"
          },
          "metadata": {}
        },
        {
          "output_type": "stream",
          "name": "stdout",
          "text": [
            "Best n_estimators: 10\n",
            "Highest R² Score: 0.9820518597362019\n"
          ]
        }
      ]
    },
    {
      "cell_type": "code",
      "source": [
        "rf_best = RandomForestRegressor(n_estimators=best_n, random_state=42)\n",
        "rf_best.fit(x_train, y_train)\n",
        "y_pred_best = rf_best.predict(x_test)\n",
        "print(\"Random Forest Regressor (Best Estimators) Evaluation:\")\n",
        "print(\"R2 Score:\", r2_score(y_test, y_pred_best))\n",
        "print(\"Mean Squared Error:\", mean_squared_error(y_test, y_pred_best))\n"
      ],
      "metadata": {
        "id": "8apBhgrNDZLr",
        "colab": {
          "base_uri": "https://localhost:8080/"
        },
        "outputId": "37eba4f3-f49b-487e-cbcd-ed0f866f8c8e"
      },
      "execution_count": 426,
      "outputs": [
        {
          "output_type": "stream",
          "name": "stdout",
          "text": [
            "Random Forest Regressor (Best Estimators) Evaluation:\n",
            "R2 Score: 0.9820518597362019\n",
            "Mean Squared Error: 65.37531746031745\n"
          ]
        }
      ]
    },
    {
      "cell_type": "code",
      "source": [
        "from sklearn.model_selection import cross_val_score\n",
        "\n",
        "models = {\n",
        "    'Linear Regression': LinearRegression(),\n",
        "    'KNN Regressor': KNeighborsRegressor(),\n",
        "    'Decision Tree': DecisionTreeRegressor(random_state=42),\n",
        "    'Random Forest': RandomForestRegressor(random_state=42)\n",
        "}\n",
        "\n",
        "print(\"Cross Validation Results (5-Fold):\\n\")\n",
        "\n",
        "for name, model in models.items():\n",
        "    scores = cross_val_score(model, x, y, cv=5, scoring='r2')\n",
        "    print(name + \":\")\n",
        "    print(\"  Mean R² Score: \" + str(round(scores.mean(), 4)))\n",
        "    print(\"  Std Deviation: \" + str(round(scores.std(), 4)))\n",
        "    print(\"----------------------------------------\")\n"
      ],
      "metadata": {
        "id": "5fYLhRzDDbiS",
        "colab": {
          "base_uri": "https://localhost:8080/"
        },
        "outputId": "b254f67a-94d0-45ca-cb30-b985fb0f5575"
      },
      "execution_count": 427,
      "outputs": [
        {
          "output_type": "stream",
          "name": "stdout",
          "text": [
            "Cross Validation Results (5-Fold):\n",
            "\n",
            "Linear Regression:\n",
            "  Mean R² Score: 0.8885\n",
            "  Std Deviation: 0.1361\n",
            "----------------------------------------\n",
            "KNN Regressor:\n",
            "  Mean R² Score: 0.9425\n",
            "  Std Deviation: 0.0145\n",
            "----------------------------------------\n",
            "Decision Tree:\n",
            "  Mean R² Score: 0.95\n",
            "  Std Deviation: 0.0397\n",
            "----------------------------------------\n",
            "Random Forest:\n",
            "  Mean R² Score: 0.9581\n",
            "  Std Deviation: 0.0356\n",
            "----------------------------------------\n"
          ]
        }
      ]
    },
    {
      "cell_type": "code",
      "source": [
        "import pandas as pd\n",
        "\n",
        "results = {\n",
        "    \"Model\": [\"Linear Regression\", \"KNN Regressor\", \"Decision Tree Regressor\", \"Random Forest Regressor\"],\n",
        "    \"R2 Score\": [0.9905, 0.9716, 0.9738, 0.9793],\n",
        "    \"Mean Squared Error\": [34.55, 103.42, 95.17, 75.06]\n",
        "}\n",
        "\n",
        "result_df = pd.DataFrame(results)\n",
        "\n",
        "print(\"Final Model Performance Comparison:\\n\")\n",
        "print(result_df)\n",
        "\n",
        "best_model = result_df.loc[result_df[\"R2 Score\"].idxmax(), \"Model\"]\n",
        "print(\"Best Performing Model Based on R² Score:\", best_model)\n"
      ],
      "metadata": {
        "id": "ze6H7u-rFaJN",
        "colab": {
          "base_uri": "https://localhost:8080/"
        },
        "outputId": "ab8c082e-6368-4ca5-c495-4adf807ad48b"
      },
      "execution_count": 428,
      "outputs": [
        {
          "output_type": "stream",
          "name": "stdout",
          "text": [
            "Final Model Performance Comparison:\n",
            "\n",
            "                     Model  R2 Score  Mean Squared Error\n",
            "0        Linear Regression    0.9905               34.55\n",
            "1            KNN Regressor    0.9716              103.42\n",
            "2  Decision Tree Regressor    0.9738               95.17\n",
            "3  Random Forest Regressor    0.9793               75.06\n",
            "Best Performing Model Based on R² Score: Linear Regression\n"
          ]
        }
      ]
    },
    {
      "cell_type": "code",
      "source": [
        "import pickle\n",
        "\n",
        "with open('model.pkl', 'wb') as f:\n",
        "    pickle.dump(model, f)\n",
        "\n",
        "with open('encoder.pkl', 'wb') as f:\n",
        "    pickle.dump(encoder, f)\n",
        "\n",
        "with open('numeric_cols.pkl', 'wb') as f:\n",
        "    pickle.dump(numeric_cols, f)\n",
        "\n",
        "with open('categorical_cols.pkl', 'wb') as f:\n",
        "    pickle.dump(categorical_cols, f)\n",
        "\n",
        "print(\" Model and encoder saved successfully.\")\n"
      ],
      "metadata": {
        "colab": {
          "base_uri": "https://localhost:8080/"
        },
        "id": "w6nE6EYF7Kcl",
        "outputId": "a34a4937-f205-430f-e3ae-a528e30e8e76"
      },
      "execution_count": 429,
      "outputs": [
        {
          "output_type": "stream",
          "name": "stdout",
          "text": [
            " Model and encoder saved successfully.\n"
          ]
        }
      ]
    },
    {
      "cell_type": "code",
      "source": [
        "from google.colab import files\n",
        "files.download('linear_regression_fuel_data.pkl')"
      ],
      "metadata": {
        "id": "daJ190OpKKXZ",
        "colab": {
          "base_uri": "https://localhost:8080/",
          "height": 17
        },
        "outputId": "aa418355-ee8f-40a3-efe3-030f37f9d397"
      },
      "execution_count": 430,
      "outputs": [
        {
          "output_type": "display_data",
          "data": {
            "text/plain": [
              "<IPython.core.display.Javascript object>"
            ],
            "application/javascript": [
              "\n",
              "    async function download(id, filename, size) {\n",
              "      if (!google.colab.kernel.accessAllowed) {\n",
              "        return;\n",
              "      }\n",
              "      const div = document.createElement('div');\n",
              "      const label = document.createElement('label');\n",
              "      label.textContent = `Downloading \"${filename}\": `;\n",
              "      div.appendChild(label);\n",
              "      const progress = document.createElement('progress');\n",
              "      progress.max = size;\n",
              "      div.appendChild(progress);\n",
              "      document.body.appendChild(div);\n",
              "\n",
              "      const buffers = [];\n",
              "      let downloaded = 0;\n",
              "\n",
              "      const channel = await google.colab.kernel.comms.open(id);\n",
              "      // Send a message to notify the kernel that we're ready.\n",
              "      channel.send({})\n",
              "\n",
              "      for await (const message of channel.messages) {\n",
              "        // Send a message to notify the kernel that we're ready.\n",
              "        channel.send({})\n",
              "        if (message.buffers) {\n",
              "          for (const buffer of message.buffers) {\n",
              "            buffers.push(buffer);\n",
              "            downloaded += buffer.byteLength;\n",
              "            progress.value = downloaded;\n",
              "          }\n",
              "        }\n",
              "      }\n",
              "      const blob = new Blob(buffers, {type: 'application/binary'});\n",
              "      const a = document.createElement('a');\n",
              "      a.href = window.URL.createObjectURL(blob);\n",
              "      a.download = filename;\n",
              "      div.appendChild(a);\n",
              "      a.click();\n",
              "      div.remove();\n",
              "    }\n",
              "  "
            ]
          },
          "metadata": {}
        },
        {
          "output_type": "display_data",
          "data": {
            "text/plain": [
              "<IPython.core.display.Javascript object>"
            ],
            "application/javascript": [
              "download(\"download_a0acd747-9762-470c-bc99-1ccae184094d\", \"linear_regression_fuel_data.pkl\", 2225)"
            ]
          },
          "metadata": {}
        }
      ]
    }
  ],
  "metadata": {
    "colab": {
      "provenance": []
    },
    "kernelspec": {
      "display_name": "Python 3",
      "name": "python3"
    },
    "language_info": {
      "name": "python"
    }
  },
  "nbformat": 4,
  "nbformat_minor": 0
}