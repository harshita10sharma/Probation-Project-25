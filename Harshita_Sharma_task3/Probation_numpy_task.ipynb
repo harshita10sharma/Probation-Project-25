{
  "cells": [
    {
      "cell_type": "markdown",
      "metadata": {
        "id": "CQ7hfjZHXLOD"
      },
      "source": [
        "####Task 3.1: NumPy Basics\n",
        "\n",
        "\n",
        "\n"
      ]
    },
    {
      "cell_type": "code",
      "execution_count": null,
      "metadata": {
        "id": "AgVlPvWQULHu"
      },
      "outputs": [],
      "source": [
        "import numpy as np"
      ]
    },
    {
      "cell_type": "code",
      "execution_count": null,
      "metadata": {
        "colab": {
          "base_uri": "https://localhost:8080/"
        },
        "id": "J4SK5WRWUTq-",
        "outputId": "02dce996-072e-42e6-ba10-3eea6d927883"
      },
      "outputs": [
        {
          "data": {
            "text/plain": [
              "array([35, 92, 67, 43, 16,  7, 14, 30, 61, 25])"
            ]
          },
          "execution_count": 23,
          "metadata": {},
          "output_type": "execute_result"
        }
      ],
      "source": [
        "a = np.random.randint(1,101,10)\n",
        "a"
      ]
    },
    {
      "cell_type": "code",
      "execution_count": 24,
      "metadata": {
        "colab": {
          "base_uri": "https://localhost:8080/"
        },
        "id": "ap3ma3nIVLby",
        "outputId": "0bbed0f2-b6e4-49ba-b9d8-ec795598830f"
      },
      "outputs": [
        {
          "data": {
            "text/plain": [
              "np.int64(92)"
            ]
          },
          "execution_count": 24,
          "metadata": {},
          "output_type": "execute_result"
        }
      ],
      "source": [
        "np.max(a)\n"
      ]
    },
    {
      "cell_type": "code",
      "execution_count": 26,
      "metadata": {
        "colab": {
          "base_uri": "https://localhost:8080/"
        },
        "id": "dRhH_-ztVbOy",
        "outputId": "12d9843f-5d88-49db-8f26-1fcc84d8ab09"
      },
      "outputs": [
        {
          "data": {
            "text/plain": [
              "np.int64(7)"
            ]
          },
          "execution_count": 26,
          "metadata": {},
          "output_type": "execute_result"
        }
      ],
      "source": [
        "np.min(a,axis = 0)"
      ]
    },
    {
      "cell_type": "code",
      "execution_count": 27,
      "metadata": {
        "colab": {
          "base_uri": "https://localhost:8080/"
        },
        "id": "1Dh3Hru2ViiW",
        "outputId": "f4bff651-8836-44d9-bd4f-fe36ee7155c9"
      },
      "outputs": [
        {
          "data": {
            "text/plain": [
              "np.float64(39.0)"
            ]
          },
          "execution_count": 27,
          "metadata": {},
          "output_type": "execute_result"
        }
      ],
      "source": [
        "np.mean(a)"
      ]
    },
    {
      "cell_type": "code",
      "execution_count": 28,
      "metadata": {
        "colab": {
          "base_uri": "https://localhost:8080/"
        },
        "id": "ytugXhVpVl6F",
        "outputId": "afa0d2f3-954d-4061-fa53-3bd8976290a7"
      },
      "outputs": [
        {
          "data": {
            "text/plain": [
              "np.int64(390)"
            ]
          },
          "execution_count": 28,
          "metadata": {},
          "output_type": "execute_result"
        }
      ],
      "source": [
        "np.sum(a)"
      ]
    },
    {
      "cell_type": "code",
      "execution_count": 30,
      "metadata": {
        "colab": {
          "base_uri": "https://localhost:8080/"
        },
        "id": "wbfmby0XWAx3",
        "outputId": "c478ebaf-99c3-48ac-fbd5-faec5e1de517"
      },
      "outputs": [
        {
          "data": {
            "text/plain": [
              "np.int64(1)"
            ]
          },
          "execution_count": 30,
          "metadata": {},
          "output_type": "execute_result"
        }
      ],
      "source": [
        "np.argmax(a)"
      ]
    },
    {
      "cell_type": "code",
      "execution_count": 31,
      "metadata": {
        "colab": {
          "base_uri": "https://localhost:8080/"
        },
        "id": "PF-SsD_NWg6v",
        "outputId": "252caa00-a368-409f-e621-48765bd230d5"
      },
      "outputs": [
        {
          "data": {
            "text/plain": [
              "np.int64(5)"
            ]
          },
          "execution_count": 31,
          "metadata": {},
          "output_type": "execute_result"
        }
      ],
      "source": [
        "np.argmin(a)"
      ]
    },
    {
      "cell_type": "code",
      "execution_count": 32,
      "metadata": {
        "colab": {
          "base_uri": "https://localhost:8080/"
        },
        "id": "DVs8wTi9W70y",
        "outputId": "98f6d7ed-8f54-49a9-f5d9-e8a8bb3e7b43"
      },
      "outputs": [
        {
          "data": {
            "text/plain": [
              "array([ 7, 14, 16, 25, 30, 35, 43, 61, 67, 92])"
            ]
          },
          "execution_count": 32,
          "metadata": {},
          "output_type": "execute_result"
        }
      ],
      "source": [
        "np.sort(a)"
      ]
    },
    {
      "cell_type": "markdown",
      "metadata": {
        "id": "l1YXiBtyXBtc"
      },
      "source": [
        "####: NumPy Indexing and Slicing"
      ]
    },
    {
      "cell_type": "code",
      "execution_count": 33,
      "metadata": {
        "colab": {
          "base_uri": "https://localhost:8080/"
        },
        "id": "HuCVQzIPXE4j",
        "outputId": "797b3363-de1d-4050-ebe9-9f8ee4bac572"
      },
      "outputs": [
        {
          "data": {
            "text/plain": [
              "array([[ 7, 18, 17],\n",
              "       [ 3,  8, 19],\n",
              "       [18,  8, 14]])"
            ]
          },
          "execution_count": 33,
          "metadata": {},
          "output_type": "execute_result"
        }
      ],
      "source": [
        "b = np.random.randint(1,21, size = (3,3))\n",
        "b"
      ]
    },
    {
      "cell_type": "code",
      "execution_count": 34,
      "metadata": {
        "colab": {
          "base_uri": "https://localhost:8080/"
        },
        "id": "Q59pB7YoXm1R",
        "outputId": "f357da2f-c412-401f-953b-72657e38bc60"
      },
      "outputs": [
        {
          "data": {
            "text/plain": [
              "array([ 7, 18, 17])"
            ]
          },
          "execution_count": 34,
          "metadata": {},
          "output_type": "execute_result"
        }
      ],
      "source": [
        "b[0]"
      ]
    },
    {
      "cell_type": "code",
      "execution_count": 36,
      "metadata": {
        "colab": {
          "base_uri": "https://localhost:8080/"
        },
        "id": "hElaZwzCXq-J",
        "outputId": "1b799085-dc88-4082-cdb3-cf313671c520"
      },
      "outputs": [
        {
          "data": {
            "text/plain": [
              "array([18,  8,  8])"
            ]
          },
          "execution_count": 36,
          "metadata": {},
          "output_type": "execute_result"
        }
      ],
      "source": [
        "b[:,1]"
      ]
    },
    {
      "cell_type": "code",
      "execution_count": 37,
      "metadata": {
        "colab": {
          "base_uri": "https://localhost:8080/"
        },
        "id": "DVSKWzOJXy9V",
        "outputId": "13f60643-ebb2-471b-f336-079c77a186fd"
      },
      "outputs": [
        {
          "data": {
            "text/plain": [
              "np.int64(14)"
            ]
          },
          "execution_count": 37,
          "metadata": {},
          "output_type": "execute_result"
        }
      ],
      "source": [
        "b[2,2]"
      ]
    },
    {
      "cell_type": "code",
      "execution_count": 39,
      "metadata": {
        "colab": {
          "base_uri": "https://localhost:8080/"
        },
        "id": "B2um-J6AX4T5",
        "outputId": "3490fc9a-fe9c-4d06-c400-80737b3e0789"
      },
      "outputs": [
        {
          "data": {
            "text/plain": [
              "array([[ 7, 18],\n",
              "       [ 3,  8]])"
            ]
          },
          "execution_count": 39,
          "metadata": {},
          "output_type": "execute_result"
        }
      ],
      "source": [
        "b[:2,:2]"
      ]
    },
    {
      "cell_type": "code",
      "execution_count": 41,
      "metadata": {
        "colab": {
          "base_uri": "https://localhost:8080/"
        },
        "id": "VfAdDICEYB9e",
        "outputId": "1ca89572-a271-42af-a57e-7d5f5b9adc5d"
      },
      "outputs": [
        {
          "data": {
            "text/plain": [
              "array([[ 7, 18, 17],\n",
              "       [ 3, 99, 19],\n",
              "       [18,  8, 14]])"
            ]
          },
          "execution_count": 41,
          "metadata": {},
          "output_type": "execute_result"
        }
      ],
      "source": [
        "b[1,1]=99\n",
        "b"
      ]
    },
    {
      "cell_type": "markdown",
      "metadata": {
        "id": "oj8aTwTHYRKq"
      },
      "source": [
        "####Task 3.3: NumPy Vectorized Operations"
      ]
    },
    {
      "cell_type": "code",
      "execution_count": 43,
      "metadata": {
        "colab": {
          "base_uri": "https://localhost:8080/"
        },
        "id": "mZSoud1OYPeX",
        "outputId": "c5d29446-10f6-43e2-9559-017eda9c376d"
      },
      "outputs": [
        {
          "name": "stdout",
          "output_type": "stream",
          "text": [
            "[17 18  7  9  3  1 12 12 11  2]\n",
            "[ 5  2  3  5 14 11  1 17 12 10]\n"
          ]
        }
      ],
      "source": [
        "n1 = np.random.randint(1,21,10)\n",
        "n2 = np.random.randint(1,21,10)\n",
        "print(n1)\n",
        "print(n2)"
      ]
    },
    {
      "cell_type": "code",
      "execution_count": 44,
      "metadata": {
        "colab": {
          "base_uri": "https://localhost:8080/"
        },
        "id": "PXiAbxIHYfS8",
        "outputId": "b9a31480-da0e-4024-b3c8-324298c1e652"
      },
      "outputs": [
        {
          "data": {
            "text/plain": [
              "array([22, 20, 10, 14, 17, 12, 13, 29, 23, 12])"
            ]
          },
          "execution_count": 44,
          "metadata": {},
          "output_type": "execute_result"
        }
      ],
      "source": [
        "n1+n2"
      ]
    },
    {
      "cell_type": "code",
      "execution_count": 45,
      "metadata": {
        "colab": {
          "base_uri": "https://localhost:8080/"
        },
        "id": "Vi66PG_lYirk",
        "outputId": "95a1605b-9f18-43ca-dfa0-5011745150d3"
      },
      "outputs": [
        {
          "data": {
            "text/plain": [
              "array([ 12,  16,   4,   4, -11, -10,  11,  -5,  -1,  -8])"
            ]
          },
          "execution_count": 45,
          "metadata": {},
          "output_type": "execute_result"
        }
      ],
      "source": [
        "n1-n2"
      ]
    },
    {
      "cell_type": "code",
      "execution_count": 46,
      "metadata": {
        "colab": {
          "base_uri": "https://localhost:8080/"
        },
        "id": "6m7xzMpKYlq9",
        "outputId": "ce716cda-2edb-4529-d7be-05ea08cc4a98"
      },
      "outputs": [
        {
          "data": {
            "text/plain": [
              "array([ 85,  36,  21,  45,  42,  11,  12, 204, 132,  20])"
            ]
          },
          "execution_count": 46,
          "metadata": {},
          "output_type": "execute_result"
        }
      ],
      "source": [
        "n1*n2"
      ]
    },
    {
      "cell_type": "code",
      "execution_count": 47,
      "metadata": {
        "colab": {
          "base_uri": "https://localhost:8080/"
        },
        "id": "8GjpXiMxYnvD",
        "outputId": "ef9a971c-004c-4dc7-98dc-b09bf483c7d9"
      },
      "outputs": [
        {
          "data": {
            "text/plain": [
              "array([ 3.4       ,  9.        ,  2.33333333,  1.8       ,  0.21428571,\n",
              "        0.09090909, 12.        ,  0.70588235,  0.91666667,  0.2       ])"
            ]
          },
          "execution_count": 47,
          "metadata": {},
          "output_type": "execute_result"
        }
      ],
      "source": [
        "n1/n2"
      ]
    },
    {
      "cell_type": "markdown",
      "metadata": {
        "id": "Hl3pb3GEYTJw"
      },
      "source": []
    },
    {
      "cell_type": "code",
      "execution_count": 48,
      "metadata": {
        "colab": {
          "base_uri": "https://localhost:8080/"
        },
        "id": "UlJiKk7_YtCV",
        "outputId": "ef8d6599-d76a-4281-f896-ca8b8e3776b2"
      },
      "outputs": [
        {
          "data": {
            "text/plain": [
              "array([289, 324,  49,  81,   9,   1, 144, 144, 121,   4])"
            ]
          },
          "execution_count": 48,
          "metadata": {},
          "output_type": "execute_result"
        }
      ],
      "source": [
        "n1**2"
      ]
    },
    {
      "cell_type": "code",
      "execution_count": 49,
      "metadata": {
        "colab": {
          "base_uri": "https://localhost:8080/"
        },
        "id": "d99dlShQYxet",
        "outputId": "0733bfbe-6b04-4e69-e86c-884c4d0f1f3a"
      },
      "outputs": [
        {
          "data": {
            "text/plain": [
              "np.int64(608)"
            ]
          },
          "execution_count": 49,
          "metadata": {},
          "output_type": "execute_result"
        }
      ],
      "source": [
        "np.dot(n1,n2)"
      ]
    },
    {
      "cell_type": "code",
      "execution_count": 50,
      "metadata": {
        "colab": {
          "base_uri": "https://localhost:8080/"
        },
        "id": "ptmQcir2Y87k",
        "outputId": "88606ef2-35ae-47dd-c0f7-3ea943009c2c"
      },
      "outputs": [
        {
          "data": {
            "text/plain": [
              "array([ 1,  2,  3,  5,  5, 10, 11, 12, 14, 17])"
            ]
          },
          "execution_count": 50,
          "metadata": {},
          "output_type": "execute_result"
        }
      ],
      "source": [
        "np.sort(n2)"
      ]
    }
  ],
  "metadata": {
    "colab": {
      "provenance": []
    },
    "kernelspec": {
      "display_name": "Python 3",
      "name": "python3"
    },
    "language_info": {
      "name": "python"
    }
  },
  "nbformat": 4,
  "nbformat_minor": 0
}
