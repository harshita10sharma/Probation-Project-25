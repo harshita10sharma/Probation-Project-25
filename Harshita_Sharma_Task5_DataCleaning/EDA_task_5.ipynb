{
  "nbformat": 4,
  "nbformat_minor": 0,
  "metadata": {
    "colab": {
      "provenance": []
    },
    "kernelspec": {
      "name": "python3",
      "display_name": "Python 3"
    },
    "language_info": {
      "name": "python"
    }
  },
  "cells": [
    {
      "cell_type": "code",
      "execution_count": 1,
      "metadata": {
        "colab": {
          "base_uri": "https://localhost:8080/"
        },
        "id": "jBz1rHTvqfjn",
        "outputId": "dc49bca3-b291-4e4c-f17e-e24fc4527492"
      },
      "outputs": [
        {
          "output_type": "stream",
          "name": "stdout",
          "text": [
            "Mounted at /content/drive/\n"
          ]
        }
      ],
      "source": [
        "from google.colab import drive\n",
        "drive.mount('/content/drive/')"
      ]
    },
    {
      "cell_type": "code",
      "source": [
        "import pandas as pd"
      ],
      "metadata": {
        "id": "9GdDxgJ1s1vy"
      },
      "execution_count": 2,
      "outputs": []
    },
    {
      "cell_type": "code",
      "source": [
        "a = pd.read_csv('/content/drive/MyDrive/ML learning/Probation_DataClean.csv')"
      ],
      "metadata": {
        "id": "lRu11hRHtIw8"
      },
      "execution_count": 3,
      "outputs": []
    },
    {
      "cell_type": "code",
      "source": [
        "print(a)"
      ],
      "metadata": {
        "colab": {
          "base_uri": "https://localhost:8080/"
        },
        "id": "F2MJMFlGulLH",
        "outputId": "7f17c062-2995-41fa-bdd1-24d8379582b8"
      },
      "execution_count": 4,
      "outputs": [
        {
          "output_type": "stream",
          "name": "stdout",
          "text": [
            "          Status Age Group    Education    Industry   Location   AI Risk  \\\n",
            "0       EMPLOYED     25_34  high school  Technology      Urban       NaN   \n",
            "1       EMPLOYED     18-24      Diploma     Fintech      rural  moderate   \n",
            "2       EMPLOYED     25_34  High School      Retail      Delhi       Low   \n",
            "3     UNEMPLOYED     18-24      Masters      Retail      Urban       Low   \n",
            "4            NaN     45-54      Diploma     Fintech  Hyderabad       low   \n",
            "...          ...       ...          ...         ...        ...       ...   \n",
            "1995    employed     25-34         Ph.D     Finance  Hyderabad       Low   \n",
            "1996    EMPLOYED     25-34          PhD       Tech         NaN       NaN   \n",
            "1997         NaN   35 - 44      Masters   Education        NaN       low   \n",
            "1998    EMPLOYED     25_34  high school      Retail     Mumbai      HIGH   \n",
            "1999  UNEMPLOYED     25_34  High School         NaN        NaN  moderate   \n",
            "\n",
            "      Years of Experience  Monthly Salary (INR) Date Recorded  \n",
            "0                     NaN               40700.0    01-01-2023  \n",
            "1                     NaN               17500.0    01-02-2023  \n",
            "2                    16.0               77600.0    01-03-2023  \n",
            "3                    30.0              100200.0    01-04-2023  \n",
            "4                     9.0               19500.0    01-05-2023  \n",
            "...                   ...                   ...           ...  \n",
            "1995                  NaN              113000.0     6/18/2028  \n",
            "1996                 22.0              102200.0     6/19/2028  \n",
            "1997                  NaN               31600.0     6/20/2028  \n",
            "1998                 22.0               92500.0     6/21/2028  \n",
            "1999                  NaN               43300.0     6/22/2028  \n",
            "\n",
            "[2000 rows x 9 columns]\n"
          ]
        }
      ]
    },
    {
      "cell_type": "code",
      "source": [
        "print(a.shape)"
      ],
      "metadata": {
        "colab": {
          "base_uri": "https://localhost:8080/"
        },
        "id": "gWrvVpVGvjs2",
        "outputId": "f32ac3b6-7cbd-4a1d-e398-b82655ce1b85"
      },
      "execution_count": 5,
      "outputs": [
        {
          "output_type": "stream",
          "name": "stdout",
          "text": [
            "(2000, 9)\n"
          ]
        }
      ]
    },
    {
      "cell_type": "code",
      "source": [
        "print(a.info())"
      ],
      "metadata": {
        "colab": {
          "base_uri": "https://localhost:8080/"
        },
        "id": "sX8TqQOzvnkA",
        "outputId": "1cf58b55-69cc-4209-a629-e2e515a4532e"
      },
      "execution_count": 6,
      "outputs": [
        {
          "output_type": "stream",
          "name": "stdout",
          "text": [
            "<class 'pandas.core.frame.DataFrame'>\n",
            "RangeIndex: 2000 entries, 0 to 1999\n",
            "Data columns (total 9 columns):\n",
            " #   Column                Non-Null Count  Dtype  \n",
            "---  ------                --------------  -----  \n",
            " 0   Status                1732 non-null   object \n",
            " 1   Age Group             1768 non-null   object \n",
            " 2   Education             1804 non-null   object \n",
            " 3   Industry              1799 non-null   object \n",
            " 4   Location              1787 non-null   object \n",
            " 5   AI Risk               1716 non-null   object \n",
            " 6   Years of Experience   980 non-null    float64\n",
            " 7   Monthly Salary (INR)  1613 non-null   float64\n",
            " 8   Date Recorded         2000 non-null   object \n",
            "dtypes: float64(2), object(7)\n",
            "memory usage: 140.8+ KB\n",
            "None\n"
          ]
        }
      ]
    },
    {
      "cell_type": "code",
      "source": [
        "print(a.head())"
      ],
      "metadata": {
        "colab": {
          "base_uri": "https://localhost:8080/"
        },
        "id": "PUydrIQnv4Fx",
        "outputId": "ef4d5982-7128-45a2-d0f7-69376a318d44"
      },
      "execution_count": 7,
      "outputs": [
        {
          "output_type": "stream",
          "name": "stdout",
          "text": [
            "       Status Age Group    Education    Industry   Location   AI Risk  \\\n",
            "0    EMPLOYED     25_34  high school  Technology      Urban       NaN   \n",
            "1    EMPLOYED     18-24      Diploma     Fintech      rural  moderate   \n",
            "2    EMPLOYED     25_34  High School      Retail      Delhi       Low   \n",
            "3  UNEMPLOYED     18-24      Masters      Retail      Urban       Low   \n",
            "4         NaN     45-54      Diploma     Fintech  Hyderabad       low   \n",
            "\n",
            "   Years of Experience  Monthly Salary (INR) Date Recorded  \n",
            "0                  NaN               40700.0    01-01-2023  \n",
            "1                  NaN               17500.0    01-02-2023  \n",
            "2                 16.0               77600.0    01-03-2023  \n",
            "3                 30.0              100200.0    01-04-2023  \n",
            "4                  9.0               19500.0    01-05-2023  \n"
          ]
        }
      ]
    },
    {
      "cell_type": "code",
      "source": [
        "print(a.tail())"
      ],
      "metadata": {
        "colab": {
          "base_uri": "https://localhost:8080/"
        },
        "id": "GYHy-WCHwDIN",
        "outputId": "723583db-e8b9-45e9-8cc4-5a42b7c933fc"
      },
      "execution_count": 8,
      "outputs": [
        {
          "output_type": "stream",
          "name": "stdout",
          "text": [
            "          Status Age Group    Education   Industry   Location   AI Risk  \\\n",
            "1995    employed     25-34         Ph.D    Finance  Hyderabad       Low   \n",
            "1996    EMPLOYED     25-34          PhD      Tech         NaN       NaN   \n",
            "1997         NaN   35 - 44      Masters  Education        NaN       low   \n",
            "1998    EMPLOYED     25_34  high school     Retail     Mumbai      HIGH   \n",
            "1999  UNEMPLOYED     25_34  High School        NaN        NaN  moderate   \n",
            "\n",
            "      Years of Experience  Monthly Salary (INR) Date Recorded  \n",
            "1995                  NaN              113000.0     6/18/2028  \n",
            "1996                 22.0              102200.0     6/19/2028  \n",
            "1997                  NaN               31600.0     6/20/2028  \n",
            "1998                 22.0               92500.0     6/21/2028  \n",
            "1999                  NaN               43300.0     6/22/2028  \n"
          ]
        }
      ]
    },
    {
      "cell_type": "code",
      "source": [
        "print(a.dtypes)"
      ],
      "metadata": {
        "colab": {
          "base_uri": "https://localhost:8080/"
        },
        "id": "Is7Buy1YwITO",
        "outputId": "b2f3ca1d-9736-4fe0-8cdf-c88394f970ef"
      },
      "execution_count": 9,
      "outputs": [
        {
          "output_type": "stream",
          "name": "stdout",
          "text": [
            "Status                   object\n",
            "Age Group                object\n",
            "Education                object\n",
            "Industry                 object\n",
            "Location                 object\n",
            "AI Risk                  object\n",
            "Years of Experience     float64\n",
            "Monthly Salary (INR)    float64\n",
            "Date Recorded            object\n",
            "dtype: object\n"
          ]
        }
      ]
    },
    {
      "cell_type": "code",
      "source": [
        "print(a.isna())"
      ],
      "metadata": {
        "colab": {
          "base_uri": "https://localhost:8080/"
        },
        "id": "Ax9gJyBowK6Z",
        "outputId": "b820d53f-c3d8-4b7d-d446-f3416f5d8fd8"
      },
      "execution_count": 10,
      "outputs": [
        {
          "output_type": "stream",
          "name": "stdout",
          "text": [
            "      Status  Age Group  Education  Industry  Location  AI Risk  \\\n",
            "0      False      False      False     False     False     True   \n",
            "1      False      False      False     False     False    False   \n",
            "2      False      False      False     False     False    False   \n",
            "3      False      False      False     False     False    False   \n",
            "4       True      False      False     False     False    False   \n",
            "...      ...        ...        ...       ...       ...      ...   \n",
            "1995   False      False      False     False     False    False   \n",
            "1996   False      False      False     False      True     True   \n",
            "1997    True      False      False     False      True    False   \n",
            "1998   False      False      False     False     False    False   \n",
            "1999   False      False      False      True      True    False   \n",
            "\n",
            "      Years of Experience  Monthly Salary (INR)  Date Recorded  \n",
            "0                    True                 False          False  \n",
            "1                    True                 False          False  \n",
            "2                   False                 False          False  \n",
            "3                   False                 False          False  \n",
            "4                   False                 False          False  \n",
            "...                   ...                   ...            ...  \n",
            "1995                 True                 False          False  \n",
            "1996                False                 False          False  \n",
            "1997                 True                 False          False  \n",
            "1998                False                 False          False  \n",
            "1999                 True                 False          False  \n",
            "\n",
            "[2000 rows x 9 columns]\n"
          ]
        }
      ]
    },
    {
      "cell_type": "code",
      "source": [
        "print(a.isna().sum())"
      ],
      "metadata": {
        "colab": {
          "base_uri": "https://localhost:8080/"
        },
        "id": "ovYrfZLrw8Wd",
        "outputId": "5a08fb99-3be1-43f3-cec1-4d6171576960"
      },
      "execution_count": 11,
      "outputs": [
        {
          "output_type": "stream",
          "name": "stdout",
          "text": [
            "Status                   268\n",
            "Age Group                232\n",
            "Education                196\n",
            "Industry                 201\n",
            "Location                 213\n",
            "AI Risk                  284\n",
            "Years of Experience     1020\n",
            "Monthly Salary (INR)     387\n",
            "Date Recorded              0\n",
            "dtype: int64\n"
          ]
        }
      ]
    },
    {
      "cell_type": "code",
      "source": [
        "print(a.sample(10))"
      ],
      "metadata": {
        "colab": {
          "base_uri": "https://localhost:8080/"
        },
        "id": "MnTMI7iPxd7t",
        "outputId": "7a1c7658-369e-43a8-d622-b10f53e8feb8"
      },
      "execution_count": 12,
      "outputs": [
        {
          "output_type": "stream",
          "name": "stdout",
          "text": [
            "          Status Age Group    Education    Industry   Location   AI Risk  \\\n",
            "1343  UNEMPLOYED       55+         Ph.D   Education      rural  moderate   \n",
            "1222  unemployed     45-54      Masters     Fintech     Mumbai      HIGH   \n",
            "649     employed     25-34      Masters       Tech   Bangalore      High   \n",
            "66    Unemployed     18-24         Ph.D         NaN        NaN  moderate   \n",
            "1601    EMPLOYED     25_34  High School  Technology     Mumbai      HIGH   \n",
            "1539         NaN     45-54    Bachelors  Healthcare     Mumbai       Low   \n",
            "1860  UNEMPLOYED   35 - 44  high school       Tech       rural       Low   \n",
            "1039         NaN     25_34  high school         NaN      urban    Medium   \n",
            "1705         NaN   35 - 44      Diploma         NaN        NaN      High   \n",
            "1323         NaN   35 - 44   Bachelor's      Retail      rural    Medium   \n",
            "\n",
            "      Years of Experience  Monthly Salary (INR) Date Recorded  \n",
            "1343                 18.0               12700.0    09-05-2026  \n",
            "1222                 25.0                   NaN    05-07-2026  \n",
            "649                   2.0               26800.0    10-11-2024  \n",
            "66                    NaN                   NaN    03-08-2023  \n",
            "1601                  NaN              110800.0     5/21/2027  \n",
            "1539                 24.0              126400.0     3/20/2027  \n",
            "1860                  9.0               64600.0    02-04-2028  \n",
            "1039                 28.0              115300.0    11-05-2025  \n",
            "1705                  NaN               38200.0    09-02-2027  \n",
            "1323                  NaN               42200.0     8/16/2026  \n"
          ]
        }
      ]
    },
    {
      "cell_type": "code",
      "source": [
        "print(a.describe())"
      ],
      "metadata": {
        "colab": {
          "base_uri": "https://localhost:8080/"
        },
        "id": "A0XYeMypzMLS",
        "outputId": "ee75c3db-81e7-4a41-9a8b-01049436da61"
      },
      "execution_count": 13,
      "outputs": [
        {
          "output_type": "stream",
          "name": "stdout",
          "text": [
            "       Years of Experience  Monthly Salary (INR)\n",
            "count           980.000000           1613.000000\n",
            "mean             15.244898          76886.360818\n",
            "std               9.103941          41628.008054\n",
            "min               0.000000           5100.000000\n",
            "25%               7.000000          40700.000000\n",
            "50%              16.000000          77200.000000\n",
            "75%              23.000000         112400.000000\n",
            "max              30.000000         149900.000000\n"
          ]
        }
      ]
    },
    {
      "cell_type": "code",
      "source": [
        "print(a.duplicated())"
      ],
      "metadata": {
        "colab": {
          "base_uri": "https://localhost:8080/"
        },
        "id": "GcZLLgQez5xN",
        "outputId": "8d201fb7-6c1d-4cd3-dd91-d1e587536f6a"
      },
      "execution_count": 14,
      "outputs": [
        {
          "output_type": "stream",
          "name": "stdout",
          "text": [
            "0       False\n",
            "1       False\n",
            "2       False\n",
            "3       False\n",
            "4       False\n",
            "        ...  \n",
            "1995    False\n",
            "1996    False\n",
            "1997    False\n",
            "1998    False\n",
            "1999    False\n",
            "Length: 2000, dtype: bool\n"
          ]
        }
      ]
    },
    {
      "cell_type": "code",
      "source": [
        "print(a.duplicated().sum())"
      ],
      "metadata": {
        "colab": {
          "base_uri": "https://localhost:8080/"
        },
        "id": "j4uoPHmZ0Ex9",
        "outputId": "1f3ebc68-58e7-4fa0-8374-2d61264d5766"
      },
      "execution_count": 15,
      "outputs": [
        {
          "output_type": "stream",
          "name": "stdout",
          "text": [
            "0\n"
          ]
        }
      ]
    },
    {
      "cell_type": "code",
      "source": [
        "a1 = a['Status'].value_counts()\n",
        "a2 = a['Age Group'].value_counts()\n",
        "a3 = a['Education'].value_counts()\n",
        "a4 = a['Industry'].value_counts()\n",
        "a5 = a['Location'].value_counts()\n",
        "a6 = a['AI Risk'].value_counts()\n",
        "a7 = a['Years of Experience'].value_counts()\n",
        "a8 = a['Monthly Salary (INR)'].value_counts()\n",
        "print(a1,'/n',a2,'/n',a3,'/n',a4,'/n',a5,'/n',a6,'/n',a7,'/n',a8)"
      ],
      "metadata": {
        "colab": {
          "base_uri": "https://localhost:8080/"
        },
        "id": "Waka5TBQ0Q8D",
        "outputId": "b2812a43-0eaf-4005-bf83-63013ddd91f7"
      },
      "execution_count": 16,
      "outputs": [
        {
          "output_type": "stream",
          "name": "stdout",
          "text": [
            "Status\n",
            "Employed      302\n",
            "employed      297\n",
            "UNEMPLOYED    289\n",
            "EMPLOYED      286\n",
            "unemployed    283\n",
            "Unemployed    275\n",
            "Name: count, dtype: int64 /n Age Group\n",
            "18 to 24    262\n",
            "45-54       261\n",
            "18-24       256\n",
            "25_34       254\n",
            "35 - 44     247\n",
            "55+         244\n",
            "25-34       244\n",
            "Name: count, dtype: int64 /n Education\n",
            "Bachelors      225\n",
            "Masters        217\n",
            "High School    204\n",
            "Diploma        204\n",
            "PhD            201\n",
            "Bachelor's     200\n",
            "Ph.D           199\n",
            "Master         181\n",
            "high school    173\n",
            "Name: count, dtype: int64 /n Industry\n",
            "Retail        429\n",
            "Health        211\n",
            "Healthcare    207\n",
            " Fintech      194\n",
            "Finance       194\n",
            "Education     193\n",
            "Technology    186\n",
            "Tech          185\n",
            "Name: count, dtype: int64 /n Location\n",
            "Bangalore    233\n",
            "suburban     231\n",
            "Delhi        230\n",
            "urban        227\n",
            "Mumbai       226\n",
            "Hyderabad    215\n",
            "Urban        211\n",
            "rural        211\n",
            "delhi          3\n",
            "Name: count, dtype: int64 /n AI Risk\n",
            "HIGH        308\n",
            "Low         293\n",
            "High        288\n",
            "moderate    285\n",
            "Medium      279\n",
            "low         263\n",
            "Name: count, dtype: int64 /n Years of Experience\n",
            "20.0    42\n",
            "26.0    42\n",
            "16.0    41\n",
            "7.0     40\n",
            "5.0     40\n",
            "22.0    39\n",
            "18.0    36\n",
            "28.0    36\n",
            "29.0    36\n",
            "0.0     35\n",
            "1.0     34\n",
            "10.0    34\n",
            "2.0     33\n",
            "25.0    32\n",
            "24.0    31\n",
            "3.0     31\n",
            "21.0    30\n",
            "13.0    29\n",
            "6.0     29\n",
            "30.0    29\n",
            "27.0    29\n",
            "11.0    29\n",
            "19.0    28\n",
            "14.0    28\n",
            "23.0    28\n",
            "9.0     27\n",
            "17.0    26\n",
            "8.0     24\n",
            "15.0    21\n",
            "4.0     21\n",
            "12.0    20\n",
            "Name: count, dtype: int64 /n Monthly Salary (INR)\n",
            "28100.0     6\n",
            "109300.0    5\n",
            "88000.0     5\n",
            "92500.0     5\n",
            "18100.0     5\n",
            "           ..\n",
            "140700.0    1\n",
            "97000.0     1\n",
            "94300.0     1\n",
            "13400.0     1\n",
            "43600.0     1\n",
            "Name: count, Length: 978, dtype: int64\n"
          ]
        }
      ]
    },
    {
      "cell_type": "code",
      "source": [
        "a['Status']=a['Status'].fillna(a['Status'].mode()[0])\n",
        "a['Age Group'] = a['Age Group'].fillna(a['Age Group'].mode()[0])\n",
        "a['Education'] = a['Education'].fillna(a['Education'].mode()[0])\n",
        "a['Industry']=a['Industry'].fillna(a['Industry'].mode()[0])\n",
        "a['Location'] = a['Location'].fillna(a['Location'].mode()[0])\n",
        "a['AI Risk'] = a['AI Risk'].fillna(a['AI Risk'].mode()[0])\n",
        "a['Years of Experience'] = a['Years of Experience'].fillna(a['Years of Experience'].mode()[0])\n",
        "a['Monthly Salary (INR)'] = a['Monthly Salary (INR)'].fillna(a['Monthly Salary (INR)'].mode()[0])"
      ],
      "metadata": {
        "id": "laj7mdVb6Lg7"
      },
      "execution_count": 17,
      "outputs": []
    },
    {
      "cell_type": "code",
      "source": [
        "a.isna().sum()"
      ],
      "metadata": {
        "colab": {
          "base_uri": "https://localhost:8080/",
          "height": 366
        },
        "id": "_LinhNs98GQk",
        "outputId": "01866186-a61e-4f96-afb3-59971dfe29bf"
      },
      "execution_count": 18,
      "outputs": [
        {
          "output_type": "execute_result",
          "data": {
            "text/plain": [
              "Status                  0\n",
              "Age Group               0\n",
              "Education               0\n",
              "Industry                0\n",
              "Location                0\n",
              "AI Risk                 0\n",
              "Years of Experience     0\n",
              "Monthly Salary (INR)    0\n",
              "Date Recorded           0\n",
              "dtype: int64"
            ],
            "text/html": [
              "<div>\n",
              "<style scoped>\n",
              "    .dataframe tbody tr th:only-of-type {\n",
              "        vertical-align: middle;\n",
              "    }\n",
              "\n",
              "    .dataframe tbody tr th {\n",
              "        vertical-align: top;\n",
              "    }\n",
              "\n",
              "    .dataframe thead th {\n",
              "        text-align: right;\n",
              "    }\n",
              "</style>\n",
              "<table border=\"1\" class=\"dataframe\">\n",
              "  <thead>\n",
              "    <tr style=\"text-align: right;\">\n",
              "      <th></th>\n",
              "      <th>0</th>\n",
              "    </tr>\n",
              "  </thead>\n",
              "  <tbody>\n",
              "    <tr>\n",
              "      <th>Status</th>\n",
              "      <td>0</td>\n",
              "    </tr>\n",
              "    <tr>\n",
              "      <th>Age Group</th>\n",
              "      <td>0</td>\n",
              "    </tr>\n",
              "    <tr>\n",
              "      <th>Education</th>\n",
              "      <td>0</td>\n",
              "    </tr>\n",
              "    <tr>\n",
              "      <th>Industry</th>\n",
              "      <td>0</td>\n",
              "    </tr>\n",
              "    <tr>\n",
              "      <th>Location</th>\n",
              "      <td>0</td>\n",
              "    </tr>\n",
              "    <tr>\n",
              "      <th>AI Risk</th>\n",
              "      <td>0</td>\n",
              "    </tr>\n",
              "    <tr>\n",
              "      <th>Years of Experience</th>\n",
              "      <td>0</td>\n",
              "    </tr>\n",
              "    <tr>\n",
              "      <th>Monthly Salary (INR)</th>\n",
              "      <td>0</td>\n",
              "    </tr>\n",
              "    <tr>\n",
              "      <th>Date Recorded</th>\n",
              "      <td>0</td>\n",
              "    </tr>\n",
              "  </tbody>\n",
              "</table>\n",
              "</div><br><label><b>dtype:</b> int64</label>"
            ]
          },
          "metadata": {},
          "execution_count": 18
        }
      ]
    },
    {
      "cell_type": "code",
      "source": [
        "print(a)"
      ],
      "metadata": {
        "colab": {
          "base_uri": "https://localhost:8080/"
        },
        "id": "2VMucj1x8oko",
        "outputId": "907a7d57-5aca-4016-fc62-739d78077ee1"
      },
      "execution_count": 19,
      "outputs": [
        {
          "output_type": "stream",
          "name": "stdout",
          "text": [
            "          Status Age Group    Education    Industry   Location   AI Risk  \\\n",
            "0       EMPLOYED     25_34  high school  Technology      Urban      HIGH   \n",
            "1       EMPLOYED     18-24      Diploma     Fintech      rural  moderate   \n",
            "2       EMPLOYED     25_34  High School      Retail      Delhi       Low   \n",
            "3     UNEMPLOYED     18-24      Masters      Retail      Urban       Low   \n",
            "4       Employed     45-54      Diploma     Fintech  Hyderabad       low   \n",
            "...          ...       ...          ...         ...        ...       ...   \n",
            "1995    employed     25-34         Ph.D     Finance  Hyderabad       Low   \n",
            "1996    EMPLOYED     25-34          PhD       Tech   Bangalore      HIGH   \n",
            "1997    Employed   35 - 44      Masters   Education  Bangalore       low   \n",
            "1998    EMPLOYED     25_34  high school      Retail     Mumbai      HIGH   \n",
            "1999  UNEMPLOYED     25_34  High School      Retail  Bangalore  moderate   \n",
            "\n",
            "      Years of Experience  Monthly Salary (INR) Date Recorded  \n",
            "0                    20.0               40700.0    01-01-2023  \n",
            "1                    20.0               17500.0    01-02-2023  \n",
            "2                    16.0               77600.0    01-03-2023  \n",
            "3                    30.0              100200.0    01-04-2023  \n",
            "4                     9.0               19500.0    01-05-2023  \n",
            "...                   ...                   ...           ...  \n",
            "1995                 20.0              113000.0     6/18/2028  \n",
            "1996                 22.0              102200.0     6/19/2028  \n",
            "1997                 20.0               31600.0     6/20/2028  \n",
            "1998                 22.0               92500.0     6/21/2028  \n",
            "1999                 20.0               43300.0     6/22/2028  \n",
            "\n",
            "[2000 rows x 9 columns]\n"
          ]
        }
      ]
    },
    {
      "cell_type": "code",
      "source": [
        "print(a.head())"
      ],
      "metadata": {
        "colab": {
          "base_uri": "https://localhost:8080/"
        },
        "id": "F_CZac4K8pGJ",
        "outputId": "c65654e4-3bce-4d70-ff84-67a43351eade"
      },
      "execution_count": 20,
      "outputs": [
        {
          "output_type": "stream",
          "name": "stdout",
          "text": [
            "       Status Age Group    Education    Industry   Location   AI Risk  \\\n",
            "0    EMPLOYED     25_34  high school  Technology      Urban      HIGH   \n",
            "1    EMPLOYED     18-24      Diploma     Fintech      rural  moderate   \n",
            "2    EMPLOYED     25_34  High School      Retail      Delhi       Low   \n",
            "3  UNEMPLOYED     18-24      Masters      Retail      Urban       Low   \n",
            "4    Employed     45-54      Diploma     Fintech  Hyderabad       low   \n",
            "\n",
            "   Years of Experience  Monthly Salary (INR) Date Recorded  \n",
            "0                 20.0               40700.0    01-01-2023  \n",
            "1                 20.0               17500.0    01-02-2023  \n",
            "2                 16.0               77600.0    01-03-2023  \n",
            "3                 30.0              100200.0    01-04-2023  \n",
            "4                  9.0               19500.0    01-05-2023  \n"
          ]
        }
      ]
    },
    {
      "cell_type": "code",
      "source": [
        "print(a.info())"
      ],
      "metadata": {
        "colab": {
          "base_uri": "https://localhost:8080/"
        },
        "id": "J8QLmx0o8v2D",
        "outputId": "f2288275-06c6-4782-9a1e-4f3e61e8dd68"
      },
      "execution_count": 21,
      "outputs": [
        {
          "output_type": "stream",
          "name": "stdout",
          "text": [
            "<class 'pandas.core.frame.DataFrame'>\n",
            "RangeIndex: 2000 entries, 0 to 1999\n",
            "Data columns (total 9 columns):\n",
            " #   Column                Non-Null Count  Dtype  \n",
            "---  ------                --------------  -----  \n",
            " 0   Status                2000 non-null   object \n",
            " 1   Age Group             2000 non-null   object \n",
            " 2   Education             2000 non-null   object \n",
            " 3   Industry              2000 non-null   object \n",
            " 4   Location              2000 non-null   object \n",
            " 5   AI Risk               2000 non-null   object \n",
            " 6   Years of Experience   2000 non-null   float64\n",
            " 7   Monthly Salary (INR)  2000 non-null   float64\n",
            " 8   Date Recorded         2000 non-null   object \n",
            "dtypes: float64(2), object(7)\n",
            "memory usage: 140.8+ KB\n",
            "None\n"
          ]
        }
      ]
    },
    {
      "cell_type": "markdown",
      "source": [
        "VISUALISATION"
      ],
      "metadata": {
        "id": "zA3o-jBG9qca"
      }
    },
    {
      "cell_type": "code",
      "source": [
        "import matplotlib.pyplot as plt\n",
        "import seaborn as sns"
      ],
      "metadata": {
        "id": "2GJiXwXr9zzW"
      },
      "execution_count": 22,
      "outputs": []
    },
    {
      "cell_type": "code",
      "source": [
        "plt.figure(figsize = (10,10))\n",
        "plt.hist(a['Education'])"
      ],
      "metadata": {
        "colab": {
          "base_uri": "https://localhost:8080/",
          "height": 885
        },
        "id": "LxO8Bb0ZArzD",
        "outputId": "6e5381ca-542b-4cd0-ce79-4b0d2308d44b"
      },
      "execution_count": 23,
      "outputs": [
        {
          "output_type": "execute_result",
          "data": {
            "text/plain": [
              "(array([173., 204., 204., 217.,   0., 201., 181., 199., 421., 200.]),\n",
              " array([0. , 0.8, 1.6, 2.4, 3.2, 4. , 4.8, 5.6, 6.4, 7.2, 8. ]),\n",
              " <BarContainer object of 10 artists>)"
            ]
          },
          "metadata": {},
          "execution_count": 23
        },
        {
          "output_type": "display_data",
          "data": {
            "text/plain": [
              "<Figure size 1000x1000 with 1 Axes>"
            ],
            "image/png": "[encoded data removed]"
          },
          "metadata": {}
        }
      ]
    }
  ]
}