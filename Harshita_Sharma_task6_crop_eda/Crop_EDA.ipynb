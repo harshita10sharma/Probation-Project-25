{
  "nbformat": 4,
  "nbformat_minor": 0,
  "metadata": {
    "colab": {
      "provenance": []
    },
    "kernelspec": {
      "name": "python3",
      "display_name": "Python 3"
    },
    "language_info": {
      "name": "python"
    }
  },
  "cells": [
    {
      "cell_type": "code",
      "execution_count": 497,
      "metadata": {
        "id": "S2bXfUBbPpKT",
        "colab": {
          "base_uri": "https://localhost:8080/"
        },
        "outputId": "c5c1049f-9a9e-4871-962e-4834b60dd1cb"
      },
      "outputs": [
        {
          "output_type": "stream",
          "name": "stdout",
          "text": [
            "Drive already mounted at /content/drive; to attempt to forcibly remount, call drive.mount(\"/content/drive\", force_remount=True).\n"
          ]
        }
      ],
      "source": [
        "from google.colab import drive\n",
        "drive.mount('/content/drive')"
      ]
    },
    {
      "cell_type": "code",
      "source": [
        "import pandas as pd"
      ],
      "metadata": {
        "id": "ZrrAymrVUQX1"
      },
      "execution_count": 498,
      "outputs": []
    },
    {
      "cell_type": "code",
      "source": [
        "data = pd.read_csv('/content/drive/MyDrive/ML learning/EDA - EDA.csv.csv')"
      ],
      "metadata": {
        "id": "rAYueSzSUTec"
      },
      "execution_count": 499,
      "outputs": []
    },
    {
      "cell_type": "code",
      "source": [
        "print(data)"
      ],
      "metadata": {
        "colab": {
          "base_uri": "https://localhost:8080/"
        },
        "id": "CF33WgRuUZ3B",
        "outputId": "9ad912c0-c58c-44c6-94e7-634ba6178e7e"
      },
      "execution_count": 500,
      "outputs": [
        {
          "output_type": "stream",
          "name": "stdout",
          "text": [
            "                Crop  Crop_Year      Season              State      Area  \\\n",
            "0           Arecanut       1997  Whole Year              Assam   73814.0   \n",
            "1          Arhar/Tur       1997      Kharif              Assam    6637.0   \n",
            "2        Castor seed       1997      Kharif              Assam     796.0   \n",
            "3            Coconut       1997  Whole Year              Assam   19656.0   \n",
            "4       Cotton(lint)       1997      Kharif              Assam    1739.0   \n",
            "...              ...        ...         ...                ...       ...   \n",
            "19684  Small millets       1998      Kharif           Nagaland    4000.0   \n",
            "19685          Wheat       1998        Rabi           Nagaland    1000.0   \n",
            "19686          Maize       1997      Kharif  Jammu and Kashmir  310883.0   \n",
            "19687           Rice       1997      Kharif  Jammu and Kashmir  275746.0   \n",
            "19688          Wheat       1997        Rabi  Jammu and Kashmir  239344.0   \n",
            "\n",
            "       Production  Annual_Rainfall   Fertilizer  Pesticide        Yield  \n",
            "0           56708           2051.4   7024878.38   22882.34     0.796087  \n",
            "1            4685           2051.4    631643.29    2057.47     0.710435  \n",
            "2              22           2051.4     75755.32     246.76     0.238333  \n",
            "3       126905000           2051.4   1870661.52    6093.36  5238.051739  \n",
            "4             794           2051.4    165500.63     539.09     0.420909  \n",
            "...           ...              ...          ...        ...          ...  \n",
            "19684        2000           1498.0    395200.00    1160.00     0.500000  \n",
            "19685        3000           1498.0     98800.00     290.00     3.000000  \n",
            "19686      440900           1356.2  29586735.11   96373.73     1.285000  \n",
            "19687        5488           1356.2  26242746.82   85481.26     0.016667  \n",
            "19688      392160           1356.2  22778368.48   74196.64     1.261818  \n",
            "\n",
            "[19689 rows x 10 columns]\n"
          ]
        }
      ]
    },
    {
      "cell_type": "code",
      "source": [
        "print(data.info())"
      ],
      "metadata": {
        "colab": {
          "base_uri": "https://localhost:8080/"
        },
        "id": "DVP1ls0aUz7k",
        "outputId": "2bd2fea4-c0a0-4723-bbee-2247406ce054"
      },
      "execution_count": 501,
      "outputs": [
        {
          "output_type": "stream",
          "name": "stdout",
          "text": [
            "<class 'pandas.core.frame.DataFrame'>\n",
            "RangeIndex: 19689 entries, 0 to 19688\n",
            "Data columns (total 10 columns):\n",
            " #   Column           Non-Null Count  Dtype  \n",
            "---  ------           --------------  -----  \n",
            " 0   Crop             19689 non-null  object \n",
            " 1   Crop_Year        19689 non-null  int64  \n",
            " 2   Season           19689 non-null  object \n",
            " 3   State            19689 non-null  object \n",
            " 4   Area             19689 non-null  float64\n",
            " 5   Production       19689 non-null  int64  \n",
            " 6   Annual_Rainfall  19689 non-null  float64\n",
            " 7   Fertilizer       19689 non-null  float64\n",
            " 8   Pesticide        19689 non-null  float64\n",
            " 9   Yield            19689 non-null  float64\n",
            "dtypes: float64(5), int64(2), object(3)\n",
            "memory usage: 1.5+ MB\n",
            "None\n"
          ]
        }
      ]
    },
    {
      "cell_type": "code",
      "source": [
        "print(data.isnull().sum())"
      ],
      "metadata": {
        "colab": {
          "base_uri": "https://localhost:8080/"
        },
        "id": "vO47u1fUU-Pe",
        "outputId": "2f1760c9-a458-4ebf-c185-98e737eebf51"
      },
      "execution_count": 502,
      "outputs": [
        {
          "output_type": "stream",
          "name": "stdout",
          "text": [
            "Crop               0\n",
            "Crop_Year          0\n",
            "Season             0\n",
            "State              0\n",
            "Area               0\n",
            "Production         0\n",
            "Annual_Rainfall    0\n",
            "Fertilizer         0\n",
            "Pesticide          0\n",
            "Yield              0\n",
            "dtype: int64\n"
          ]
        }
      ]
    },
    {
      "cell_type": "code",
      "source": [
        "print(\"Duplicate rows:\",data.duplicated().sum())"
      ],
      "metadata": {
        "colab": {
          "base_uri": "https://localhost:8080/"
        },
        "id": "BCXQ4CDuViED",
        "outputId": "a683f692-d0ba-4c40-8650-9157218606c0"
      },
      "execution_count": 503,
      "outputs": [
        {
          "output_type": "stream",
          "name": "stdout",
          "text": [
            "Duplicate rows: 0\n"
          ]
        }
      ]
    },
    {
      "cell_type": "code",
      "source": [
        "print(data.describe())"
      ],
      "metadata": {
        "colab": {
          "base_uri": "https://localhost:8080/"
        },
        "id": "YzX3ZFxLVqwx",
        "outputId": "1f894630-62c4-42ad-e0d3-52d59658054e"
      },
      "execution_count": 504,
      "outputs": [
        {
          "output_type": "stream",
          "name": "stdout",
          "text": [
            "          Crop_Year          Area    Production  Annual_Rainfall  \\\n",
            "count  19689.000000  1.968900e+04  1.968900e+04     19689.000000   \n",
            "mean    2009.127584  1.799266e+05  1.643594e+07      1437.755177   \n",
            "std        6.498099  7.328287e+05  2.630568e+08       816.909589   \n",
            "min     1997.000000  5.000000e-01  0.000000e+00       301.300000   \n",
            "25%     2004.000000  1.390000e+03  1.393000e+03       940.700000   \n",
            "50%     2010.000000  9.317000e+03  1.380400e+04      1247.600000   \n",
            "75%     2015.000000  7.511200e+04  1.227180e+05      1643.700000   \n",
            "max     2020.000000  5.080810e+07  6.326000e+09      6552.700000   \n",
            "\n",
            "         Fertilizer     Pesticide         Yield  \n",
            "count  1.968900e+04  1.968900e+04  19689.000000  \n",
            "mean   2.410331e+07  4.884835e+04     79.954009  \n",
            "std    9.494600e+07  2.132874e+05    878.306193  \n",
            "min    5.417000e+01  9.000000e-02      0.000000  \n",
            "25%    1.880146e+05  3.567000e+02      0.600000  \n",
            "50%    1.234957e+06  2.421900e+03      1.030000  \n",
            "75%    1.000385e+07  2.004170e+04      2.388889  \n",
            "max    4.835407e+09  1.575051e+07  21105.000000  \n"
          ]
        }
      ]
    },
    {
      "cell_type": "code",
      "source": [
        "print(data.describe(include=[object]))\n"
      ],
      "metadata": {
        "colab": {
          "base_uri": "https://localhost:8080/"
        },
        "id": "BcDUC45ml48b",
        "outputId": "13e39512-c928-475e-e30d-e4c285d653f1"
      },
      "execution_count": 505,
      "outputs": [
        {
          "output_type": "stream",
          "name": "stdout",
          "text": [
            "         Crop  Season      State\n",
            "count   19689   19689      19689\n",
            "unique     55       6         30\n",
            "top      Rice  Kharif  Karnataka\n",
            "freq     1197    8232       1432\n"
          ]
        }
      ]
    },
    {
      "cell_type": "code",
      "source": [
        "print(\"Unique values in each column:\")\n",
        "for col in data.columns:\n",
        "    print(col, \":\", data[col].nunique())"
      ],
      "metadata": {
        "colab": {
          "base_uri": "https://localhost:8080/"
        },
        "id": "AuhqxDmsdMB-",
        "outputId": "6a73996f-e89b-43b1-c1f5-f8973f04a23d"
      },
      "execution_count": 506,
      "outputs": [
        {
          "output_type": "stream",
          "name": "stdout",
          "text": [
            "Unique values in each column:\n",
            "Crop : 55\n",
            "Crop_Year : 24\n",
            "Season : 6\n",
            "State : 30\n",
            "Area : 13644\n",
            "Production : 14016\n",
            "Annual_Rainfall : 634\n",
            "Fertilizer : 18598\n",
            "Pesticide : 17405\n",
            "Yield : 13551\n"
          ]
        }
      ]
    },
    {
      "cell_type": "code",
      "source": [
        "for col in data.columns:\n",
        "    print(\"Value counts for \")\n",
        "    print(data[col].value_counts())\n",
        "    print(\"--------------------------------------------------\")\n"
      ],
      "metadata": {
        "colab": {
          "base_uri": "https://localhost:8080/"
        },
        "id": "wG1_OLQGkFmE",
        "outputId": "6c553241-ce75-4f76-e5b8-4f980e53b997"
      },
      "execution_count": 507,
      "outputs": [
        {
          "output_type": "stream",
          "name": "stdout",
          "text": [
            "Value counts for \n",
            "Crop\n",
            "Rice                     1197\n",
            "Maize                     975\n",
            "Moong(Green Gram)         740\n",
            "Urad                      733\n",
            "Groundnut                 725\n",
            "Sesamum                   685\n",
            "Potato                    628\n",
            "Sugarcane                 605\n",
            "Wheat                     545\n",
            "Rapeseed &Mustard         528\n",
            "Bajra                     524\n",
            "Jowar                     513\n",
            "Arhar/Tur                 508\n",
            "Ragi                      498\n",
            "Gram                      490\n",
            "Small millets             485\n",
            "Cotton(lint)              476\n",
            "Onion                     454\n",
            "Sunflower                 441\n",
            "Dry chillies              419\n",
            "Other Kharif pulses       382\n",
            "Horse-gram                371\n",
            "Peas & beans (Pulses)     369\n",
            "Tobacco                   364\n",
            "Other  Rabi pulses        355\n",
            "Soyabean                  349\n",
            "Turmeric                  337\n",
            "Masoor                    324\n",
            "Ginger                    323\n",
            "Linseed                   308\n",
            "Castor seed               300\n",
            "Barley                    297\n",
            "Sweet potato              273\n",
            "Garlic                    250\n",
            "Banana                    245\n",
            "Mesta                     210\n",
            "Tapioca                   201\n",
            "Coriander                 199\n",
            "Niger seed                192\n",
            "Jute                      181\n",
            "Coconut                   172\n",
            "Safflower                 169\n",
            "Arecanut                  162\n",
            "Sannhamp                  160\n",
            "Other Cereals             146\n",
            "Cashewnut                 134\n",
            "Cowpea(Lobia)             134\n",
            "other oilseeds            126\n",
            "Black pepper              126\n",
            "Moth                      110\n",
            "Khesari                    75\n",
            "Cardamom                   74\n",
            "Guar seed                  63\n",
            "Oilseeds total             29\n",
            "Other Summer Pulses        10\n",
            "Name: count, dtype: int64\n",
            "--------------------------------------------------\n",
            "Value counts for \n",
            "Crop_Year\n",
            "2019    1079\n",
            "2017    1070\n",
            "2018    1063\n",
            "2016    1036\n",
            "2015     998\n",
            "2013     976\n",
            "2014     965\n",
            "2011     907\n",
            "2012     894\n",
            "2009     865\n",
            "2010     859\n",
            "2008     847\n",
            "2007     828\n",
            "2006     823\n",
            "2002     815\n",
            "2005     811\n",
            "2003     801\n",
            "2004     787\n",
            "2000     772\n",
            "2001     750\n",
            "1999     650\n",
            "1998     646\n",
            "1997     410\n",
            "2020      37\n",
            "Name: count, dtype: int64\n",
            "--------------------------------------------------\n",
            "Value counts for \n",
            "Season\n",
            "Kharif        8232\n",
            "Rabi          5742\n",
            "Whole Year    3717\n",
            "Summer        1195\n",
            "Autumn         414\n",
            "Winter         389\n",
            "Name: count, dtype: int64\n",
            "--------------------------------------------------\n",
            "Value counts for \n",
            "State\n",
            "Karnataka            1432\n",
            "Andhra Pradesh       1266\n",
            "West Bengal          1094\n",
            "Chhattisgarh          915\n",
            "Bihar                 896\n",
            "Madhya Pradesh        845\n",
            "Uttar Pradesh         825\n",
            "Tamil Nadu            822\n",
            "Gujarat               817\n",
            "Maharashtra           770\n",
            "Uttarakhand           764\n",
            "Odisha                760\n",
            "Assam                 731\n",
            "Nagaland              689\n",
            "Puducherry            670\n",
            "Meghalaya             649\n",
            "Jammu and Kashmir     631\n",
            "Haryana               631\n",
            "Himachal Pradesh      616\n",
            "Kerala                534\n",
            "Manipur               444\n",
            "Tripura               441\n",
            "Mizoram               416\n",
            "Punjab                397\n",
            "Telangana             397\n",
            "Arunachal Pradesh     292\n",
            "Jharkhand             270\n",
            "Goa                   246\n",
            "Sikkim                226\n",
            "Delhi                 203\n",
            "Name: count, dtype: int64\n",
            "--------------------------------------------------\n",
            "Value counts for \n",
            "Area\n",
            "1.0         113\n",
            "3.0          75\n",
            "2.0          66\n",
            "4.0          49\n",
            "5.0          42\n",
            "           ... \n",
            "164978.0      1\n",
            "22747.0       1\n",
            "149191.0      1\n",
            "11137.0       1\n",
            "17959.0       1\n",
            "Name: count, Length: 13644, dtype: int64\n",
            "--------------------------------------------------\n",
            "Value counts for \n",
            "Production\n",
            "0             112\n",
            "1              79\n",
            "2              68\n",
            "3              67\n",
            "4              55\n",
            "             ... \n",
            "1646            1\n",
            "4946800000      1\n",
            "235305          1\n",
            "182776          1\n",
            "2782            1\n",
            "Name: count, Length: 14016, dtype: int64\n",
            "--------------------------------------------------\n",
            "Value counts for \n",
            "Annual_Rainfall\n",
            "1434.5875    360\n",
            "1317.2000     93\n",
            "687.6000      91\n",
            "1201.9000     83\n",
            "1207.0000     74\n",
            "            ... \n",
            "3674.7000      7\n",
            "1498.0000      5\n",
            "3252.4000      5\n",
            "1398.5000      5\n",
            "1356.2000      3\n",
            "Name: count, Length: 634, dtype: int64\n",
            "--------------------------------------------------\n",
            "Value counts for \n",
            "Fertilizer\n",
            "1.508000e+02    11\n",
            "1.717600e+02    10\n",
            "1.622000e+02    10\n",
            "3.435200e+02     9\n",
            "1.444900e+02     9\n",
            "                ..\n",
            "1.612732e+07     1\n",
            "2.527304e+05     1\n",
            "2.357762e+08     1\n",
            "1.590680e+07     1\n",
            "7.740585e+06     1\n",
            "Name: count, Length: 18598, dtype: int64\n",
            "--------------------------------------------------\n",
            "Value counts for \n",
            "Pesticide\n",
            "0.99       19\n",
            "0.35       18\n",
            "0.33       18\n",
            "0.66       16\n",
            "0.48       14\n",
            "           ..\n",
            "16.53       1\n",
            "114.55      1\n",
            "7758.08     1\n",
            "136.01      1\n",
            "81.78       1\n",
            "Name: count, Length: 17405, dtype: int64\n",
            "--------------------------------------------------\n",
            "Value counts for \n",
            "Yield\n",
            "1.000000    167\n",
            "0.000000    112\n",
            "0.500000     73\n",
            "2.000000     47\n",
            "0.750000     42\n",
            "           ... \n",
            "0.615652      1\n",
            "0.461364      1\n",
            "9.919565      1\n",
            "0.465455      1\n",
            "0.420909      1\n",
            "Name: count, Length: 13551, dtype: int64\n",
            "--------------------------------------------------\n"
          ]
        }
      ]
    },
    {
      "cell_type": "code",
      "source": [
        "num_cols = data.select_dtypes(include=np.number).columns\n",
        "for col in num_cols:\n",
        "    Q1 = data[col].quantile(0.25)\n",
        "    Q3 = data[col].quantile(0.75)\n",
        "    IQR = Q3 - Q1\n",
        "    lower = Q1 - 1.5 * IQR\n",
        "    upper = Q3 + 1.5 * IQR\n",
        "    outliers = ((data[col] < lower) | (data[col] > upper)).sum()\n",
        "    print(col ,\":\", outliers ,\"outliers\")\n"
      ],
      "metadata": {
        "colab": {
          "base_uri": "https://localhost:8080/"
        },
        "id": "a8buw0g1dNx3",
        "outputId": "cbb00402-d81c-4651-acab-7a7632563afd"
      },
      "execution_count": 508,
      "outputs": [
        {
          "output_type": "stream",
          "name": "stdout",
          "text": [
            "Crop_Year : 0 outliers\n",
            "Area : 3076 outliers\n",
            "Production : 3373 outliers\n",
            "Annual_Rainfall : 1527 outliers\n",
            "Fertilizer : 3093 outliers\n",
            "Pesticide : 3036 outliers\n",
            "Yield : 3065 outliers\n"
          ]
        }
      ]
    },
    {
      "cell_type": "code",
      "source": [
        "print(data.select_dtypes(include=np.number).skew())\n"
      ],
      "metadata": {
        "colab": {
          "base_uri": "https://localhost:8080/"
        },
        "id": "d24uudejn4Lk",
        "outputId": "e220ad61-6b75-4e57-cbe5-417758abd863"
      },
      "execution_count": 509,
      "outputs": [
        {
          "output_type": "stream",
          "name": "stdout",
          "text": [
            "Crop_Year          -0.162656\n",
            "Area               21.858218\n",
            "Production         19.299193\n",
            "Annual_Rainfall     2.131785\n",
            "Fertilizer         13.412599\n",
            "Pesticide          25.635746\n",
            "Yield              12.785265\n",
            "dtype: float64\n"
          ]
        }
      ]
    },
    {
      "cell_type": "code",
      "source": [
        "\n",
        "data[\"Area\"] = np.log1p(data[\"Area\"])\n",
        "data[\"Production\"] = np.log1p(data[\"Production\"])\n",
        "data[\"Annual_Rainfall\"] = np.log1p(data[\"Annual_Rainfall\"])\n",
        "data[\"Fertilizer\"] = np.log1p(data[\"Fertilizer\"])\n",
        "data[\"Yield\"] = np.log1p(data[\"Yield\"])\n"
      ],
      "metadata": {
        "id": "r52iBEngnbUa"
      },
      "execution_count": 510,
      "outputs": []
    },
    {
      "cell_type": "code",
      "source": [
        "print(data.select_dtypes(include=np.number).skew())\n"
      ],
      "metadata": {
        "colab": {
          "base_uri": "https://localhost:8080/"
        },
        "id": "zQ1Jlv_MnenJ",
        "outputId": "c549f4f3-90b1-48cd-f70a-be4a2b590fca"
      },
      "execution_count": 511,
      "outputs": [
        {
          "output_type": "stream",
          "name": "stdout",
          "text": [
            "Crop_Year          -0.162656\n",
            "Area               -0.340852\n",
            "Production          0.003418\n",
            "Annual_Rainfall     0.077752\n",
            "Fertilizer         -0.383779\n",
            "Pesticide          25.635746\n",
            "Yield               3.660985\n",
            "dtype: float64\n"
          ]
        }
      ]
    },
    {
      "cell_type": "code",
      "source": [
        "num_cols = data.select_dtypes(include=np.number).columns\n",
        "for col in num_cols:\n",
        "    Q1 = data[col].quantile(0.25)\n",
        "    Q3 = data[col].quantile(0.75)\n",
        "    IQR = Q3 - Q1\n",
        "    lower = Q1 - 1.5 * IQR\n",
        "    upper = Q3 + 1.5 * IQR\n",
        "    outliers = ((data[col] < lower) | (data[col] > upper)).sum()\n",
        "    print(col ,\":\", outliers ,\"outliers\")\n"
      ],
      "metadata": {
        "colab": {
          "base_uri": "https://localhost:8080/"
        },
        "id": "1Nj0kwtKcTSi",
        "outputId": "b0263464-78cc-4639-fab0-ecd450728ac9"
      },
      "execution_count": 512,
      "outputs": [
        {
          "output_type": "stream",
          "name": "stdout",
          "text": [
            "Crop_Year : 0 outliers\n",
            "Area : 183 outliers\n",
            "Production : 277 outliers\n",
            "Annual_Rainfall : 942 outliers\n",
            "Fertilizer : 245 outliers\n",
            "Pesticide : 3036 outliers\n",
            "Yield : 1979 outliers\n"
          ]
        }
      ]
    },
    {
      "cell_type": "code",
      "source": [
        "print(\"Correlation matrix:\")\n",
        "print(data.corr(numeric_only=True))"
      ],
      "metadata": {
        "colab": {
          "base_uri": "https://localhost:8080/"
        },
        "id": "9-217hMOgivp",
        "outputId": "280dcf66-bb4f-4e4f-aea2-d43e0e5e4e33"
      },
      "execution_count": 513,
      "outputs": [
        {
          "output_type": "stream",
          "name": "stdout",
          "text": [
            "Correlation matrix:\n",
            "                 Crop_Year      Area  Production  Annual_Rainfall  Fertilizer  \\\n",
            "Crop_Year         1.000000 -0.106848   -0.066105         0.018743   -0.045523   \n",
            "Area             -0.106848  1.000000    0.894875        -0.223101    0.997521   \n",
            "Production       -0.066105  0.894875    1.000000        -0.169127    0.894139   \n",
            "Annual_Rainfall   0.018743 -0.223101   -0.169127         1.000000   -0.221696   \n",
            "Fertilizer       -0.045523  0.997521    0.894139        -0.221696    1.000000   \n",
            "Pesticide        -0.004657  0.386840    0.348997        -0.104224    0.385203   \n",
            "Yield             0.040259  0.079827    0.491945         0.027411    0.081917   \n",
            "\n",
            "                 Pesticide     Yield  \n",
            "Crop_Year        -0.004657  0.040259  \n",
            "Area              0.386840  0.079827  \n",
            "Production        0.348997  0.491945  \n",
            "Annual_Rainfall  -0.104224  0.027411  \n",
            "Fertilizer        0.385203  0.081917  \n",
            "Pesticide         1.000000  0.022534  \n",
            "Yield             0.022534  1.000000  \n"
          ]
        }
      ]
    },
    {
      "cell_type": "code",
      "source": [
        "import seaborn as sns\n",
        "import matplotlib.pyplot as plt\n",
        "\n",
        "plt.figure(figsize=(12, 8))\n",
        "sns.heatmap(corr_matrix, annot=True)\n",
        "plt.title(\"Correlation Matrix Heatmap\")\n",
        "plt.show()"
      ],
      "metadata": {
        "colab": {
          "base_uri": "https://localhost:8080/",
          "height": 699
        },
        "id": "KqCyRNaeEPZ_",
        "outputId": "551af265-4579-410c-e7b5-4493f4bf83c9"
      },
      "execution_count": 514,
      "outputs": [
        {
          "output_type": "display_data",
          "data": {
            "text/plain": [
              "<Figure size 1200x800 with 2 Axes>"
            ],
            "image/png": "[encoded data removed]"
          },
          "metadata": {}
        }
      ]
    },
    {
      "cell_type": "code",
      "source": [
        "data = data.drop(columns=[\"Pesticide\"])\n",
        "print(\"Pesticide column removed.\")\n"
      ],
      "metadata": {
        "colab": {
          "base_uri": "https://localhost:8080/"
        },
        "id": "Kfsr8aVViVPP",
        "outputId": "6800930d-2b1d-48b6-9b99-bac2676990b9"
      },
      "execution_count": 515,
      "outputs": [
        {
          "output_type": "stream",
          "name": "stdout",
          "text": [
            "Pesticide column removed.\n"
          ]
        }
      ]
    },
    {
      "cell_type": "code",
      "source": [
        "print(data[data['Annual_Rainfall'] < 0])\n"
      ],
      "metadata": {
        "colab": {
          "base_uri": "https://localhost:8080/"
        },
        "id": "S6BVcL0dnPm-",
        "outputId": "2c94cba7-108a-4612-9d80-89f3fdbfdaf4"
      },
      "execution_count": 516,
      "outputs": [
        {
          "output_type": "stream",
          "name": "stdout",
          "text": [
            "Empty DataFrame\n",
            "Columns: [Crop, Crop_Year, Season, State, Area, Production, Annual_Rainfall, Fertilizer, Yield]\n",
            "Index: []\n"
          ]
        }
      ]
    },
    {
      "cell_type": "code",
      "source": [
        "print(data[data['Area'] <= 0])"
      ],
      "metadata": {
        "colab": {
          "base_uri": "https://localhost:8080/"
        },
        "id": "7nIxbEFBjWRO",
        "outputId": "b7f75299-8dc9-4a2a-e0af-4ae2139a7913"
      },
      "execution_count": 517,
      "outputs": [
        {
          "output_type": "stream",
          "name": "stdout",
          "text": [
            "Empty DataFrame\n",
            "Columns: [Crop, Crop_Year, Season, State, Area, Production, Annual_Rainfall, Fertilizer, Yield]\n",
            "Index: []\n"
          ]
        }
      ]
    },
    {
      "cell_type": "code",
      "source": [
        "print(data[data['Fertilizer'] == 0])\n"
      ],
      "metadata": {
        "colab": {
          "base_uri": "https://localhost:8080/"
        },
        "id": "FGiC2KWvksay",
        "outputId": "1c364ee2-0b3f-4b37-9745-22c093f7a864"
      },
      "execution_count": 518,
      "outputs": [
        {
          "output_type": "stream",
          "name": "stdout",
          "text": [
            "Empty DataFrame\n",
            "Columns: [Crop, Crop_Year, Season, State, Area, Production, Annual_Rainfall, Fertilizer, Yield]\n",
            "Index: []\n"
          ]
        }
      ]
    },
    {
      "cell_type": "code",
      "source": [
        "print(data.groupby('Season')['Crop'].unique())\n"
      ],
      "metadata": {
        "colab": {
          "base_uri": "https://localhost:8080/"
        },
        "id": "xTJgtTFjnPiB",
        "outputId": "55b0dd3d-dac5-440c-deae-9b21da63fda9"
      },
      "execution_count": 519,
      "outputs": [
        {
          "output_type": "stream",
          "name": "stdout",
          "text": [
            "Season\n",
            "Autumn        [Rice, Ragi, Dry chillies, Sannhamp, Sesamum, ...\n",
            "Kharif        [Arhar/Tur, Castor seed, Cotton(lint), Jute, M...\n",
            "Rabi          [Gram, Linseed, Other  Rabi pulses, Rapeseed &...\n",
            "Summer        [Rice, Bajra, Jowar, Maize, Ragi, Moong(Green ...\n",
            "Whole Year    [Arecanut, Coconut, Dry chillies, Niger seed, ...\n",
            "Winter        [Rice, Potato, Sesamum, Arhar/Tur, Groundnut, ...\n",
            "Name: Crop, dtype: object\n"
          ]
        }
      ]
    },
    {
      "cell_type": "code",
      "source": [
        "print(data['Crop_Year'].value_counts().sort_index())\n"
      ],
      "metadata": {
        "colab": {
          "base_uri": "https://localhost:8080/"
        },
        "id": "GZdi5YBnnXom",
        "outputId": "0bc0ae9e-b0a1-4e0c-ad55-41bd6324d10b"
      },
      "execution_count": 520,
      "outputs": [
        {
          "output_type": "stream",
          "name": "stdout",
          "text": [
            "Crop_Year\n",
            "1997     410\n",
            "1998     646\n",
            "1999     650\n",
            "2000     772\n",
            "2001     750\n",
            "2002     815\n",
            "2003     801\n",
            "2004     787\n",
            "2005     811\n",
            "2006     823\n",
            "2007     828\n",
            "2008     847\n",
            "2009     865\n",
            "2010     859\n",
            "2011     907\n",
            "2012     894\n",
            "2013     976\n",
            "2014     965\n",
            "2015     998\n",
            "2016    1036\n",
            "2017    1070\n",
            "2018    1063\n",
            "2019    1079\n",
            "2020      37\n",
            "Name: count, dtype: int64\n"
          ]
        }
      ]
    },
    {
      "cell_type": "code",
      "source": [
        "print(data.groupby('State')['Crop'].value_counts().groupby(\"State\").head(1))\n"
      ],
      "metadata": {
        "colab": {
          "base_uri": "https://localhost:8080/"
        },
        "id": "3deIibmMng-u",
        "outputId": "7db20680-638d-4a27-ff92-d6e3fc5e4d7d"
      },
      "execution_count": 521,
      "outputs": [
        {
          "output_type": "stream",
          "name": "stdout",
          "text": [
            "State              Crop                 \n",
            "Andhra Pradesh     Groundnut                46\n",
            "Arunachal Pradesh  Maize                    23\n",
            "Assam              Rice                     69\n",
            "Bihar              Maize                    69\n",
            "Chhattisgarh       Moong(Green Gram)        42\n",
            "Delhi              Bajra                    22\n",
            "Goa                Groundnut                42\n",
            "Gujarat            Bajra                    46\n",
            "Haryana            Peas & beans (Pulses)    29\n",
            "Himachal Pradesh   Potato                   34\n",
            "Jammu and Kashmir  Barley                   35\n",
            "Jharkhand          Rice                     31\n",
            "Karnataka          Jowar                    69\n",
            "Kerala             Rice                     66\n",
            "Madhya Pradesh     Jowar                    40\n",
            "Maharashtra        Maize                    68\n",
            "Manipur            Maize                    33\n",
            "Meghalaya          Rice                     57\n",
            "Mizoram            Rice                     48\n",
            "Nagaland           Rice                     41\n",
            "Odisha             Maize                    61\n",
            "Puducherry         Rice                     56\n",
            "Punjab             Moong(Green Gram)        26\n",
            "Sikkim             Maize                    26\n",
            "Tamil Nadu         Cotton(lint)             30\n",
            "Telangana          Arhar/Tur                14\n",
            "Tripura            Moong(Green Gram)        39\n",
            "Uttar Pradesh      Maize                    60\n",
            "Uttarakhand        Maize                    42\n",
            "West Bengal        Moong(Green Gram)        69\n",
            "Name: count, dtype: int64\n"
          ]
        }
      ]
    },
    {
      "cell_type": "code",
      "source": [
        "crop_counts = data['Crop'].value_counts()\n",
        "rare_crops = crop_counts[crop_counts < 50].index\n",
        "print(\"Rare crops:\", list(rare_crops))"
      ],
      "metadata": {
        "colab": {
          "base_uri": "https://localhost:8080/"
        },
        "id": "A4T5bhcino4v",
        "outputId": "9b53e9f5-3de1-4437-f1ab-1d629361b38c"
      },
      "execution_count": 522,
      "outputs": [
        {
          "output_type": "stream",
          "name": "stdout",
          "text": [
            "Rare crops: ['Oilseeds total', 'Other Summer Pulses']\n"
          ]
        }
      ]
    }
  ]
}